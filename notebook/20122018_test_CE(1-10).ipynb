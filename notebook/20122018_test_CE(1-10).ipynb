{
 "cells": [
  {
   "cell_type": "code",
   "execution_count": 1,
   "metadata": {
    "collapsed": true
   },
   "outputs": [],
   "source": [
    "import os\n",
    "import pandas as pd\n",
    "import numpy as np\n",
    "\n",
    "from sklearn import preprocessing\n",
    "from sklearn.pipeline import Pipeline\n",
    "\n",
    "from sklearn.model_selection import train_test_split\n",
    "\n",
    "from sklearn.metrics import classification_report\n",
    "from sklearn.metrics import confusion_matrix\n",
    "from sklearn.metrics import f1_score\n",
    "from sklearn.metrics import accuracy_score\n",
    "import matplotlib.pyplot as plt\n",
    "%matplotlib inline\n",
    "\n",
    "import sys\n",
    "sys.path.append(\"..\") \n",
    "from gcforest.gcforest import GCForest"
   ]
  },
  {
   "cell_type": "markdown",
   "metadata": {},
   "source": [
    "hyperparameters"
   ]
  },
  {
   "cell_type": "code",
   "execution_count": 2,
   "metadata": {
    "collapsed": true
   },
   "outputs": [],
   "source": [
    "test_size = 0.33\n",
    "random_seed = 42\n",
    "cv=5\n",
    "score = 'f1_weighted'\n",
    "max_iteration = 100"
   ]
  },
  {
   "cell_type": "markdown",
   "metadata": {},
   "source": [
    "# load data_four_features"
   ]
  },
  {
   "cell_type": "code",
   "execution_count": 3,
   "metadata": {},
   "outputs": [
    {
     "name": "stdout",
     "output_type": "stream",
     "text": [
      "pH             float64\n",
      "DO(mg/l)       float64\n",
      "CODMn(mg/l)    float64\n",
      "NH3-N(mg/l)    float64\n",
      "本周水质             int64\n",
      "dtype: object\n",
      "(33612, 5)\n"
     ]
    }
   ],
   "source": [
    "path = os.getcwd()+'/../data/20122018freshwater_four_feature.csv'\n",
    "data_four_features = pd.read_csv(path, na_values = np.nan)\n",
    "\n",
    "print(data_four_features.dtypes)\n",
    "print(data_four_features.shape)"
   ]
  },
  {
   "cell_type": "markdown",
   "metadata": {},
   "source": [
    "因为加入gcforest，gcforest默认的y是从0开始计数的，所以将原本从1开始计数的y统一减去1"
   ]
  },
  {
   "cell_type": "code",
   "execution_count": 4,
   "metadata": {
    "collapsed": true
   },
   "outputs": [],
   "source": [
    "X = data_four_features.drop(['本周水质'], axis=1) # Series\n",
    "y = data_four_features['本周水质']-1 # Series"
   ]
  },
  {
   "cell_type": "code",
   "execution_count": 5,
   "metadata": {},
   "outputs": [
    {
     "name": "stdout",
     "output_type": "stream",
     "text": [
      "水质分布情况:\n",
      "1    13272\n",
      "2     8797\n",
      "3     5472\n",
      "0     2438\n",
      "5     2146\n",
      "4     1487\n",
      "Name: 本周水质, dtype: int64\n",
      "\n",
      "各特征类型分布情况:\n",
      "float64    4\n",
      "int64      1\n",
      "dtype: int64\n"
     ]
    }
   ],
   "source": [
    "print(\"水质分布情况:\")\n",
    "print(y.value_counts())\n",
    "print(\"\\n各特征类型分布情况:\")\n",
    "print(data_four_features.dtypes.value_counts())"
   ]
  },
  {
   "cell_type": "code",
   "execution_count": 6,
   "metadata": {},
   "outputs": [
    {
     "data": {
      "text/html": [
       "<div>\n",
       "<style scoped>\n",
       "    .dataframe tbody tr th:only-of-type {\n",
       "        vertical-align: middle;\n",
       "    }\n",
       "\n",
       "    .dataframe tbody tr th {\n",
       "        vertical-align: top;\n",
       "    }\n",
       "\n",
       "    .dataframe thead th {\n",
       "        text-align: right;\n",
       "    }\n",
       "</style>\n",
       "<table border=\"1\" class=\"dataframe\">\n",
       "  <thead>\n",
       "    <tr style=\"text-align: right;\">\n",
       "      <th></th>\n",
       "      <th>pH</th>\n",
       "      <th>DO(mg/l)</th>\n",
       "      <th>CODMn(mg/l)</th>\n",
       "      <th>NH3-N(mg/l)</th>\n",
       "      <th>本周水质</th>\n",
       "    </tr>\n",
       "  </thead>\n",
       "  <tbody>\n",
       "    <tr>\n",
       "      <th>0</th>\n",
       "      <td>7.09</td>\n",
       "      <td>10.0</td>\n",
       "      <td>5.7</td>\n",
       "      <td>0.33</td>\n",
       "      <td>3</td>\n",
       "    </tr>\n",
       "    <tr>\n",
       "      <th>1</th>\n",
       "      <td>6.94</td>\n",
       "      <td>12.0</td>\n",
       "      <td>5.4</td>\n",
       "      <td>0.40</td>\n",
       "      <td>3</td>\n",
       "    </tr>\n",
       "    <tr>\n",
       "      <th>2</th>\n",
       "      <td>7.20</td>\n",
       "      <td>9.6</td>\n",
       "      <td>4.9</td>\n",
       "      <td>0.34</td>\n",
       "      <td>3</td>\n",
       "    </tr>\n",
       "    <tr>\n",
       "      <th>3</th>\n",
       "      <td>6.80</td>\n",
       "      <td>11.6</td>\n",
       "      <td>6.3</td>\n",
       "      <td>0.59</td>\n",
       "      <td>4</td>\n",
       "    </tr>\n",
       "    <tr>\n",
       "      <th>4</th>\n",
       "      <td>6.75</td>\n",
       "      <td>11.0</td>\n",
       "      <td>6.2</td>\n",
       "      <td>0.64</td>\n",
       "      <td>4</td>\n",
       "    </tr>\n",
       "  </tbody>\n",
       "</table>\n",
       "</div>"
      ],
      "text/plain": [
       "     pH  DO(mg/l)  CODMn(mg/l)  NH3-N(mg/l)  本周水质\n",
       "0  7.09      10.0          5.7         0.33     3\n",
       "1  6.94      12.0          5.4         0.40     3\n",
       "2  7.20       9.6          4.9         0.34     3\n",
       "3  6.80      11.6          6.3         0.59     4\n",
       "4  6.75      11.0          6.2         0.64     4"
      ]
     },
     "execution_count": 6,
     "metadata": {},
     "output_type": "execute_result"
    }
   ],
   "source": [
    "data_four_features.head()"
   ]
  },
  {
   "cell_type": "code",
   "execution_count": 7,
   "metadata": {
    "collapsed": true
   },
   "outputs": [],
   "source": [
    "X_train, X_test, y_train, y_test = train_test_split(X, y, test_size=0.2, \n",
    "                                       stratify = y, random_state = random_seed)"
   ]
  },
  {
   "cell_type": "markdown",
   "metadata": {},
   "source": [
    "### normalize  train data\n",
    "\n",
    "fulfill the Na with median, then standardized the data, output type ndarray"
   ]
  },
  {
   "cell_type": "code",
   "execution_count": 8,
   "metadata": {
    "collapsed": true
   },
   "outputs": [],
   "source": [
    "clean_pipeline = Pipeline([('imputer', preprocessing.Imputer(missing_values='NaN',strategy=\"median\")),\n",
    "                           ('std_scaler', preprocessing.StandardScaler()),])\n",
    "X_train = clean_pipeline.fit_transform(X_train)\n",
    "X_test = clean_pipeline.fit_transform(X_test)"
   ]
  },
  {
   "cell_type": "markdown",
   "metadata": {},
   "source": [
    "## TEST CE"
   ]
  },
  {
   "cell_type": "code",
   "execution_count": 9,
   "metadata": {
    "collapsed": true
   },
   "outputs": [],
   "source": [
    "X_train, X_valid, y_train, y_valid = train_test_split(X_train, y_train, test_size=0.25, \n",
    "                                       stratify = y_train, random_state = random_seed)"
   ]
  },
  {
   "cell_type": "code",
   "execution_count": 10,
   "metadata": {},
   "outputs": [
    {
     "name": "stderr",
     "output_type": "stream",
     "text": [
      "/Users/alex/anaconda3/envs/gc/lib/python3.6/site-packages/sklearn/metrics/classification.py:1135: UndefinedMetricWarning: F-score is ill-defined and being set to 0.0 in labels with no predicted samples.\n",
      "  'precision', 'predicted', average, warn_for)\n"
     ]
    },
    {
     "name": "stdout",
     "output_type": "stream",
     "text": [
      "LogisticRegression, valid weighted f1 score:0.618051\n",
      "LinearDiscriminantAnalysis, valid weighted f1 score:0.569881\n",
      "SVC, valid weighted f1 score:0.886775\n",
      "DecisionTreeClassifier, valid weighted f1 score:0.987514\n",
      "ExtraTreeClassifier, valid weighted f1 score:0.895863\n",
      "GaussianNB, valid weighted f1 score:0.812976\n",
      "KNeighborsClassifier, valid weighted f1 score:0.891579\n",
      "RandomForestClassifier, valid weighted f1 score:0.994051\n",
      "ExtraTreesClassifier, valid weighted f1 score:0.973277\n"
     ]
    },
    {
     "name": "stderr",
     "output_type": "stream",
     "text": [
      "[ 2018-12-21 00:06:43,500][cascade_classifier.transform] X_groups_test.shape=[(6723, 4)]\n",
      "[ 2018-12-21 00:06:43,502][cascade_classifier.transform] group_dims=[4]\n",
      "[ 2018-12-21 00:06:43,504][cascade_classifier.transform] X_test.shape=(6723, 4)\n",
      "[ 2018-12-21 00:06:43,507][cascade_classifier.transform] [layer=0] look_indexs=[0], X_cur_test.shape=(6723, 4)\n",
      "[ 2018-12-21 00:06:43,743][cascade_classifier.transform] [layer=1] look_indexs=[0], X_cur_test.shape=(6723, 52)\n",
      "[ 2018-12-21 00:06:43,973][cascade_classifier.transform] [layer=2] look_indexs=[0], X_cur_test.shape=(6723, 52)\n",
      "[ 2018-12-21 00:06:44,190][cascade_classifier.transform] [layer=3] look_indexs=[0], X_cur_test.shape=(6723, 52)\n",
      "[ 2018-12-21 00:06:44,401][cascade_classifier.transform] [layer=4] look_indexs=[0], X_cur_test.shape=(6723, 52)\n",
      "[ 2018-12-21 00:06:44,617][cascade_classifier.transform] [layer=5] look_indexs=[0], X_cur_test.shape=(6723, 52)\n",
      "[ 2018-12-21 00:06:44,857][cascade_classifier.transform] X_groups_test.shape=[(6723, 4)]\n",
      "[ 2018-12-21 00:06:44,858][cascade_classifier.transform] group_dims=[4]\n",
      "[ 2018-12-21 00:06:44,859][cascade_classifier.transform] X_test.shape=(6723, 4)\n",
      "[ 2018-12-21 00:06:44,862][cascade_classifier.transform] [layer=0] look_indexs=[0], X_cur_test.shape=(6723, 4)\n",
      "[ 2018-12-21 00:06:45,056][cascade_classifier.transform] [layer=1] look_indexs=[0], X_cur_test.shape=(6723, 52)\n",
      "[ 2018-12-21 00:06:45,293][cascade_classifier.transform] [layer=2] look_indexs=[0], X_cur_test.shape=(6723, 52)\n",
      "[ 2018-12-21 00:06:45,525][cascade_classifier.transform] [layer=3] look_indexs=[0], X_cur_test.shape=(6723, 52)\n",
      "[ 2018-12-21 00:06:45,749][cascade_classifier.transform] [layer=4] look_indexs=[0], X_cur_test.shape=(6723, 52)\n",
      "[ 2018-12-21 00:06:45,969][cascade_classifier.transform] [layer=5] look_indexs=[0], X_cur_test.shape=(6723, 52)\n"
     ]
    },
    {
     "name": "stdout",
     "output_type": "stream",
     "text": [
      "GCForest, valid weighted f1 score:0.994052\n"
     ]
    }
   ],
   "source": [
    "models = [\n",
    "    \"LogisticRegression\",\n",
    "    \"LinearDiscriminantAnalysis\",\n",
    "    \"SVC\",\n",
    "    \"DecisionTreeClassifier\",\n",
    "    \"ExtraTreeClassifier\",\n",
    "    \"GaussianNB\",\n",
    "    \"KNeighborsClassifier\",\n",
    "    \"RandomForestClassifier\",\n",
    "    \"ExtraTreesClassifier\",\n",
    "    \"GCForest\"\n",
    "]\n",
    "\n",
    "\n",
    "y_pred_proba_all = []\n",
    "\n",
    "import pickle\n",
    "i=0\n",
    "for model in models:\n",
    "    model_name = model\n",
    "    model_path = \"../pkl/CE_97661_10/CE_\" + model_name + \".pkl\"\n",
    "    with open(model_path, \"rb\") as f:\n",
    "        models[i] = pickle.load(f)\n",
    "    y_pred_proba = models[i].predict_proba(X_valid)\n",
    "    y_pred = models[i].predict(X_valid)\n",
    "    print(\"%s, valid weighted f1 score:%f\" %(model_name, f1_score(y_valid, y_pred, average=\"weighted\")))\n",
    "    y_pred_proba_all.append(y_pred_proba)\n",
    "    i = i+1"
   ]
  },
  {
   "cell_type": "markdown",
   "metadata": {},
   "source": [
    "测试集"
   ]
  },
  {
   "cell_type": "code",
   "execution_count": 11,
   "metadata": {
    "collapsed": true
   },
   "outputs": [],
   "source": [
    "population_best_weight = np.load(\"../npy/CE_best_weights(1-10).npy\")\n",
    "\n",
    "classifier_num = 10"
   ]
  },
  {
   "cell_type": "code",
   "execution_count": 12,
   "metadata": {},
   "outputs": [
    {
     "name": "stdout",
     "output_type": "stream",
     "text": [
      "LogisticRegression, test weighted f1 score:0.620574\n",
      "LinearDiscriminantAnalysis, test weighted f1 score:0.576099\n"
     ]
    },
    {
     "name": "stderr",
     "output_type": "stream",
     "text": [
      "/Users/alex/anaconda3/envs/gc/lib/python3.6/site-packages/sklearn/metrics/classification.py:1135: UndefinedMetricWarning: F-score is ill-defined and being set to 0.0 in labels with no predicted samples.\n",
      "  'precision', 'predicted', average, warn_for)\n"
     ]
    },
    {
     "name": "stdout",
     "output_type": "stream",
     "text": [
      "SVC, test weighted f1 score:0.894545\n",
      "DecisionTreeClassifier, test weighted f1 score:0.970527\n",
      "ExtraTreeClassifier, test weighted f1 score:0.895450\n",
      "GaussianNB, test weighted f1 score:0.822296\n",
      "KNeighborsClassifier, test weighted f1 score:0.897799\n",
      "RandomForestClassifier, test weighted f1 score:0.976184\n",
      "ExtraTreesClassifier, test weighted f1 score:0.962632"
     ]
    },
    {
     "name": "stderr",
     "output_type": "stream",
     "text": [
      "[ 2018-12-21 00:06:48,780][cascade_classifier.transform] X_groups_test.shape=[(6723, 4)]\n",
      "[ 2018-12-21 00:06:48,781][cascade_classifier.transform] group_dims=[4]\n",
      "[ 2018-12-21 00:06:48,782][cascade_classifier.transform] X_test.shape=(6723, 4)\n",
      "[ 2018-12-21 00:06:48,783][cascade_classifier.transform] [layer=0] look_indexs=[0], X_cur_test.shape=(6723, 4)\n",
      "[ 2018-12-21 00:06:48,977][cascade_classifier.transform] [layer=1] look_indexs=[0], X_cur_test.shape=(6723, 52)\n",
      "[ 2018-12-21 00:06:49,197][cascade_classifier.transform] [layer=2] look_indexs=[0], X_cur_test.shape=(6723, 52)\n",
      "[ 2018-12-21 00:06:49,407][cascade_classifier.transform] [layer=3] look_indexs=[0], X_cur_test.shape=(6723, 52)\n",
      "[ 2018-12-21 00:06:49,614][cascade_classifier.transform] [layer=4] look_indexs=[0], X_cur_test.shape=(6723, 52)\n",
      "[ 2018-12-21 00:06:49,851][cascade_classifier.transform] [layer=5] look_indexs=[0], X_cur_test.shape=(6723, 52)\n",
      "[ 2018-12-21 00:06:50,097][cascade_classifier.transform] X_groups_test.shape=[(6723, 4)]\n",
      "[ 2018-12-21 00:06:50,098][cascade_classifier.transform] group_dims=[4]\n",
      "[ 2018-12-21 00:06:50,098][cascade_classifier.transform] X_test.shape=(6723, 4)\n",
      "[ 2018-12-21 00:06:50,100][cascade_classifier.transform] [layer=0] look_indexs=[0], X_cur_test.shape=(6723, 4)\n",
      "[ 2018-12-21 00:06:50,324][cascade_classifier.transform] [layer=1] look_indexs=[0], X_cur_test.shape=(6723, 52)\n",
      "[ 2018-12-21 00:06:50,559][cascade_classifier.transform] [layer=2] look_indexs=[0], X_cur_test.shape=(6723, 52)\n",
      "[ 2018-12-21 00:06:50,791][cascade_classifier.transform] [layer=3] look_indexs=[0], X_cur_test.shape=(6723, 52)\n",
      "[ 2018-12-21 00:06:51,010][cascade_classifier.transform] [layer=4] look_indexs=[0], X_cur_test.shape=(6723, 52)\n",
      "[ 2018-12-21 00:06:51,227][cascade_classifier.transform] [layer=5] look_indexs=[0], X_cur_test.shape=(6723, 52)\n"
     ]
    },
    {
     "name": "stdout",
     "output_type": "stream",
     "text": [
      "\n",
      "GCForest, test weighted f1 score:0.976472\n",
      "NCE\n",
      "             precision    recall  f1-score   support\n",
      "\n",
      "          0     0.9099    0.9939    0.9500       488\n",
      "          1     0.9927    0.9763    0.9844      2655\n",
      "          2     0.9835    0.9801    0.9818      1760\n",
      "          3     0.9779    0.9698    0.9738      1094\n",
      "          4     0.9327    0.9327    0.9327       297\n",
      "          5     0.9594    0.9907    0.9748       429\n",
      "\n",
      "avg / total     0.9771    0.9765    0.9766      6723\n",
      "\n",
      "1 accuaracy: 0.993852\n",
      "2 accuaracy: 0.976271\n",
      "3 accuaracy: 0.980114\n",
      "4 accuaracy: 0.969835\n",
      "5 accuaracy: 0.932660\n",
      "6 accuaracy: 0.990676\n",
      "acc: 0.976498586940354\n",
      "f1_weighted 0.9766154358913746\n"
     ]
    }
   ],
   "source": [
    "y_test_pred_proba_all = []\n",
    "for model in models:\n",
    "    model_name = model.__class__.__name__\n",
    "    y_test_pred_proba = model.predict_proba(X_test)\n",
    "    y_test_pred = model.predict(X_test)\n",
    "    print(\"%s, test weighted f1 score:%f\" %(model_name, f1_score(y_test, y_test_pred, average=\"weighted\")))\n",
    "    y_test_pred_proba_all.append(y_test_pred_proba)\n",
    "    \n",
    "    \n",
    "y_test_pred_ensemble_proba = np.zeros((len(y_test), 6)) # 集成器概率向量\n",
    "\n",
    "# 为每一个基学习器乘上权重\n",
    "for k in range(classifier_num):\n",
    "    y_test_pred_ensemble_proba += y_test_pred_proba_all[k] * population_best_weight[k]\n",
    "y_test_pred_ensemble = np.argmax(y_test_pred_ensemble_proba, axis=1)\n",
    "\n",
    "print(\"NCE\")\n",
    "print(classification_report(y_test, y_test_pred_ensemble, digits=4))\n",
    "\n",
    "cm = confusion_matrix(y_test, y_test_pred_ensemble)\n",
    "i=0\n",
    "acc_all = np.zeros(6)\n",
    "for c in cm:\n",
    "    acc_all[i] = c[i]/np.sum(c)\n",
    "    print(\"%d accuaracy: %f\" %(i+1, acc_all[i]))\n",
    "    i=i+1\n",
    "print(\"acc:\", np.sum(y_test == y_test_pred_ensemble)/y_test_pred_ensemble.shape[0])\n",
    "print('f1_weighted', f1_score(y_test, y_test_pred_ensemble, average='weighted'))"
   ]
  },
  {
   "cell_type": "code",
   "execution_count": 23,
   "metadata": {},
   "outputs": [
    {
     "data": {
      "text/plain": [
       "array([0.   , 0.   , 0.   , 0.   , 0.   , 0.379, 0.   , 0.   , 0.   ,\n",
       "       0.62 ])"
      ]
     },
     "execution_count": 23,
     "metadata": {},
     "output_type": "execute_result"
    }
   ],
   "source": [
    "np.around(population_best_weight/np.sum(population_best_weight), 3)"
   ]
  },
  {
   "cell_type": "code",
   "execution_count": null,
   "metadata": {
    "collapsed": true
   },
   "outputs": [],
   "source": []
  }
 ],
 "metadata": {
  "kernelspec": {
   "display_name": "Python [default]",
   "language": "python",
   "name": "python3"
  },
  "language_info": {
   "codemirror_mode": {
    "name": "ipython",
    "version": 3
   },
   "file_extension": ".py",
   "mimetype": "text/x-python",
   "name": "python",
   "nbconvert_exporter": "python",
   "pygments_lexer": "ipython3",
   "version": "3.6.2"
  }
 },
 "nbformat": 4,
 "nbformat_minor": 2
}
