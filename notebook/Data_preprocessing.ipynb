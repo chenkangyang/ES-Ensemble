{
 "cells": [
  {
   "cell_type": "code",
   "execution_count": 1,
   "metadata": {
    "collapsed": true
   },
   "outputs": [],
   "source": [
    "import os\n",
    "import pandas as pd\n",
    "import numpy as np\n",
    "\n",
    "from sklearn import preprocessing\n",
    "from sklearn.pipeline import Pipeline\n",
    "import matplotlib\n",
    "import matplotlib.pyplot as plt\n",
    "import seaborn as sns\n",
    "\n",
    "%matplotlib inline"
   ]
  },
  {
   "cell_type": "markdown",
   "metadata": {},
   "source": [
    "# 载入初始CSV数据"
   ]
  },
  {
   "cell_type": "code",
   "execution_count": 2,
   "metadata": {},
   "outputs": [
    {
     "name": "stdout",
     "output_type": "stream",
     "text": [
      "(33614, 8)\n"
     ]
    }
   ],
   "source": [
    "path = os.getcwd()+'/../data/20122018freshwater.csv'\n",
    "df = pd.read_csv(path, na_values = np.nan)\n",
    "print(df.shape)"
   ]
  },
  {
   "cell_type": "code",
   "execution_count": 3,
   "metadata": {},
   "outputs": [
    {
     "data": {
      "text/html": [
       "<div>\n",
       "<style scoped>\n",
       "    .dataframe tbody tr th:only-of-type {\n",
       "        vertical-align: middle;\n",
       "    }\n",
       "\n",
       "    .dataframe tbody tr th {\n",
       "        vertical-align: top;\n",
       "    }\n",
       "\n",
       "    .dataframe thead th {\n",
       "        text-align: right;\n",
       "    }\n",
       "</style>\n",
       "<table border=\"1\" class=\"dataframe\">\n",
       "  <thead>\n",
       "    <tr style=\"text-align: right;\">\n",
       "      <th></th>\n",
       "      <th>水系</th>\n",
       "      <th>点位名称</th>\n",
       "      <th>河流名称</th>\n",
       "      <th>pH</th>\n",
       "      <th>DO(mg/l)</th>\n",
       "      <th>CODMn(mg/l)</th>\n",
       "      <th>NH3-N(mg/l)</th>\n",
       "      <th>本周水质</th>\n",
       "    </tr>\n",
       "  </thead>\n",
       "  <tbody>\n",
       "    <tr>\n",
       "      <th>0</th>\n",
       "      <td>巢湖流域</td>\n",
       "      <td>安徽巢湖裕溪口</td>\n",
       "      <td>巢湖</td>\n",
       "      <td>7.09</td>\n",
       "      <td>10.0</td>\n",
       "      <td>5.7</td>\n",
       "      <td>0.33</td>\n",
       "      <td>3</td>\n",
       "    </tr>\n",
       "    <tr>\n",
       "      <th>1</th>\n",
       "      <td>巢湖流域</td>\n",
       "      <td>合肥湖滨</td>\n",
       "      <td>巢湖</td>\n",
       "      <td>6.94</td>\n",
       "      <td>12.0</td>\n",
       "      <td>5.4</td>\n",
       "      <td>0.40</td>\n",
       "      <td>3</td>\n",
       "    </tr>\n",
       "    <tr>\n",
       "      <th>2</th>\n",
       "      <td>巢湖流域</td>\n",
       "      <td>安徽巢湖裕溪口</td>\n",
       "      <td>巢湖</td>\n",
       "      <td>7.20</td>\n",
       "      <td>9.6</td>\n",
       "      <td>4.9</td>\n",
       "      <td>0.34</td>\n",
       "      <td>3</td>\n",
       "    </tr>\n",
       "    <tr>\n",
       "      <th>3</th>\n",
       "      <td>巢湖流域</td>\n",
       "      <td>合肥湖滨</td>\n",
       "      <td>巢湖</td>\n",
       "      <td>6.80</td>\n",
       "      <td>11.6</td>\n",
       "      <td>6.3</td>\n",
       "      <td>0.59</td>\n",
       "      <td>4</td>\n",
       "    </tr>\n",
       "    <tr>\n",
       "      <th>4</th>\n",
       "      <td>巢湖流域</td>\n",
       "      <td>合肥湖滨</td>\n",
       "      <td>巢湖</td>\n",
       "      <td>6.75</td>\n",
       "      <td>11.0</td>\n",
       "      <td>6.2</td>\n",
       "      <td>0.64</td>\n",
       "      <td>4</td>\n",
       "    </tr>\n",
       "  </tbody>\n",
       "</table>\n",
       "</div>"
      ],
      "text/plain": [
       "     水系     点位名称 河流名称    pH  DO(mg/l)  CODMn(mg/l)  NH3-N(mg/l) 本周水质\n",
       "0  巢湖流域  安徽巢湖裕溪口   巢湖  7.09      10.0          5.7         0.33    3\n",
       "1  巢湖流域     合肥湖滨   巢湖  6.94      12.0          5.4         0.40    3\n",
       "2  巢湖流域  安徽巢湖裕溪口   巢湖  7.20       9.6          4.9         0.34    3\n",
       "3  巢湖流域     合肥湖滨   巢湖  6.80      11.6          6.3         0.59    4\n",
       "4  巢湖流域     合肥湖滨   巢湖  6.75      11.0          6.2         0.64    4"
      ]
     },
     "execution_count": 3,
     "metadata": {},
     "output_type": "execute_result"
    }
   ],
   "source": [
    "df.head()"
   ]
  },
  {
   "cell_type": "code",
   "execution_count": 4,
   "metadata": {
    "collapsed": true
   },
   "outputs": [],
   "source": [
    "df = df[['pH', 'DO(mg/l)', 'CODMn(mg/l)', 'NH3-N(mg/l)']]\n",
    "df = df.rename(columns={'pH':'$pH$','DO(mg/l)':'$DO\\,(mg/L)$','CODMn(mg/l)':'$COD_{Mn}\\,(mg/L)$','NH3-N(mg/l)':'$NH3-N\\,(mg/L)$'})"
   ]
  },
  {
   "cell_type": "code",
   "execution_count": 5,
   "metadata": {},
   "outputs": [
    {
     "data": {
      "text/html": [
       "<div>\n",
       "<style scoped>\n",
       "    .dataframe tbody tr th:only-of-type {\n",
       "        vertical-align: middle;\n",
       "    }\n",
       "\n",
       "    .dataframe tbody tr th {\n",
       "        vertical-align: top;\n",
       "    }\n",
       "\n",
       "    .dataframe thead th {\n",
       "        text-align: right;\n",
       "    }\n",
       "</style>\n",
       "<table border=\"1\" class=\"dataframe\">\n",
       "  <thead>\n",
       "    <tr style=\"text-align: right;\">\n",
       "      <th></th>\n",
       "      <th>$pH$</th>\n",
       "      <th>$DO\\,(mg/L)$</th>\n",
       "      <th>$COD_{Mn}\\,(mg/L)$</th>\n",
       "      <th>$NH3-N\\,(mg/L)$</th>\n",
       "    </tr>\n",
       "  </thead>\n",
       "  <tbody>\n",
       "    <tr>\n",
       "      <th>0</th>\n",
       "      <td>7.09</td>\n",
       "      <td>10.0</td>\n",
       "      <td>5.7</td>\n",
       "      <td>0.33</td>\n",
       "    </tr>\n",
       "    <tr>\n",
       "      <th>1</th>\n",
       "      <td>6.94</td>\n",
       "      <td>12.0</td>\n",
       "      <td>5.4</td>\n",
       "      <td>0.40</td>\n",
       "    </tr>\n",
       "    <tr>\n",
       "      <th>2</th>\n",
       "      <td>7.20</td>\n",
       "      <td>9.6</td>\n",
       "      <td>4.9</td>\n",
       "      <td>0.34</td>\n",
       "    </tr>\n",
       "    <tr>\n",
       "      <th>3</th>\n",
       "      <td>6.80</td>\n",
       "      <td>11.6</td>\n",
       "      <td>6.3</td>\n",
       "      <td>0.59</td>\n",
       "    </tr>\n",
       "    <tr>\n",
       "      <th>4</th>\n",
       "      <td>6.75</td>\n",
       "      <td>11.0</td>\n",
       "      <td>6.2</td>\n",
       "      <td>0.64</td>\n",
       "    </tr>\n",
       "  </tbody>\n",
       "</table>\n",
       "</div>"
      ],
      "text/plain": [
       "   $pH$  $DO\\,(mg/L)$  $COD_{Mn}\\,(mg/L)$  $NH3-N\\,(mg/L)$\n",
       "0  7.09          10.0                 5.7             0.33\n",
       "1  6.94          12.0                 5.4             0.40\n",
       "2  7.20           9.6                 4.9             0.34\n",
       "3  6.80          11.6                 6.3             0.59\n",
       "4  6.75          11.0                 6.2             0.64"
      ]
     },
     "execution_count": 5,
     "metadata": {},
     "output_type": "execute_result"
    }
   ],
   "source": [
    "df.head()"
   ]
  },
  {
   "cell_type": "markdown",
   "metadata": {},
   "source": [
    "# 调取matplotlib做数据可视化"
   ]
  },
  {
   "cell_type": "code",
   "execution_count": 6,
   "metadata": {},
   "outputs": [
    {
     "data": {
      "text/plain": [
       "['/System/Library/Fonts/SFNSDisplayCondensed-Ultralight.otf',\n",
       " '/System/Library/Fonts/SFCompactText-Regular.otf',\n",
       " '/System/Library/Fonts/Keyboard.ttf',\n",
       " '/System/Library/Fonts/SFNSTextCondensed-Regular.otf',\n",
       " '/System/Library/Fonts/Apple Braille Outline 8 Dot.ttf',\n",
       " '/System/Library/Fonts/SFNSSymbols-Regular.otf',\n",
       " '/Library/Fonts/Courier New Bold.ttf',\n",
       " '/System/Library/Fonts/SFCompactDisplay-Light.otf',\n",
       " '/System/Library/Fonts/SFNSDisplay-UltralightItalic.otf',\n",
       " '/Library/Fonts/STIXVar.otf',\n",
       " '/System/Library/Fonts/SFCompactDisplay-Black.otf',\n",
       " '/Library/Fonts/Lao Sangam MN.ttf',\n",
       " '/Library/Fonts/STIXSizFourSymBol.otf',\n",
       " '/Library/Fonts/Apple Chancery.ttf',\n",
       " '/System/Library/Fonts/SFNSTextCondensed-Light.otf',\n",
       " '/Library/Fonts/Bodoni 72 Smallcaps Book.ttf',\n",
       " '/Library/Fonts/Times New Roman Bold.ttf',\n",
       " '/System/Library/Fonts/SFCompactRounded-Medium.otf',\n",
       " '/Library/Fonts/STIXIntDBol.otf',\n",
       " '/System/Library/Fonts/LastResort.otf',\n",
       " '/Library/Fonts/NISC18030.ttf',\n",
       " '/Library/Fonts/Times New Roman Italic.ttf',\n",
       " '/System/Library/Fonts/SFCompactText-MediumItalic.otf',\n",
       " '/Library/Fonts/STIXSizThreeSymBol.otf',\n",
       " '/Library/Fonts/Krungthep.ttf',\n",
       " '/System/Library/Fonts/SFNSDisplayCondensed-Medium.otf',\n",
       " '/System/Library/Fonts/SFNSSymbols-Semibold.otf',\n",
       " '/System/Library/Fonts/SFCompactRounded-Semibold.otf',\n",
       " '/Library/Fonts/Tahoma.ttf',\n",
       " '/Library/Fonts/STIXGeneralBol.otf',\n",
       " '/System/Library/Fonts/Apple Braille Pinpoint 6 Dot.ttf',\n",
       " '/Library/Fonts/Zapfino.ttf',\n",
       " '/Library/Fonts/STIXIntUpBol.otf',\n",
       " '/System/Library/Fonts/SFCompactRounded-Bold.otf',\n",
       " '/System/Library/Fonts/Apple Braille Outline 6 Dot.ttf',\n",
       " '/System/Library/Fonts/SFNSDisplayCondensed-Thin.otf',\n",
       " '/Library/Fonts/Mishafi Gold.ttf',\n",
       " '/Library/Fonts/Kokonor.ttf',\n",
       " '/Library/Fonts/Khmer Sangam MN.ttf',\n",
       " '/Library/Fonts/STIXNonUni.otf',\n",
       " '/Library/Fonts/Arial Rounded Bold.ttf',\n",
       " '/System/Library/Fonts/Apple Braille.ttf',\n",
       " '/System/Library/Fonts/SFCompactText-Medium.otf',\n",
       " '/System/Library/Fonts/SFCompactText-Bold.otf',\n",
       " '/System/Library/Fonts/SFCompactDisplay-Ultralight.otf',\n",
       " '/System/Library/Fonts/SFNSTextCondensed-Medium.otf',\n",
       " '/System/Library/Fonts/SFCompactDisplay-Medium.otf',\n",
       " '/System/Library/Fonts/SFNSTextCondensed-Heavy.otf',\n",
       " '/System/Library/Fonts/SFCompactText-Semibold.otf',\n",
       " '/Library/Fonts/AppleGothic.ttf',\n",
       " '/System/Library/Fonts/SFCompactRounded-Heavy.otf',\n",
       " '/Library/Fonts/Georgia Bold.ttf',\n",
       " '/Library/Fonts/STIXIntUpDReg.otf',\n",
       " '/Library/Fonts/Diwan Thuluth.ttf',\n",
       " '/System/Library/Fonts/SFNSDisplay-ThinG4.otf',\n",
       " '/Library/Fonts/STIXNonUniIta.otf',\n",
       " '/Library/Fonts/Hoefler Text Ornaments.ttf',\n",
       " '/Library/Fonts/STIXIntSmReg.otf',\n",
       " '/Library/Fonts/Arial Narrow Bold Italic.ttf',\n",
       " '/Library/Fonts/Courier New Bold Italic.ttf',\n",
       " '/System/Library/Fonts/SFCompactRounded-Black.otf',\n",
       " '/System/Library/Fonts/SFCompactText-Heavy.otf',\n",
       " '/System/Library/Fonts/SFNSSymbols-Medium.otf',\n",
       " '/Library/Fonts/STIXNonUniBol.otf',\n",
       " '/Library/Fonts/Farisi.ttf',\n",
       " '/Library/Fonts/Verdana Bold.ttf',\n",
       " '/System/Library/Fonts/SFNSRounded.ttf',\n",
       " '/System/Library/Fonts/SFNSDisplay-ThinItalic.otf',\n",
       " '/Library/Fonts/Arial Unicode.ttf',\n",
       " '/System/Library/Fonts/SFCompactDisplay-Semibold.otf',\n",
       " '/System/Library/Fonts/Symbol.ttf',\n",
       " '/System/Library/Fonts/SFCompactText-BoldItalic.otf',\n",
       " '/System/Library/Fonts/SFCompactRounded-Regular.otf',\n",
       " '/Library/Fonts/Bradley Hand Bold.ttf',\n",
       " '/Library/Fonts/Trattatello.ttf',\n",
       " '/Library/Fonts/Comic Sans MS.ttf',\n",
       " '/Library/Fonts/Arial Italic.ttf',\n",
       " '/Library/Fonts/STIXNonUniBolIta.otf',\n",
       " '/Library/Fonts/STIXGeneral.otf',\n",
       " '/System/Library/Fonts/SFNSSymbols-Thin.otf',\n",
       " '/System/Library/Fonts/SFCompactDisplay-Heavy.otf',\n",
       " '/Library/Fonts/Mishafi.ttf',\n",
       " '/System/Library/Fonts/SFNSDisplayCondensed-Bold.otf',\n",
       " '/System/Library/Fonts/SFNSDisplay-HeavyItalic.otf',\n",
       " '/Library/Fonts/STIXSizThreeSymReg.otf',\n",
       " '/Library/Fonts/Arial Bold.ttf',\n",
       " '/Library/Fonts/STIXIntSmBol.otf',\n",
       " '/Library/Fonts/Trebuchet MS.ttf',\n",
       " '/Library/Fonts/DIN Condensed Bold.ttf',\n",
       " '/System/Library/Fonts/SFCompactText-RegularItalic.otf',\n",
       " '/Library/Fonts/STIXSizTwoSymBol.otf',\n",
       " '/Library/Fonts/Georgia Bold Italic.ttf',\n",
       " '/Library/Fonts/Andale Mono.ttf',\n",
       " '/Library/Fonts/Verdana Italic.ttf',\n",
       " '/Library/Fonts/Chalkduster.ttf',\n",
       " '/Library/Fonts/Arial Bold Italic.ttf',\n",
       " '/Library/Fonts/STIXSizFiveSymReg.otf',\n",
       " '/Library/Fonts/Arial Narrow.ttf',\n",
       " '/System/Library/Fonts/SFNSDisplay-ThinG2.otf',\n",
       " '/Library/Fonts/STIXGeneralItalic.otf',\n",
       " '/Library/Fonts/Skia.ttf',\n",
       " '/Library/Fonts/Arial Black.ttf',\n",
       " '/System/Library/Fonts/SFNSDisplay-ThinG1.otf',\n",
       " '/System/Library/Fonts/SFCompactText-SemiboldItalic.otf',\n",
       " '/System/Library/Fonts/SFNSSymbols-Ultralight.otf',\n",
       " '/Library/Fonts/Trebuchet MS Italic.ttf',\n",
       " '/Library/Fonts/Times New Roman Bold Italic.ttf',\n",
       " '/Library/Fonts/Wingdings 2.ttf',\n",
       " '/System/Library/Fonts/SFNSTextCondensed-Semibold.otf',\n",
       " '/System/Library/Fonts/SFNSSymbols-Heavy.otf',\n",
       " '/System/Library/Fonts/SFCompactRounded-Thin.otf',\n",
       " '/Library/Fonts/STIXSizTwoSymReg.otf',\n",
       " '/Library/Fonts/STIXSizFourSymReg.otf',\n",
       " '/System/Library/Fonts/SFCompactText-LightItalic.otf',\n",
       " '/Library/Fonts/Luminari.ttf',\n",
       " '/Library/Fonts/Arial Narrow Italic.ttf',\n",
       " '/Library/Fonts/Wingdings 3.ttf',\n",
       " '/Library/Fonts/Tahoma Bold.ttf',\n",
       " '/System/Library/Fonts/SFNSDisplay-BoldItalic.otf',\n",
       " '/System/Library/Fonts/SFCompactDisplay-Thin.otf',\n",
       " '/System/Library/Fonts/ZapfDingbats.ttf',\n",
       " '/System/Library/Fonts/SFNSDisplayCondensed-Semibold.otf',\n",
       " '/System/Library/Fonts/SFCompactDisplay-Bold.otf',\n",
       " '/System/Library/Fonts/SFCompactText-HeavyItalic.otf',\n",
       " '/Library/Fonts/Arial.ttf',\n",
       " '/Library/Fonts/STIXGeneralBolIta.otf',\n",
       " '/Library/Fonts/Comic Sans MS Bold.ttf',\n",
       " '/System/Library/Fonts/SFNSSymbols-Light.otf',\n",
       " '/System/Library/Fonts/SFNSSymbols-Black.otf',\n",
       " '/System/Library/Fonts/SFCompactRounded-Ultralight.otf',\n",
       " '/System/Library/Fonts/SFNSDisplay-LightItalic.otf',\n",
       " '/Library/Fonts/Times New Roman.ttf',\n",
       " '/System/Library/Fonts/SFNSDisplayCondensed-Light.otf',\n",
       " '/Library/Fonts/Courier New Italic.ttf',\n",
       " '/Library/Fonts/STIXIntDReg.otf',\n",
       " '/System/Library/Fonts/SFNSText.ttf',\n",
       " '/System/Library/Fonts/Apple Symbols.ttf',\n",
       " '/Library/Fonts/Verdana Bold Italic.ttf',\n",
       " '/System/Library/Fonts/SFNSDisplay-ThinG3.otf',\n",
       " '/Library/Fonts/Courier New.ttf',\n",
       " '/System/Library/Fonts/SFNSDisplay-BlackItalic.otf',\n",
       " '/System/Library/Fonts/SFCompactDisplay-Regular.otf',\n",
       " '/System/Library/Fonts/SFNSTextItalic.ttf',\n",
       " '/Library/Fonts/STIXIntUpDBol.otf',\n",
       " '/Library/Fonts/Trebuchet MS Bold Italic.ttf',\n",
       " '/Library/Fonts/Trebuchet MS Bold.ttf',\n",
       " '/System/Library/Fonts/SFNSTextCondensed-Bold.otf',\n",
       " '/Library/Fonts/Wingdings.ttf',\n",
       " '/Library/Fonts/STIXVarBol.otf',\n",
       " '/Library/Fonts/Impact.ttf',\n",
       " '/System/Library/Fonts/SFCompactText-Light.otf',\n",
       " '/Library/Fonts/STIXIntUpSmBol.otf',\n",
       " '/System/Library/Fonts/SFCompactRounded-Light.otf',\n",
       " '/Library/Fonts/AppleMyungjo.ttf',\n",
       " '/Library/Fonts/Bodoni Ornaments.ttf',\n",
       " '/Library/Fonts/Herculanum.ttf',\n",
       " '/System/Library/Fonts/SFNSDisplayCondensed-Heavy.otf',\n",
       " '/Library/Fonts/Ayuthaya.ttf',\n",
       " '/Library/Fonts/BigCaslon.ttf',\n",
       " '/System/Library/Fonts/SFNSDisplay-SemiboldItalic.otf',\n",
       " '/System/Library/Fonts/Apple Braille Pinpoint 8 Dot.ttf',\n",
       " '/Library/Fonts/STIXSizOneSymReg.otf',\n",
       " '/Library/Fonts/Silom.ttf',\n",
       " '/Library/Fonts/Gurmukhi.ttf',\n",
       " '/System/Library/Fonts/SFNSDisplay-MediumItalic.otf',\n",
       " '/System/Library/Fonts/SFNSDisplay-RegularItalic.otf',\n",
       " '/Library/Fonts/Webdings.ttf',\n",
       " '/System/Library/Fonts/SFNSSymbols-Bold.otf',\n",
       " '/Library/Fonts/Arial Narrow Bold.ttf',\n",
       " '/Library/Fonts/DIN Alternate Bold.ttf',\n",
       " '/Library/Fonts/Microsoft Sans Serif.ttf',\n",
       " '/Library/Fonts/PlantagenetCherokee.ttf',\n",
       " '/Library/Fonts/Verdana.ttf',\n",
       " '/Library/Fonts/STIXIntUpReg.otf',\n",
       " '/Library/Fonts/Brush Script.ttf',\n",
       " '/System/Library/Fonts/SFNSDisplayCondensed-Regular.otf',\n",
       " '/System/Library/Fonts/SFNSDisplayCondensed-Black.otf',\n",
       " '/System/Library/Fonts/SFNSDisplay.ttf',\n",
       " '/Library/Fonts/STIXSizOneSymBol.otf',\n",
       " '/Library/Fonts/Sathu.ttf',\n",
       " '/Library/Fonts/Georgia.ttf',\n",
       " '/Library/Fonts/Georgia Italic.ttf',\n",
       " '/Library/Fonts/STIXIntUpSmReg.otf']"
      ]
     },
     "execution_count": 6,
     "metadata": {},
     "output_type": "execute_result"
    }
   ],
   "source": [
    "# 查看有哪些字体\n",
    "import matplotlib.font_manager\n",
    "matplotlib.font_manager.findSystemFonts(fontpaths=None, fontext='ttf')"
   ]
  },
  {
   "cell_type": "code",
   "execution_count": 7,
   "metadata": {},
   "outputs": [
    {
     "data": {
      "image/png": "[encoded data removed]",
      "text/plain": [
       "<Figure size 432x288 with 1 Axes>"
      ]
     },
     "metadata": {},
     "output_type": "display_data"
    }
   ],
   "source": [
    "plt.figure()\n",
    "sns.set_style(\"whitegrid\")\n",
    "sns.boxplot(data=df,palette=\"Set3\")\n",
    "plt.savefig('../img/before_z_score_box_plot.pdf')\n",
    "plt.show()"
   ]
  },
  {
   "cell_type": "code",
   "execution_count": 8,
   "metadata": {
    "collapsed": true
   },
   "outputs": [],
   "source": [
    "matplotlib.rcParams['font.family']='Times New Roman'\n",
    "# matplotlib.rcParams['font.family']='Arial'\n",
    "matplotlib.rcParams.update({'font.size': 12})\n",
    "# 12px = 9pt"
   ]
  },
  {
   "cell_type": "code",
   "execution_count": 9,
   "metadata": {
    "collapsed": true
   },
   "outputs": [],
   "source": [
    "# plt.figure()\n",
    "\n",
    "# figArray = df.plot.hist(subplots=True, bins=100)  #将各列在一figure中分成子图，\n",
    "# figArray[0].set_ylabel(\"\")\n",
    "# figArray[1].set_ylabel(\"\")\n",
    "# figArray[2].set_ylabel(\"\")\n",
    "# figArray[3].set_ylabel(\"\")\n",
    "\n",
    "# plt.savefig('../img/before_z_score_v1.pdf')\n",
    "# plt.show()"
   ]
  },
  {
   "cell_type": "code",
   "execution_count": null,
   "metadata": {
    "collapsed": true
   },
   "outputs": [],
   "source": []
  },
  {
   "cell_type": "code",
   "execution_count": 10,
   "metadata": {
    "collapsed": true
   },
   "outputs": [],
   "source": [
    "from matplotlib.ticker import MultipleLocator, FormatStrFormatter \n",
    "\n",
    "ymajorFormatter = FormatStrFormatter('%1.2f') #设置y轴标签文本的格式\n",
    "# ymajorFormatter = FormatStrFormatter('%d') #设置y轴标签文本的格式\n",
    "# ymajorLocator   = MultipleLocator(0.5) #将y轴主刻度标签设置为0.5的倍数\n",
    "# yminorLocator  = MultipleLocator(0.01) #将此y轴次刻度标签设置为0.1的倍数"
   ]
  },
  {
   "cell_type": "code",
   "execution_count": null,
   "metadata": {},
   "outputs": [],
   "source": [
    "plt.figure(figsize=(16, 12), dpi=600)\n",
    "\n",
    "ax1 = plt.subplot(221)\n",
    "sns.distplot(pd.Series(df.dropna(axis=0)['$pH$']), kde=False, bins=50)\n",
    "# plt.legend()\n",
    "# ax.yaxis.set_major_locator(ymajorLocator)\n",
    "ax1.yaxis.set_major_formatter(ymajorFormatter)\n",
    "ax1.set_ylabel(\"Frequency\")\n",
    "\n",
    "ax2 = plt.subplot(222, sharex=ax1)\n",
    "sns.distplot(pd.Series(df.dropna(axis=0)['$DO\\,(mg/L)$']), kde=False, bins=50)\n",
    "ax2.yaxis.set_major_formatter(ymajorFormatter)\n",
    "ax2.set_ylabel(\"Frequency\")\n",
    "\n",
    "\n",
    "ax3 = plt.subplot(223, sharex=ax1)\n",
    "sns.distplot(pd.Series(df.dropna(axis=0)['$COD_{Mn}\\,(mg/L)$']), kde=False, bins=50)\n",
    "ax3.yaxis.set_major_formatter(ymajorFormatter)\n",
    "ax3.set_ylabel(\"Frequency\")\n",
    "\n",
    "\n",
    "ax4 = plt.subplot(224, sharex=ax1)\n",
    "sns.distplot(pd.Series(df.dropna(axis=0)['$NH3-N\\,(mg/L)$']), kde=False, bins=50)\n",
    "ax4.yaxis.set_major_formatter(ymajorFormatter)\n",
    "ax4.set_ylabel(\"Frequency\")\n",
    "\n",
    "\n",
    "plt.savefig('../img/before_z_score_distribution_v2.pdf')\n",
    "plt.savefig('../img/before_z_score_distribution_v2.png')\n",
    "plt.show()"
   ]
  },
  {
   "cell_type": "code",
   "execution_count": null,
   "metadata": {
    "collapsed": true
   },
   "outputs": [],
   "source": [
    "# df[df[\"DO(mg/l)\"] > 40]"
   ]
  },
  {
   "cell_type": "code",
   "execution_count": null,
   "metadata": {
    "collapsed": true
   },
   "outputs": [],
   "source": [
    "# df[df[\"CODMn(mg/l)\"] > 70]"
   ]
  },
  {
   "cell_type": "code",
   "execution_count": null,
   "metadata": {
    "collapsed": true
   },
   "outputs": [],
   "source": [
    "# drop_columns = ['水系', '点位名称', '河流名称']\n",
    "\n",
    "# df = df.dropna(axis=0)\n",
    "# df.drop(drop_columns, 1, inplace=True)"
   ]
  },
  {
   "cell_type": "code",
   "execution_count": null,
   "metadata": {
    "collapsed": true
   },
   "outputs": [],
   "source": [
    "# df[df.isnull().values==True]"
   ]
  },
  {
   "cell_type": "code",
   "execution_count": null,
   "metadata": {
    "collapsed": true
   },
   "outputs": [],
   "source": [
    "df = (df-df.mean())/df.std(ddof=0)"
   ]
  },
  {
   "cell_type": "code",
   "execution_count": null,
   "metadata": {
    "collapsed": true
   },
   "outputs": [],
   "source": [
    "# df[\"pH\"] = (df[\"pH\"] - df[\"pH\"].mean())/df[\"pH\"].std(ddof=0)\n",
    "# df[\"DO(mg/l)\"] = (df[\"DO(mg/l)\"] - df[\"DO(mg/l)\"].mean())/df[\"DO(mg/l)\"].std(ddof=0)\n",
    "# df[\"CODMn(mg/l)\"] = (df[\"CODMn(mg/l)\"] - df[\"CODMn(mg/l)\"].mean())/df[\"CODMn(mg/l)\"].std(ddof=0)\n",
    "# df[\"NH3-N(mg/l)\"] = (df[\"NH3-N(mg/l)\"] - df[\"NH3-N(mg/l)\"].mean())/df[\"NH3-N(mg/l)\"].std(ddof=0)"
   ]
  },
  {
   "cell_type": "code",
   "execution_count": null,
   "metadata": {
    "collapsed": true
   },
   "outputs": [],
   "source": [
    "# plt.figure()\n",
    "\n",
    "# figArray = df.plot.hist(subplots=True, bins=100)  #将各列在一figure中分成子图，\n",
    "# figArray[0].set_ylabel(\"\")\n",
    "# figArray[1].set_ylabel(\"\")\n",
    "# figArray[2].set_ylabel(\"\")\n",
    "# figArray[3].set_ylabel(\"\")\n",
    "\n",
    "# plt.savefig('../img/after_z_score_v1.pdf')\n",
    "# plt.show()"
   ]
  },
  {
   "cell_type": "code",
   "execution_count": null,
   "metadata": {
    "collapsed": true
   },
   "outputs": [],
   "source": [
    "# pd.Series(df['pH'],name='$pH$')\n",
    "# pd.Series(df['DO(mg/l)'],name='$DO (mg/L)$')\n",
    "# pd.Series(df['CODMn(mg/l)'],name='$COD_{Mn} (mg/L)$')\n",
    "# pd.Series(df['NH3-N(mg/l)'],name='$NH3-N (mg/L)$')\n"
   ]
  },
  {
   "cell_type": "code",
   "execution_count": null,
   "metadata": {},
   "outputs": [],
   "source": [
    "plt.figure(figsize=(16, 12), dpi=600)\n",
    "\n",
    "ax = plt.subplot(221)\n",
    "sns.distplot(df['$pH$'], kde=False, bins=50)\n",
    "# ax.yaxis.set_major_locator(ymajorLocator)\n",
    "ax.yaxis.set_major_formatter(ymajorFormatter)\n",
    "ax.set_ylabel(\"Frequency\")\n",
    "\n",
    "ax = plt.subplot(222)\n",
    "sns.distplot(df['$DO\\,(mg/L)$'], kde=False, bins=50)\n",
    "ax.yaxis.set_major_formatter(ymajorFormatter)\n",
    "ax.set_ylabel(\"Frequency\")\n",
    "\n",
    "\n",
    "ax = plt.subplot(223)\n",
    "sns.distplot(df['$COD_{Mn}\\,(mg/L)$'], kde=False, bins=50)\n",
    "ax.yaxis.set_major_formatter(ymajorFormatter)\n",
    "ax.set_ylabel(\"Frequency\")\n",
    "\n",
    "\n",
    "ax = plt.subplot(224)\n",
    "sns.distplot(pd.Series(df['$NH3-N\\,(mg/L)$']), kde=False, bins=50)\n",
    "ax.yaxis.set_major_formatter(ymajorFormatter)\n",
    "ax.set_ylabel(\"Frequency\")\n",
    "\n",
    "\n",
    "plt.savefig('../img/after_z_score_distribution_v2.pdf')\n",
    "plt.savefig('../img/after_z_score_distribution_v2.png')\n",
    "plt.show()"
   ]
  },
  {
   "cell_type": "code",
   "execution_count": 21,
   "metadata": {
    "collapsed": true
   },
   "outputs": [],
   "source": [
    "# plt.figure()\n",
    "# sns.set_style(\"whitegrid\")\n",
    "# sns.boxplot(data=df[[\"pH\",\"DO(mg/l)\",\"CODMn(mg/l)\",\"NH3-N(mg/l)\"]],palette=\"Set3\")\n",
    "# plt.savefig('../img/after_z_score_box_plot.pdf')\n",
    "# plt.show()"
   ]
  },
  {
   "cell_type": "code",
   "execution_count": 12,
   "metadata": {
    "collapsed": true
   },
   "outputs": [],
   "source": [
    "# output_path = os.getcwd()+'/../data/water/csv/20122018freshwater_four_feature.csv'\n",
    "# data.to_csv(output_path, encoding='utf-8', index=False)"
   ]
  },
  {
   "cell_type": "code",
   "execution_count": null,
   "metadata": {
    "collapsed": true
   },
   "outputs": [],
   "source": []
  },
  {
   "cell_type": "code",
   "execution_count": null,
   "metadata": {
    "collapsed": true
   },
   "outputs": [],
   "source": []
  }
 ],
 "metadata": {
  "kernelspec": {
   "display_name": "Python [conda env:gc]",
   "language": "python",
   "name": "conda-env-gc-py"
  },
  "language_info": {
   "codemirror_mode": {
    "name": "ipython",
    "version": 3
   },
   "file_extension": ".py",
   "mimetype": "text/x-python",
   "name": "python",
   "nbconvert_exporter": "python",
   "pygments_lexer": "ipython3",
   "version": "3.6.2"
  }
 },
 "nbformat": 4,
 "nbformat_minor": 2
}
