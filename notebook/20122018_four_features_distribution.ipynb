{
 "cells": [
  {
   "cell_type": "code",
   "execution_count": 1,
   "metadata": {
    "collapsed": true
   },
   "outputs": [],
   "source": [
    "import os\n",
    "import pandas as pd\n",
    "import numpy as np\n",
    "\n",
    "from sklearn import preprocessing\n",
    "from sklearn.pipeline import Pipeline\n",
    "\n",
    "from sklearn.model_selection import train_test_split\n",
    "\n",
    "import matplotlib\n",
    "# matplotlib.use('Agg')\n",
    "import matplotlib.pyplot as plt\n",
    "%matplotlib inline"
   ]
  },
  {
   "cell_type": "markdown",
   "metadata": {},
   "source": [
    "hyperparameters"
   ]
  },
  {
   "cell_type": "code",
   "execution_count": 2,
   "metadata": {
    "collapsed": true
   },
   "outputs": [],
   "source": [
    "test_size = 0.33\n",
    "random_seed = 42\n",
    "kf=10\n",
    "score = 'f1_weighted'"
   ]
  },
  {
   "cell_type": "markdown",
   "metadata": {},
   "source": [
    "#### somte sampling"
   ]
  },
  {
   "cell_type": "code",
   "execution_count": 3,
   "metadata": {
    "collapsed": true
   },
   "outputs": [],
   "source": [
    "def Smoter(X, y, is_random=False):\n",
    "    if is_random == True:\n",
    "        random_lst = list(np.random.randint(0, 1000, 4))\n",
    "    elif is_random == False:\n",
    "        random_lst = [0] * 4\n",
    "\n",
    "    print(\"rs:\", random_lst)\n",
    "    sm = SMOTE(random_state=random_lst[2], kind = 0.24)\n",
    "    X_smote, y_smote = sm.fit_sample(X, y)\n",
    "\n",
    "    return X_smote, y_smote"
   ]
  },
  {
   "cell_type": "markdown",
   "metadata": {},
   "source": [
    "# load data_four_features"
   ]
  },
  {
   "cell_type": "code",
   "execution_count": 4,
   "metadata": {},
   "outputs": [
    {
     "name": "stdout",
     "output_type": "stream",
     "text": [
      "pH             float64\n",
      "DO(mg/l)       float64\n",
      "CODMn(mg/l)    float64\n",
      "NH3-N(mg/l)    float64\n",
      "本周水质             int64\n",
      "dtype: object\n",
      "(33612, 5)\n"
     ]
    }
   ],
   "source": [
    "path = os.getcwd()+'/../data/20122018freshwater_four_feature.csv'\n",
    "data_four_features = pd.read_csv(path, na_values = np.nan)\n",
    "\n",
    "print(data_four_features.dtypes)\n",
    "print(data_four_features.shape)"
   ]
  },
  {
   "cell_type": "code",
   "execution_count": 5,
   "metadata": {
    "collapsed": true
   },
   "outputs": [],
   "source": [
    "X = data_four_features.drop(['本周水质'], axis=1) # Series\n",
    "y = data_four_features['本周水质']-1 # Series"
   ]
  },
  {
   "cell_type": "code",
   "execution_count": 6,
   "metadata": {},
   "outputs": [
    {
     "data": {
      "text/html": [
       "<div>\n",
       "<style>\n",
       "    .dataframe thead tr:only-child th {\n",
       "        text-align: right;\n",
       "    }\n",
       "\n",
       "    .dataframe thead th {\n",
       "        text-align: left;\n",
       "    }\n",
       "\n",
       "    .dataframe tbody tr th {\n",
       "        vertical-align: top;\n",
       "    }\n",
       "</style>\n",
       "<table border=\"1\" class=\"dataframe\">\n",
       "  <thead>\n",
       "    <tr style=\"text-align: right;\">\n",
       "      <th></th>\n",
       "      <th>pH</th>\n",
       "      <th>DO(mg/l)</th>\n",
       "      <th>CODMn(mg/l)</th>\n",
       "      <th>NH3-N(mg/l)</th>\n",
       "      <th>本周水质</th>\n",
       "    </tr>\n",
       "  </thead>\n",
       "  <tbody>\n",
       "    <tr>\n",
       "      <th>count</th>\n",
       "      <td>33612.000000</td>\n",
       "      <td>33612.000000</td>\n",
       "      <td>33612.000000</td>\n",
       "      <td>33612.000000</td>\n",
       "      <td>33612.000000</td>\n",
       "    </tr>\n",
       "    <tr>\n",
       "      <th>mean</th>\n",
       "      <td>7.683118</td>\n",
       "      <td>8.101794</td>\n",
       "      <td>4.269093</td>\n",
       "      <td>0.559666</td>\n",
       "      <td>2.902892</td>\n",
       "    </tr>\n",
       "    <tr>\n",
       "      <th>std</th>\n",
       "      <td>0.544139</td>\n",
       "      <td>2.597636</td>\n",
       "      <td>3.352749</td>\n",
       "      <td>1.421597</td>\n",
       "      <td>1.260947</td>\n",
       "    </tr>\n",
       "    <tr>\n",
       "      <th>min</th>\n",
       "      <td>5.790000</td>\n",
       "      <td>-1.000000</td>\n",
       "      <td>-1.800000</td>\n",
       "      <td>0.000000</td>\n",
       "      <td>1.000000</td>\n",
       "    </tr>\n",
       "    <tr>\n",
       "      <th>25%</th>\n",
       "      <td>7.310000</td>\n",
       "      <td>6.640000</td>\n",
       "      <td>2.200000</td>\n",
       "      <td>0.150000</td>\n",
       "      <td>2.000000</td>\n",
       "    </tr>\n",
       "    <tr>\n",
       "      <th>50%</th>\n",
       "      <td>7.670000</td>\n",
       "      <td>8.050000</td>\n",
       "      <td>3.600000</td>\n",
       "      <td>0.240000</td>\n",
       "      <td>3.000000</td>\n",
       "    </tr>\n",
       "    <tr>\n",
       "      <th>75%</th>\n",
       "      <td>8.040000</td>\n",
       "      <td>9.550000</td>\n",
       "      <td>5.400000</td>\n",
       "      <td>0.440000</td>\n",
       "      <td>4.000000</td>\n",
       "    </tr>\n",
       "    <tr>\n",
       "      <th>max</th>\n",
       "      <td>10.190000</td>\n",
       "      <td>123.000000</td>\n",
       "      <td>110.800000</td>\n",
       "      <td>30.100000</td>\n",
       "      <td>6.000000</td>\n",
       "    </tr>\n",
       "  </tbody>\n",
       "</table>\n",
       "</div>"
      ],
      "text/plain": [
       "                 pH      DO(mg/l)   CODMn(mg/l)   NH3-N(mg/l)          本周水质\n",
       "count  33612.000000  33612.000000  33612.000000  33612.000000  33612.000000\n",
       "mean       7.683118      8.101794      4.269093      0.559666      2.902892\n",
       "std        0.544139      2.597636      3.352749      1.421597      1.260947\n",
       "min        5.790000     -1.000000     -1.800000      0.000000      1.000000\n",
       "25%        7.310000      6.640000      2.200000      0.150000      2.000000\n",
       "50%        7.670000      8.050000      3.600000      0.240000      3.000000\n",
       "75%        8.040000      9.550000      5.400000      0.440000      4.000000\n",
       "max       10.190000    123.000000    110.800000     30.100000      6.000000"
      ]
     },
     "execution_count": 6,
     "metadata": {},
     "output_type": "execute_result"
    }
   ],
   "source": [
    "data_four_features.describe()"
   ]
  },
  {
   "cell_type": "code",
   "execution_count": 7,
   "metadata": {
    "collapsed": true
   },
   "outputs": [],
   "source": [
    "def status(x) : \n",
    "    return pd.Series([x.count(),x.min(),x.idxmin(),x.quantile(.25),x.median(),\n",
    "                      x.quantile(.75),x.mean(),x.max(),x.idxmax(),x.mad(),x.var(),\n",
    "                      x.std(),x.skew(),x.kurt()],index=['count*','min','argmin','25%',\n",
    "                    'Median*','75%分位数','mean*','max','argmax','平均绝对偏差','var','Std. dev*','偏度(skew)','峰度(kurt)'])"
   ]
  },
  {
   "cell_type": "code",
   "execution_count": 8,
   "metadata": {},
   "outputs": [
    {
     "data": {
      "text/html": [
       "<div>\n",
       "<style>\n",
       "    .dataframe thead tr:only-child th {\n",
       "        text-align: right;\n",
       "    }\n",
       "\n",
       "    .dataframe thead th {\n",
       "        text-align: left;\n",
       "    }\n",
       "\n",
       "    .dataframe tbody tr th {\n",
       "        vertical-align: top;\n",
       "    }\n",
       "</style>\n",
       "<table border=\"1\" class=\"dataframe\">\n",
       "  <thead>\n",
       "    <tr style=\"text-align: right;\">\n",
       "      <th></th>\n",
       "      <th>CODMn(mg/l)</th>\n",
       "      <th>DO(mg/l)</th>\n",
       "      <th>NH3-N(mg/l)</th>\n",
       "      <th>pH</th>\n",
       "    </tr>\n",
       "  </thead>\n",
       "  <tbody>\n",
       "    <tr>\n",
       "      <th>count*</th>\n",
       "      <td>33612.000000</td>\n",
       "      <td>33612.000000</td>\n",
       "      <td>33612.000000</td>\n",
       "      <td>33612.000000</td>\n",
       "    </tr>\n",
       "    <tr>\n",
       "      <th>min</th>\n",
       "      <td>-1.800000</td>\n",
       "      <td>-1.000000</td>\n",
       "      <td>0.000000</td>\n",
       "      <td>5.790000</td>\n",
       "    </tr>\n",
       "    <tr>\n",
       "      <th>argmin</th>\n",
       "      <td>18353.000000</td>\n",
       "      <td>28332.000000</td>\n",
       "      <td>823.000000</td>\n",
       "      <td>19116.000000</td>\n",
       "    </tr>\n",
       "    <tr>\n",
       "      <th>25%</th>\n",
       "      <td>2.200000</td>\n",
       "      <td>6.640000</td>\n",
       "      <td>0.150000</td>\n",
       "      <td>7.310000</td>\n",
       "    </tr>\n",
       "    <tr>\n",
       "      <th>Median*</th>\n",
       "      <td>3.600000</td>\n",
       "      <td>8.050000</td>\n",
       "      <td>0.240000</td>\n",
       "      <td>7.670000</td>\n",
       "    </tr>\n",
       "    <tr>\n",
       "      <th>75%分位数</th>\n",
       "      <td>5.400000</td>\n",
       "      <td>9.550000</td>\n",
       "      <td>0.440000</td>\n",
       "      <td>8.040000</td>\n",
       "    </tr>\n",
       "    <tr>\n",
       "      <th>mean*</th>\n",
       "      <td>4.269093</td>\n",
       "      <td>8.101794</td>\n",
       "      <td>0.559666</td>\n",
       "      <td>7.683118</td>\n",
       "    </tr>\n",
       "    <tr>\n",
       "      <th>max</th>\n",
       "      <td>110.800000</td>\n",
       "      <td>123.000000</td>\n",
       "      <td>30.100000</td>\n",
       "      <td>10.190000</td>\n",
       "    </tr>\n",
       "    <tr>\n",
       "      <th>argmax</th>\n",
       "      <td>27791.000000</td>\n",
       "      <td>2627.000000</td>\n",
       "      <td>28708.000000</td>\n",
       "      <td>9933.000000</td>\n",
       "    </tr>\n",
       "    <tr>\n",
       "      <th>平均绝对偏差</th>\n",
       "      <td>2.145157</td>\n",
       "      <td>1.905882</td>\n",
       "      <td>0.545110</td>\n",
       "      <td>0.432795</td>\n",
       "    </tr>\n",
       "    <tr>\n",
       "      <th>var</th>\n",
       "      <td>11.240925</td>\n",
       "      <td>6.747711</td>\n",
       "      <td>2.020939</td>\n",
       "      <td>0.296087</td>\n",
       "    </tr>\n",
       "    <tr>\n",
       "      <th>Std. dev*</th>\n",
       "      <td>3.352749</td>\n",
       "      <td>2.597636</td>\n",
       "      <td>1.421597</td>\n",
       "      <td>0.544139</td>\n",
       "    </tr>\n",
       "    <tr>\n",
       "      <th>偏度(skew)</th>\n",
       "      <td>5.754965</td>\n",
       "      <td>2.765873</td>\n",
       "      <td>8.121481</td>\n",
       "      <td>0.237422</td>\n",
       "    </tr>\n",
       "    <tr>\n",
       "      <th>峰度(kurt)</th>\n",
       "      <td>92.369671</td>\n",
       "      <td>114.922354</td>\n",
       "      <td>84.144208</td>\n",
       "      <td>0.232829</td>\n",
       "    </tr>\n",
       "  </tbody>\n",
       "</table>\n",
       "</div>"
      ],
      "text/plain": [
       "            CODMn(mg/l)      DO(mg/l)   NH3-N(mg/l)            pH\n",
       "count*     33612.000000  33612.000000  33612.000000  33612.000000\n",
       "min           -1.800000     -1.000000      0.000000      5.790000\n",
       "argmin     18353.000000  28332.000000    823.000000  19116.000000\n",
       "25%            2.200000      6.640000      0.150000      7.310000\n",
       "Median*        3.600000      8.050000      0.240000      7.670000\n",
       "75%分位数         5.400000      9.550000      0.440000      8.040000\n",
       "mean*          4.269093      8.101794      0.559666      7.683118\n",
       "max          110.800000    123.000000     30.100000     10.190000\n",
       "argmax     27791.000000   2627.000000  28708.000000   9933.000000\n",
       "平均绝对偏差         2.145157      1.905882      0.545110      0.432795\n",
       "var           11.240925      6.747711      2.020939      0.296087\n",
       "Std. dev*      3.352749      2.597636      1.421597      0.544139\n",
       "偏度(skew)       5.754965      2.765873      8.121481      0.237422\n",
       "峰度(kurt)      92.369671    114.922354     84.144208      0.232829"
      ]
     },
     "execution_count": 8,
     "metadata": {},
     "output_type": "execute_result"
    }
   ],
   "source": [
    "df = pd.DataFrame({\n",
    "    'pH': status(data_four_features['pH']),\n",
    "    'DO(mg/l)': status(data_four_features['DO(mg/l)']),\n",
    "    'CODMn(mg/l)': status(data_four_features['CODMn(mg/l)']),\n",
    "    'NH3-N(mg/l)': status(data_four_features['NH3-N(mg/l)']),\n",
    "})\n",
    "\n",
    "df"
   ]
  },
  {
   "cell_type": "code",
   "execution_count": 20,
   "metadata": {},
   "outputs": [
    {
     "name": "stdout",
     "output_type": "stream",
     "text": [
      "水质分布情况:\n",
      "1    39.485898\n",
      "2    26.172200\n",
      "3    16.279900\n",
      "0     7.253362\n",
      "5     6.384625\n",
      "4     4.424015\n",
      "Name: 本周水质, dtype: float64\n",
      "\n",
      "各特征类型分布情况:\n",
      "float64    4\n",
      "int64      1\n",
      "dtype: int64\n"
     ]
    }
   ],
   "source": [
    "print(\"水质分布情况:\")\n",
    "print(y.value_counts()/y.count()*100)\n",
    "print(\"\\n各特征类型分布情况:\")\n",
    "print(data_four_features.dtypes.value_counts())"
   ]
  },
  {
   "cell_type": "code",
   "execution_count": 13,
   "metadata": {},
   "outputs": [
    {
     "name": "stdout",
     "output_type": "stream",
     "text": [
      "============ train_valid_split ============\n",
      "67% train: 22520/33612, 33% test: 11092/33612\n"
     ]
    }
   ],
   "source": [
    "print(\"============ train_valid_split ============\")\n",
    "\n",
    "X_train, X_test, y_train, y_test = train_test_split(X, y, test_size=test_size, \n",
    "                                       stratify = y, random_state = random_seed)\n",
    "print(\"67%% train: %d/%d, 33%% test: %d/%d\" %(X_train.shape[0], X.shape[0], X_test.shape[0], X.shape[0]))"
   ]
  },
  {
   "cell_type": "markdown",
   "metadata": {},
   "source": [
    "#### Before normalize"
   ]
  },
  {
   "cell_type": "code",
   "execution_count": 9,
   "metadata": {},
   "outputs": [
    {
     "data": {
      "image/png": "[encoded data removed]",
      "text/plain": [
       "<Figure size 720x432 with 4 Axes>"
      ]
     },
     "metadata": {},
     "output_type": "display_data"
    }
   ],
   "source": [
    "plt.figure(figsize=(10,6)) \n",
    "plt.subplot(2,2,1)\n",
    "plt.plot(X_train.values[:,0], label = 'pH')\n",
    "plt.ylabel('pH')\n",
    "plt.legend(frameon=False)\n",
    "\n",
    "plt.subplot(2,2,2)\n",
    "plt.plot(X_train.values[:,1], label = 'DO(mg/l)')\n",
    "plt.ylabel('DO(mg/l)')\n",
    "plt.legend(frameon=False)\n",
    "\n",
    "plt.subplot(2,2,3)\n",
    "plt.plot(X_train.values[:,2], label = 'CODMn(mg/l)')\n",
    "plt.ylabel('CODMn(mg/l)')\n",
    "plt.legend(frameon=False)\n",
    "\n",
    "plt.subplot(2,2,4)\n",
    "plt.plot(X_train.values[:,3], label = 'NH3-N(mg/l)')\n",
    "plt.ylabel('NH3-N(mg/l)')\n",
    "plt.legend(frameon=False)\n",
    "\n",
    "plt.savefig('../paper/img/before_z_score.eps',format='eps')"
   ]
  },
  {
   "cell_type": "markdown",
   "metadata": {},
   "source": [
    "### normalize  train data\n",
    "\n",
    "fulfill the Na with median, then standardized the data, output type ndarray"
   ]
  },
  {
   "cell_type": "code",
   "execution_count": 10,
   "metadata": {
    "collapsed": true
   },
   "outputs": [],
   "source": [
    "clean_pipeline = Pipeline([('imputer', preprocessing.Imputer(missing_values='NaN',strategy=\"median\")),\n",
    "                           ('std_scaler', preprocessing.StandardScaler()),])\n",
    "X_train = clean_pipeline.fit_transform(X_train)\n",
    "X_test = clean_pipeline.fit_transform(X_test)"
   ]
  },
  {
   "cell_type": "markdown",
   "metadata": {},
   "source": [
    "#### After normalize"
   ]
  },
  {
   "cell_type": "code",
   "execution_count": 11,
   "metadata": {},
   "outputs": [
    {
     "data": {
      "image/png": "[encoded data removed]",
      "text/plain": [
       "<Figure size 720x432 with 4 Axes>"
      ]
     },
     "metadata": {},
     "output_type": "display_data"
    }
   ],
   "source": [
    "plt.figure(figsize=(10,6)) \n",
    "plt.subplot(2,2,1)\n",
    "plt.plot(X_train[:,0], label = 'pH')\n",
    "plt.ylabel('pH')\n",
    "plt.legend(frameon=False)\n",
    "\n",
    "plt.subplot(2,2,2)\n",
    "plt.plot(X_train[:,1], label = 'DO(mg/l)')\n",
    "plt.ylabel('DO(mg/l)')\n",
    "plt.legend(frameon=False)\n",
    "\n",
    "plt.subplot(2,2,3)\n",
    "plt.plot(X_train[:,2], label = 'CODMn(mg/l)')\n",
    "plt.ylabel('CODMn(mg/l)')\n",
    "plt.legend(frameon=False)\n",
    "\n",
    "plt.subplot(2,2,4)\n",
    "plt.plot(X_train[:,3], label = 'NH3-N(mg/l)')\n",
    "plt.ylabel('NH3-N(mg/l)')\n",
    "plt.legend(frameon=False)\n",
    "# \n",
    "plt.savefig('../paper/img/after_z_score.eps',format='eps')"
   ]
  }
 ],
 "metadata": {
  "kernelspec": {
   "display_name": "Python 3",
   "language": "python",
   "name": "python3"
  },
  "language_info": {
   "codemirror_mode": {
    "name": "ipython",
    "version": 3
   },
   "file_extension": ".py",
   "mimetype": "text/x-python",
   "name": "python",
   "nbconvert_exporter": "python",
   "pygments_lexer": "ipython3",
   "version": "3.6.1"
  }
 },
 "nbformat": 4,
 "nbformat_minor": 2
}
