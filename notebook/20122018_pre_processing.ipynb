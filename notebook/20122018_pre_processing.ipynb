{
 "cells": [
  {
   "cell_type": "code",
   "execution_count": 1,
   "metadata": {},
   "outputs": [],
   "source": [
    "import os\n",
    "import pandas as pd\n",
    "import numpy as np\n",
    "\n",
    "from imblearn.over_sampling import SMOTE\n",
    "\n",
    "from sklearn import preprocessing\n",
    "from sklearn.pipeline import Pipeline"
   ]
  },
  {
   "cell_type": "markdown",
   "metadata": {},
   "source": [
    "#### somte sampling"
   ]
  },
  {
   "cell_type": "code",
   "execution_count": 2,
   "metadata": {},
   "outputs": [],
   "source": [
    "def Smoter(X, y, is_random=False):\n",
    "    if is_random == True:\n",
    "        random_lst = list(np.random.randint(0, 1000, 4))\n",
    "    elif is_random == False:\n",
    "        random_lst = [0] * 4\n",
    "\n",
    "    print(\"rs:\", random_lst)\n",
    "    sm = SMOTE(random_state=random_lst[2], kind = 0.24)\n",
    "    X_smote, y_smote = sm.fit_sample(X, y)\n",
    "\n",
    "    return X_smote, y_smote"
   ]
  },
  {
   "cell_type": "markdown",
   "metadata": {},
   "source": [
    "# load all data"
   ]
  },
  {
   "cell_type": "code",
   "execution_count": 3,
   "metadata": {},
   "outputs": [
    {
     "name": "stdout",
     "output_type": "stream",
     "text": [
      "水系              object\n",
      "点位名称            object\n",
      "河流名称            object\n",
      "pH             float64\n",
      "DO(mg/l)       float64\n",
      "CODMn(mg/l)    float64\n",
      "NH3-N(mg/l)    float64\n",
      "本周水质            object\n",
      "dtype: object\n",
      "(33614, 8)\n"
     ]
    }
   ],
   "source": [
    "path = os.getcwd()+'/../data/water/csv/20122018freshwater.csv'\n",
    "\n",
    "data = pd.read_csv(path, na_values = np.nan)\n",
    "\n",
    "print(data.dtypes)\n",
    "print(data.shape)"
   ]
  },
  {
   "cell_type": "code",
   "execution_count": 4,
   "metadata": {},
   "outputs": [],
   "source": [
    "drop_columns = []\n",
    "continuous_features = ['pH', 'DO(mg/l)', 'CODMn(mg/l)', 'NH3-N(mg/l)']\n",
    "cat_features =['水系', '点位名称', '河流名称']"
   ]
  },
  {
   "cell_type": "code",
   "execution_count": 5,
   "metadata": {},
   "outputs": [],
   "source": [
    "# 独热编码\n",
    "data_dummies = pd.get_dummies(data, columns=cat_features)"
   ]
  },
  {
   "cell_type": "code",
   "execution_count": 6,
   "metadata": {},
   "outputs": [],
   "source": [
    "# 舍弃无用特征\n",
    "data_dummies.drop(drop_columns, 1, inplace=True)"
   ]
  },
  {
   "cell_type": "code",
   "execution_count": 7,
   "metadata": {},
   "outputs": [],
   "source": [
    "# 删除空行\n",
    "data_dummies = data_dummies.dropna(axis=0)"
   ]
  },
  {
   "cell_type": "code",
   "execution_count": 8,
   "metadata": {},
   "outputs": [
    {
     "data": {
      "text/html": [
       "<div>\n",
       "<style scoped>\n",
       "    .dataframe tbody tr th:only-of-type {\n",
       "        vertical-align: middle;\n",
       "    }\n",
       "\n",
       "    .dataframe tbody tr th {\n",
       "        vertical-align: top;\n",
       "    }\n",
       "\n",
       "    .dataframe thead th {\n",
       "        text-align: right;\n",
       "    }\n",
       "</style>\n",
       "<table border=\"1\" class=\"dataframe\">\n",
       "  <thead>\n",
       "    <tr style=\"text-align: right;\">\n",
       "      <th></th>\n",
       "      <th>pH</th>\n",
       "      <th>DO(mg/l)</th>\n",
       "      <th>CODMn(mg/l)</th>\n",
       "      <th>NH3-N(mg/l)</th>\n",
       "      <th>本周水质</th>\n",
       "      <th>水系_内陆河流太湖流域</th>\n",
       "      <th>水系_太湖流域</th>\n",
       "      <th>水系_巢湖流域</th>\n",
       "      <th>水系_巢湖流域滇池流域</th>\n",
       "      <th>水系_松花江流域</th>\n",
       "      <th>...</th>\n",
       "      <th>河流名称_闽江</th>\n",
       "      <th>河流名称_颖河</th>\n",
       "      <th>河流名称_额尔古纳河</th>\n",
       "      <th>河流名称_额尔齐斯河</th>\n",
       "      <th>河流名称_饮马河</th>\n",
       "      <th>河流名称_鸭绿江</th>\n",
       "      <th>河流名称_黄河</th>\n",
       "      <th>河流名称_黎河</th>\n",
       "      <th>河流名称_黑茨河</th>\n",
       "      <th>河流名称_黑龙江</th>\n",
       "    </tr>\n",
       "  </thead>\n",
       "  <tbody>\n",
       "  </tbody>\n",
       "</table>\n",
       "<p>0 rows × 343 columns</p>\n",
       "</div>"
      ],
      "text/plain": [
       "Empty DataFrame\n",
       "Columns: [pH, DO(mg/l), CODMn(mg/l), NH3-N(mg/l), 本周水质, 水系_内陆河流太湖流域, 水系_太湖流域, 水系_巢湖流域, 水系_巢湖流域滇池流域, 水系_松花江流域, 水系_海河流域, 水系_淮河流域, 水系_滇池流域, 水系_珠江流域, 水系_辽河流域, 水系_长江流域, 水系_黄河流域, 点位名称_上海青浦急水港, 点位名称_中卫新墩, 点位名称_中山横栏, 点位名称_临江苇沙河, 点位名称_临沂涝沟桥, 点位名称_临沂清泉寺, 点位名称_临沂重坊桥, 点位名称_丹东江桥, 点位名称_丹江口胡家岭, 点位名称_乌海海勃湾, 点位名称_乐山岷江大桥, 点位名称_九江河西水厂, 点位名称_云南昆明西苑隧道, 点位名称_云南昆明观音山, 点位名称_亳州颜集, 点位名称_伊春嘉荫, 点位名称_佳木斯江心岛, 点位名称_依兰牡丹江口, 点位名称_信阳淮滨水文站, 点位名称_信阳蒋集水文站, 点位名称_兰州新城桥, 点位名称_内蒙乌海海勃湾, 点位名称_内蒙包头画匠营子, 点位名称_内蒙古呼伦贝尔大铁桥, 点位名称_内蒙古呼伦贝尔嵯岗, 点位名称_内蒙古呼伦贝尔黑山头, 点位名称_凭祥平而关, 点位名称_包头画匠营子, 点位名称_北京古北口, 点位名称_北京密云古北口, 点位名称_北京沿河城, 点位名称_北京门头沟沿河城, 点位名称_南京林山, 点位名称_南宁老口, 点位名称_南昌滁槎, 点位名称_南阳陶岔, 点位名称_合肥湖滨, 点位名称_吉林临江苇沙河, 点位名称_吉林吉林溪浪口, 点位名称_吉林延边圈河, 点位名称_吉林敦化新甸, 点位名称_吉林松原松林, 点位名称_吉林溪浪口, 点位名称_吉林白城白沙滩, 点位名称_吉林白山绿江村, 点位名称_吉林长春松花江, 点位名称_吉林长春松花江村, 点位名称_吉林集安上活龙, 点位名称_同江, 点位名称_周口沈丘闸, 点位名称_周口鹿邑付桥闸, 点位名称_呼伦贝尔大铁桥, 点位名称_呼伦贝尔嵯岗, 点位名称_呼伦贝尔黑山头, 点位名称_哈尔滨铁路桥, 点位名称_嘉兴斜路港, 点位名称_嘉兴王江泾, 点位名称_四川乐山岷江大桥, 点位名称_四川宜宾凉姜沟, 点位名称_四川广元清风峡, 点位名称_四川攀枝花龙洞, 点位名称_四川泸州沱江二桥, 点位名称_大兴安岭呼玛, 点位名称_天水牛背, 点位名称_天津三岔口, 点位名称_天津果河桥, 点位名称_宁夏中卫新墩, 点位名称_宁夏石嘴山麻黄沟, 点位名称_安庆皖河口, 点位名称_安徽, 点位名称_安徽亳州颜集, 点位名称_安徽安庆皖河口, 点位名称_安徽宿州杨庄, 点位名称_安徽宿州泗县公路桥, 点位名称_安徽巢湖裕溪口, 点位名称_安徽淮北小王桥, 点位名称_安徽淮南石头埠, 点位名称_安徽滁州小柳巷, 点位名称_安徽界首七渡口, 点位名称_安徽蚌埠蚌埠闸, 点位名称_安徽阜南王家坝, 点位名称_安徽阜阳张大桥, 点位名称_安徽阜阳徐庄, ...]\n",
       "Index: []\n",
       "\n",
       "[0 rows x 343 columns]"
      ]
     },
     "execution_count": 8,
     "metadata": {},
     "output_type": "execute_result"
    }
   ],
   "source": [
    "data_dummies[data_dummies.isnull().values==True]"
   ]
  },
  {
   "cell_type": "code",
   "execution_count": 9,
   "metadata": {},
   "outputs": [],
   "source": [
    "X = data_dummies.drop(['本周水质'], axis=1) # Series\n",
    "y = data_dummies['本周水质'] # Series"
   ]
  },
  {
   "cell_type": "code",
   "execution_count": 10,
   "metadata": {},
   "outputs": [
    {
     "name": "stdout",
     "output_type": "stream",
     "text": [
      "水质分布情况:\n",
      "2    13272\n",
      "3     8797\n",
      "4     5472\n",
      "1     2438\n",
      "6     2146\n",
      "5     1487\n",
      "Name: 本周水质, dtype: int64\n",
      "\n",
      "各特征类型分布情况:\n",
      "uint8      338\n",
      "float64      4\n",
      "object       1\n",
      "dtype: int64\n"
     ]
    }
   ],
   "source": [
    "print(\"水质分布情况:\")\n",
    "print(y.value_counts())\n",
    "print(\"\\n各特征类型分布情况:\")\n",
    "print(data_dummies.dtypes.value_counts())"
   ]
  },
  {
   "cell_type": "code",
   "execution_count": 11,
   "metadata": {},
   "outputs": [
    {
     "data": {
      "text/html": [
       "<div>\n",
       "<style scoped>\n",
       "    .dataframe tbody tr th:only-of-type {\n",
       "        vertical-align: middle;\n",
       "    }\n",
       "\n",
       "    .dataframe tbody tr th {\n",
       "        vertical-align: top;\n",
       "    }\n",
       "\n",
       "    .dataframe thead th {\n",
       "        text-align: right;\n",
       "    }\n",
       "</style>\n",
       "<table border=\"1\" class=\"dataframe\">\n",
       "  <thead>\n",
       "    <tr style=\"text-align: right;\">\n",
       "      <th></th>\n",
       "      <th>pH</th>\n",
       "      <th>DO(mg/l)</th>\n",
       "      <th>CODMn(mg/l)</th>\n",
       "      <th>NH3-N(mg/l)</th>\n",
       "      <th>本周水质</th>\n",
       "      <th>水系_内陆河流太湖流域</th>\n",
       "      <th>水系_太湖流域</th>\n",
       "      <th>水系_巢湖流域</th>\n",
       "      <th>水系_巢湖流域滇池流域</th>\n",
       "      <th>水系_松花江流域</th>\n",
       "      <th>...</th>\n",
       "      <th>河流名称_闽江</th>\n",
       "      <th>河流名称_颖河</th>\n",
       "      <th>河流名称_额尔古纳河</th>\n",
       "      <th>河流名称_额尔齐斯河</th>\n",
       "      <th>河流名称_饮马河</th>\n",
       "      <th>河流名称_鸭绿江</th>\n",
       "      <th>河流名称_黄河</th>\n",
       "      <th>河流名称_黎河</th>\n",
       "      <th>河流名称_黑茨河</th>\n",
       "      <th>河流名称_黑龙江</th>\n",
       "    </tr>\n",
       "  </thead>\n",
       "  <tbody>\n",
       "    <tr>\n",
       "      <th>0</th>\n",
       "      <td>7.09</td>\n",
       "      <td>10.0</td>\n",
       "      <td>5.7</td>\n",
       "      <td>0.33</td>\n",
       "      <td>3</td>\n",
       "      <td>0</td>\n",
       "      <td>0</td>\n",
       "      <td>1</td>\n",
       "      <td>0</td>\n",
       "      <td>0</td>\n",
       "      <td>...</td>\n",
       "      <td>0</td>\n",
       "      <td>0</td>\n",
       "      <td>0</td>\n",
       "      <td>0</td>\n",
       "      <td>0</td>\n",
       "      <td>0</td>\n",
       "      <td>0</td>\n",
       "      <td>0</td>\n",
       "      <td>0</td>\n",
       "      <td>0</td>\n",
       "    </tr>\n",
       "    <tr>\n",
       "      <th>1</th>\n",
       "      <td>6.94</td>\n",
       "      <td>12.0</td>\n",
       "      <td>5.4</td>\n",
       "      <td>0.40</td>\n",
       "      <td>3</td>\n",
       "      <td>0</td>\n",
       "      <td>0</td>\n",
       "      <td>1</td>\n",
       "      <td>0</td>\n",
       "      <td>0</td>\n",
       "      <td>...</td>\n",
       "      <td>0</td>\n",
       "      <td>0</td>\n",
       "      <td>0</td>\n",
       "      <td>0</td>\n",
       "      <td>0</td>\n",
       "      <td>0</td>\n",
       "      <td>0</td>\n",
       "      <td>0</td>\n",
       "      <td>0</td>\n",
       "      <td>0</td>\n",
       "    </tr>\n",
       "    <tr>\n",
       "      <th>2</th>\n",
       "      <td>7.20</td>\n",
       "      <td>9.6</td>\n",
       "      <td>4.9</td>\n",
       "      <td>0.34</td>\n",
       "      <td>3</td>\n",
       "      <td>0</td>\n",
       "      <td>0</td>\n",
       "      <td>1</td>\n",
       "      <td>0</td>\n",
       "      <td>0</td>\n",
       "      <td>...</td>\n",
       "      <td>0</td>\n",
       "      <td>0</td>\n",
       "      <td>0</td>\n",
       "      <td>0</td>\n",
       "      <td>0</td>\n",
       "      <td>0</td>\n",
       "      <td>0</td>\n",
       "      <td>0</td>\n",
       "      <td>0</td>\n",
       "      <td>0</td>\n",
       "    </tr>\n",
       "    <tr>\n",
       "      <th>3</th>\n",
       "      <td>6.80</td>\n",
       "      <td>11.6</td>\n",
       "      <td>6.3</td>\n",
       "      <td>0.59</td>\n",
       "      <td>4</td>\n",
       "      <td>0</td>\n",
       "      <td>0</td>\n",
       "      <td>1</td>\n",
       "      <td>0</td>\n",
       "      <td>0</td>\n",
       "      <td>...</td>\n",
       "      <td>0</td>\n",
       "      <td>0</td>\n",
       "      <td>0</td>\n",
       "      <td>0</td>\n",
       "      <td>0</td>\n",
       "      <td>0</td>\n",
       "      <td>0</td>\n",
       "      <td>0</td>\n",
       "      <td>0</td>\n",
       "      <td>0</td>\n",
       "    </tr>\n",
       "    <tr>\n",
       "      <th>4</th>\n",
       "      <td>6.75</td>\n",
       "      <td>11.0</td>\n",
       "      <td>6.2</td>\n",
       "      <td>0.64</td>\n",
       "      <td>4</td>\n",
       "      <td>0</td>\n",
       "      <td>0</td>\n",
       "      <td>1</td>\n",
       "      <td>0</td>\n",
       "      <td>0</td>\n",
       "      <td>...</td>\n",
       "      <td>0</td>\n",
       "      <td>0</td>\n",
       "      <td>0</td>\n",
       "      <td>0</td>\n",
       "      <td>0</td>\n",
       "      <td>0</td>\n",
       "      <td>0</td>\n",
       "      <td>0</td>\n",
       "      <td>0</td>\n",
       "      <td>0</td>\n",
       "    </tr>\n",
       "  </tbody>\n",
       "</table>\n",
       "<p>5 rows × 343 columns</p>\n",
       "</div>"
      ],
      "text/plain": [
       "     pH  DO(mg/l)  CODMn(mg/l)  NH3-N(mg/l) 本周水质  水系_内陆河流太湖流域  水系_太湖流域  \\\n",
       "0  7.09      10.0          5.7         0.33    3            0        0   \n",
       "1  6.94      12.0          5.4         0.40    3            0        0   \n",
       "2  7.20       9.6          4.9         0.34    3            0        0   \n",
       "3  6.80      11.6          6.3         0.59    4            0        0   \n",
       "4  6.75      11.0          6.2         0.64    4            0        0   \n",
       "\n",
       "   水系_巢湖流域  水系_巢湖流域滇池流域  水系_松花江流域    ...     河流名称_闽江  河流名称_颖河  河流名称_额尔古纳河  \\\n",
       "0        1            0         0    ...           0        0           0   \n",
       "1        1            0         0    ...           0        0           0   \n",
       "2        1            0         0    ...           0        0           0   \n",
       "3        1            0         0    ...           0        0           0   \n",
       "4        1            0         0    ...           0        0           0   \n",
       "\n",
       "   河流名称_额尔齐斯河  河流名称_饮马河  河流名称_鸭绿江  河流名称_黄河  河流名称_黎河  河流名称_黑茨河  河流名称_黑龙江  \n",
       "0           0         0         0        0        0         0         0  \n",
       "1           0         0         0        0        0         0         0  \n",
       "2           0         0         0        0        0         0         0  \n",
       "3           0         0         0        0        0         0         0  \n",
       "4           0         0         0        0        0         0         0  \n",
       "\n",
       "[5 rows x 343 columns]"
      ]
     },
     "execution_count": 11,
     "metadata": {},
     "output_type": "execute_result"
    }
   ],
   "source": [
    "data_dummies.head()"
   ]
  },
  {
   "cell_type": "code",
   "execution_count": 12,
   "metadata": {},
   "outputs": [],
   "source": [
    "output_path = os.getcwd()+'/../data/water/csv/20122018freshwater_dummies.csv'\n",
    "data_dummies.to_csv(output_path, encoding='utf-8', index=False)"
   ]
  },
  {
   "cell_type": "code",
   "execution_count": 13,
   "metadata": {},
   "outputs": [],
   "source": [
    "# 再存储只保存数字类特征的data\n",
    "drop_columns = ['水系', '点位名称', '河流名称']\n",
    "data.drop(drop_columns, 1, inplace=True)\n",
    "# 删除空行\n",
    "data = data.dropna(axis=0)"
   ]
  },
  {
   "cell_type": "code",
   "execution_count": 14,
   "metadata": {},
   "outputs": [
    {
     "data": {
      "text/html": [
       "<div>\n",
       "<style scoped>\n",
       "    .dataframe tbody tr th:only-of-type {\n",
       "        vertical-align: middle;\n",
       "    }\n",
       "\n",
       "    .dataframe tbody tr th {\n",
       "        vertical-align: top;\n",
       "    }\n",
       "\n",
       "    .dataframe thead th {\n",
       "        text-align: right;\n",
       "    }\n",
       "</style>\n",
       "<table border=\"1\" class=\"dataframe\">\n",
       "  <thead>\n",
       "    <tr style=\"text-align: right;\">\n",
       "      <th></th>\n",
       "      <th>pH</th>\n",
       "      <th>DO(mg/l)</th>\n",
       "      <th>CODMn(mg/l)</th>\n",
       "      <th>NH3-N(mg/l)</th>\n",
       "      <th>本周水质</th>\n",
       "    </tr>\n",
       "  </thead>\n",
       "  <tbody>\n",
       "  </tbody>\n",
       "</table>\n",
       "</div>"
      ],
      "text/plain": [
       "Empty DataFrame\n",
       "Columns: [pH, DO(mg/l), CODMn(mg/l), NH3-N(mg/l), 本周水质]\n",
       "Index: []"
      ]
     },
     "execution_count": 14,
     "metadata": {},
     "output_type": "execute_result"
    }
   ],
   "source": [
    "data[data.isnull().values==True]"
   ]
  },
  {
   "cell_type": "code",
   "execution_count": 15,
   "metadata": {},
   "outputs": [],
   "source": [
    "output_path = os.getcwd()+'/../data/water/csv/20122018freshwater_four_feature.csv'\n",
    "data.to_csv(output_path, encoding='utf-8', index=False)"
   ]
  }
 ],
 "metadata": {
  "kernelspec": {
   "display_name": "Python [conda env:gc]",
   "language": "python",
   "name": "conda-env-gc-py"
  },
  "language_info": {
   "codemirror_mode": {
    "name": "ipython",
    "version": 3
   },
   "file_extension": ".py",
   "mimetype": "text/x-python",
   "name": "python",
   "nbconvert_exporter": "python",
   "pygments_lexer": "ipython3",
   "version": "3.6.3"
  }
 },
 "nbformat": 4,
 "nbformat_minor": 2
}
