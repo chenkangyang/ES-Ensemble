{
 "cells": [
  {
   "cell_type": "code",
   "execution_count": 1,
   "metadata": {
    "collapsed": true
   },
   "outputs": [],
   "source": [
    "import os\n",
    "import pandas as pd\n",
    "import numpy as np\n",
    "\n",
    "from sklearn import preprocessing\n",
    "from sklearn.pipeline import Pipeline\n",
    "import matplotlib\n",
    "import matplotlib.pyplot as plt\n",
    "import seaborn as sns\n",
    "\n",
    "%matplotlib inline"
   ]
  },
  {
   "cell_type": "markdown",
   "metadata": {},
   "source": [
    "# 载入初始CSV数据"
   ]
  },
  {
   "cell_type": "code",
   "execution_count": 2,
   "metadata": {},
   "outputs": [
    {
     "name": "stdout",
     "output_type": "stream",
     "text": [
      "(33614, 8)\n"
     ]
    }
   ],
   "source": [
    "path = os.getcwd()+'/../data/20122018freshwater.csv'\n",
    "df = pd.read_csv(path, na_values = np.nan)\n",
    "print(df.shape)"
   ]
  },
  {
   "cell_type": "code",
   "execution_count": 3,
   "metadata": {
    "collapsed": true
   },
   "outputs": [],
   "source": [
    "df = df.rename(columns={'pH':'$pH$','DO(mg/l)':'$DO\\,(mg/L)$','CODMn(mg/l)':'$COD_{Mn}\\,(mg/L)$','NH3-N(mg/l)':'$NH_{3}-N\\,(mg/L)$'})"
   ]
  },
  {
   "cell_type": "code",
   "execution_count": 4,
   "metadata": {
    "collapsed": true
   },
   "outputs": [],
   "source": [
    "cats = df.本周水质.value_counts()"
   ]
  },
  {
   "cell_type": "code",
   "execution_count": 5,
   "metadata": {
    "collapsed": true
   },
   "outputs": [],
   "source": [
    "cats_df = pd.DataFrame({'cats':cats.index[0:],'fre':cats.values[0:]})"
   ]
  },
  {
   "cell_type": "code",
   "execution_count": 6,
   "metadata": {},
   "outputs": [
    {
     "data": {
      "text/html": [
       "<div>\n",
       "<style scoped>\n",
       "    .dataframe tbody tr th:only-of-type {\n",
       "        vertical-align: middle;\n",
       "    }\n",
       "\n",
       "    .dataframe tbody tr th {\n",
       "        vertical-align: top;\n",
       "    }\n",
       "\n",
       "    .dataframe thead th {\n",
       "        text-align: right;\n",
       "    }\n",
       "</style>\n",
       "<table border=\"1\" class=\"dataframe\">\n",
       "  <thead>\n",
       "    <tr style=\"text-align: right;\">\n",
       "      <th></th>\n",
       "      <th>cats</th>\n",
       "      <th>fre</th>\n",
       "    </tr>\n",
       "  </thead>\n",
       "  <tbody>\n",
       "    <tr>\n",
       "      <th>0</th>\n",
       "      <td>2</td>\n",
       "      <td>13273</td>\n",
       "    </tr>\n",
       "    <tr>\n",
       "      <th>1</th>\n",
       "      <td>3</td>\n",
       "      <td>8797</td>\n",
       "    </tr>\n",
       "    <tr>\n",
       "      <th>2</th>\n",
       "      <td>4</td>\n",
       "      <td>5472</td>\n",
       "    </tr>\n",
       "    <tr>\n",
       "      <th>3</th>\n",
       "      <td>1</td>\n",
       "      <td>2438</td>\n",
       "    </tr>\n",
       "    <tr>\n",
       "      <th>4</th>\n",
       "      <td>6</td>\n",
       "      <td>2146</td>\n",
       "    </tr>\n",
       "    <tr>\n",
       "      <th>5</th>\n",
       "      <td>5</td>\n",
       "      <td>1487</td>\n",
       "    </tr>\n",
       "    <tr>\n",
       "      <th>6</th>\n",
       "      <td>★</td>\n",
       "      <td>1</td>\n",
       "    </tr>\n",
       "  </tbody>\n",
       "</table>\n",
       "</div>"
      ],
      "text/plain": [
       "  cats    fre\n",
       "0    2  13273\n",
       "1    3   8797\n",
       "2    4   5472\n",
       "3    1   2438\n",
       "4    6   2146\n",
       "5    5   1487\n",
       "6    ★      1"
      ]
     },
     "execution_count": 6,
     "metadata": {},
     "output_type": "execute_result"
    }
   ],
   "source": [
    "cats_df"
   ]
  },
  {
   "cell_type": "code",
   "execution_count": 7,
   "metadata": {
    "collapsed": true
   },
   "outputs": [],
   "source": [
    "df = df[['$pH$', '$DO\\,(mg/L)$', '$COD_{Mn}\\,(mg/L)$', '$NH_{3}-N\\,(mg/L)$']]"
   ]
  },
  {
   "cell_type": "code",
   "execution_count": 8,
   "metadata": {},
   "outputs": [
    {
     "data": {
      "text/html": [
       "<div>\n",
       "<style scoped>\n",
       "    .dataframe tbody tr th:only-of-type {\n",
       "        vertical-align: middle;\n",
       "    }\n",
       "\n",
       "    .dataframe tbody tr th {\n",
       "        vertical-align: top;\n",
       "    }\n",
       "\n",
       "    .dataframe thead th {\n",
       "        text-align: right;\n",
       "    }\n",
       "</style>\n",
       "<table border=\"1\" class=\"dataframe\">\n",
       "  <thead>\n",
       "    <tr style=\"text-align: right;\">\n",
       "      <th></th>\n",
       "      <th>$pH$</th>\n",
       "      <th>$DO\\,(mg/L)$</th>\n",
       "      <th>$COD_{Mn}\\,(mg/L)$</th>\n",
       "      <th>$NH_{3}-N\\,(mg/L)$</th>\n",
       "    </tr>\n",
       "  </thead>\n",
       "  <tbody>\n",
       "    <tr>\n",
       "      <th>0</th>\n",
       "      <td>7.09</td>\n",
       "      <td>10.0</td>\n",
       "      <td>5.7</td>\n",
       "      <td>0.33</td>\n",
       "    </tr>\n",
       "    <tr>\n",
       "      <th>1</th>\n",
       "      <td>6.94</td>\n",
       "      <td>12.0</td>\n",
       "      <td>5.4</td>\n",
       "      <td>0.40</td>\n",
       "    </tr>\n",
       "    <tr>\n",
       "      <th>2</th>\n",
       "      <td>7.20</td>\n",
       "      <td>9.6</td>\n",
       "      <td>4.9</td>\n",
       "      <td>0.34</td>\n",
       "    </tr>\n",
       "    <tr>\n",
       "      <th>3</th>\n",
       "      <td>6.80</td>\n",
       "      <td>11.6</td>\n",
       "      <td>6.3</td>\n",
       "      <td>0.59</td>\n",
       "    </tr>\n",
       "    <tr>\n",
       "      <th>4</th>\n",
       "      <td>6.75</td>\n",
       "      <td>11.0</td>\n",
       "      <td>6.2</td>\n",
       "      <td>0.64</td>\n",
       "    </tr>\n",
       "  </tbody>\n",
       "</table>\n",
       "</div>"
      ],
      "text/plain": [
       "   $pH$  $DO\\,(mg/L)$  $COD_{Mn}\\,(mg/L)$  $NH_{3}-N\\,(mg/L)$\n",
       "0  7.09          10.0                 5.7                0.33\n",
       "1  6.94          12.0                 5.4                0.40\n",
       "2  7.20           9.6                 4.9                0.34\n",
       "3  6.80          11.6                 6.3                0.59\n",
       "4  6.75          11.0                 6.2                0.64"
      ]
     },
     "execution_count": 8,
     "metadata": {},
     "output_type": "execute_result"
    }
   ],
   "source": [
    "df.head()"
   ]
  },
  {
   "cell_type": "code",
   "execution_count": 9,
   "metadata": {},
   "outputs": [],
   "source": [
    "# matplotlib.rcParams['font.family']='Times New Roman'\n",
    "matplotlib.rcParams['font.family']='Arial'\n",
    "# matplotlib.rcParams.update({'font.size': 12})\n",
    "matplotlib.rcParams.update({'font.size': 16})\n",
    "matplotlib.rcParams.update({'font.weight': 'bold'}) \n",
    "# weights = ['light', 'normal', 'medium', 'semibold', 'bold', 'heavy', 'black']\n",
    "# 12px = 9pt\n",
    "matplotlib.rcParams['font.family']='Arial'\n",
    "matplotlib.rcParams[\"figure.subplot.hspace\"] = 0.5\n",
    "matplotlib.rcParams[\"figure.subplot.wspace\"] = 0.8\n",
    "matplotlib.rcParams[\"legend.loc\"] = 'upper right'"
   ]
  },
  {
   "cell_type": "code",
   "execution_count": 10,
   "metadata": {},
   "outputs": [
    {
     "data": {
      "text/plain": [
       "<Figure size 12000x9600 with 0 Axes>"
      ]
     },
     "metadata": {},
     "output_type": "display_data"
    },
    {
     "data": {
      "image/png": "[encoded data removed]",
      "text/plain": [
       "<Figure size 504x432 with 4 Axes>"
      ]
     },
     "metadata": {},
     "output_type": "display_data"
    }
   ],
   "source": [
    "plt.figure(dpi=600, figsize=(20,16))\n",
    "figArray = df.plot.hist(subplots=True, bins=100)  #将各列在一figure中分成子图，\n",
    "\n",
    "figArray[0].set_ylabel(\"\")\n",
    "figArray[1].set_ylabel(\"\")\n",
    "figArray[2].set_ylabel(\"\")\n",
    "figArray[3].set_ylabel(\"\")\n",
    "figArray[0].tick_params(labelsize=20)\n",
    "figArray[1].tick_params(labelsize=20)\n",
    "figArray[2].tick_params(labelsize=20)\n",
    "figArray[3].tick_params(labelsize=20)\n",
    "\n",
    "\n",
    "fig = matplotlib.pyplot.gcf()\n",
    "fig.set_size_inches(7, 6)\n",
    "\n",
    "plt.savefig('../img/before.pdf')\n",
    "plt.show()"
   ]
  },
  {
   "cell_type": "code",
   "execution_count": 11,
   "metadata": {
    "collapsed": true
   },
   "outputs": [],
   "source": [
    "from matplotlib.ticker import MultipleLocator, FormatStrFormatter \n",
    "\n",
    "# ymajorFormatter = FormatStrFormatter('%1.2f') #设置y轴标签文本的格式\n",
    "ymajorFormatter = FormatStrFormatter('%d') #设置y轴标签文本的格式\n",
    "# ymajorLocator   = MultipleLocator(0.5) #将y轴主刻度标签设置为0.5的倍数\n",
    "# yminorLocator  = MultipleLocator(0.01) #将此y轴次刻度标签设置为0.1的倍数"
   ]
  },
  {
   "cell_type": "code",
   "execution_count": 12,
   "metadata": {},
   "outputs": [],
   "source": [
    "df = (df-df.mean())/df.std(ddof=0)"
   ]
  },
  {
   "cell_type": "code",
   "execution_count": 13,
   "metadata": {},
   "outputs": [],
   "source": [
    "df = df.rename(columns={\n",
    "    '$DO\\,(mg/L)$':'$DO$',\n",
    "    '$COD_{Mn}\\,(mg/L)$':'$COD_{Mn}$',\n",
    "    '$NH_{3}-N\\,(mg/L)$':'$NH_{3}-N$'})"
   ]
  },
  {
   "cell_type": "code",
   "execution_count": 14,
   "metadata": {},
   "outputs": [
    {
     "data": {
      "text/plain": [
       "<Figure size 3600x2400 with 0 Axes>"
      ]
     },
     "metadata": {},
     "output_type": "display_data"
    },
    {
     "data": {
      "image/png": "[encoded data removed]",
      "text/plain": [
       "<Figure size 504x432 with 4 Axes>"
      ]
     },
     "metadata": {},
     "output_type": "display_data"
    }
   ],
   "source": [
    "plt.figure(dpi=600)\n",
    "figArray = df.plot.hist(subplots=True, bins=100)  #将各列在一figure中分成子图，\n",
    "\n",
    "figArray[0].set_ylabel(\"\")\n",
    "figArray[1].set_ylabel(\"\")\n",
    "figArray[2].set_ylabel(\"\")\n",
    "figArray[3].set_ylabel(\"\")\n",
    "figArray[0].tick_params(labelsize=20)\n",
    "figArray[1].tick_params(labelsize=20)\n",
    "figArray[2].tick_params(labelsize=20)\n",
    "figArray[3].tick_params(labelsize=20)\n",
    "\n",
    "fig = matplotlib.pyplot.gcf()\n",
    "fig.set_size_inches(7, 6)\n",
    "\n",
    "plt.savefig('../img/after.pdf')\n",
    "plt.show()"
   ]
  },
  {
   "cell_type": "code",
   "execution_count": 15,
   "metadata": {},
   "outputs": [],
   "source": [
    "df.to_excel(\"../after.xls\")"
   ]
  }
 ],
 "metadata": {
  "kernelspec": {
   "display_name": "Python [conda env:gc]",
   "language": "python",
   "name": "conda-env-gc-py"
  },
  "language_info": {
   "codemirror_mode": {
    "name": "ipython",
    "version": 3
   },
   "file_extension": ".py",
   "mimetype": "text/x-python",
   "name": "python",
   "nbconvert_exporter": "python",
   "pygments_lexer": "ipython3",
   "version": "3.6.2"
  }
 },
 "nbformat": 4,
 "nbformat_minor": 2
}
