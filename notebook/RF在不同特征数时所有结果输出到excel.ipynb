{
 "cells": [
  {
   "cell_type": "code",
   "execution_count": 1,
   "metadata": {},
   "outputs": [
    {
     "name": "stderr",
     "output_type": "stream",
     "text": [
      "/Users/alex/anaconda/envs/gc/lib/python3.6/site-packages/sklearn/ensemble/weight_boosting.py:29: DeprecationWarning: numpy.core.umath_tests is an internal NumPy module and should not be imported. It will be removed in a future NumPy release.\n",
      "  from numpy.core.umath_tests import inner1d\n"
     ]
    }
   ],
   "source": [
    "import os\n",
    "import pandas as pd\n",
    "import numpy as np\n",
    "\n",
    "from sklearn import preprocessing\n",
    "from sklearn.pipeline import Pipeline\n",
    "from sklearn.ensemble import RandomForestClassifier\n",
    "\n",
    "from sklearn.model_selection import StratifiedKFold\n",
    "\n",
    "from sklearn.metrics import classification_report\n",
    "from sklearn.metrics import f1_score\n",
    "from sklearn.metrics import accuracy_score\n",
    "from sklearn.metrics import confusion_matrix\n",
    "import matplotlib.pyplot as plt\n",
    "%matplotlib inline\n",
    "\n",
    "import xlwt\n",
    "import itertools"
   ]
  },
  {
   "cell_type": "markdown",
   "metadata": {},
   "source": [
    "# 数据及参数"
   ]
  },
  {
   "cell_type": "code",
   "execution_count": 2,
   "metadata": {
    "collapsed": true
   },
   "outputs": [],
   "source": [
    "random_seed = 42\n",
    "cv=5\n",
    "score = 'f1_weighted'"
   ]
  },
  {
   "cell_type": "code",
   "execution_count": 3,
   "metadata": {
    "collapsed": true
   },
   "outputs": [],
   "source": [
    "path = os.getcwd()+'/../data/20122018freshwater_four_feature.csv'\n",
    "data = pd.read_csv(path, na_values = np.nan)"
   ]
  },
  {
   "cell_type": "code",
   "execution_count": 4,
   "metadata": {
    "collapsed": true
   },
   "outputs": [],
   "source": [
    "X = data.drop(['本周水质'], axis=1).values # Series\n",
    "y = data['本周水质'].values.reshape(-1,1) - 1\n",
    "\n",
    "# 1. 中位数填充缺失值，2.Z-score标准化\n",
    "clean_pipeline = Pipeline([('imputer', preprocessing.Imputer(missing_values='NaN',strategy=\"median\")),\n",
    "                           ('std_scaler', preprocessing.StandardScaler())])\n",
    "X = clean_pipeline.fit_transform(X)"
   ]
  },
  {
   "cell_type": "code",
   "execution_count": 5,
   "metadata": {},
   "outputs": [
    {
     "data": {
      "text/plain": [
       "(33612, 4)"
      ]
     },
     "execution_count": 5,
     "metadata": {},
     "output_type": "execute_result"
    }
   ],
   "source": [
    "X.shape"
   ]
  },
  {
   "cell_type": "code",
   "execution_count": 6,
   "metadata": {
    "collapsed": true
   },
   "outputs": [],
   "source": [
    "comb_3=list(itertools.combinations([0,1,2,3],3))\n",
    "comb_2=list(itertools.combinations([0,1,2,3],2))"
   ]
  },
  {
   "cell_type": "markdown",
   "metadata": {},
   "source": [
    "# k折交叉验证"
   ]
  },
  {
   "cell_type": "code",
   "execution_count": 7,
   "metadata": {
    "collapsed": true
   },
   "outputs": [],
   "source": [
    "# function：使用5折交叉验证统计各类别5次平均后的Acc，5次平均后的F1，和模型的总Acc以及总Weighted F1\n",
    "\n",
    "# Input: \n",
    "#     X: 总样本\n",
    "#     y: 总样本\n",
    "#     model: function\n",
    "#     cv: cross_validation的次数\n",
    "# Output:\n",
    "#     Acc_mean, 各类别的Acc\n",
    "#     F1_mean, 各类别F1\n",
    "#     Support_mean, 各类别预测样本占总样本的比重\n",
    "#     Acc, 总Acc\n",
    "#     F1_weighted 总Weighted F1\n",
    "# function：使用5折交叉验证统计各类别5次平均后的Acc，5次平均后的F1，和模型的总Acc以及总Weighted F1\n",
    "\n",
    "# Input: \n",
    "#     X: 总样本\n",
    "#     y: 总样本\n",
    "#     model: function\n",
    "#     cv: cross_validation的次数\n",
    "# Output:\n",
    "#     Acc_mean, 各类别的Acc\n",
    "#     F1_mean, 各类别F1\n",
    "#     Support_mean, 各类别预测样本占总样本的比重\n",
    "#     Acc, 总Acc\n",
    "#     F1_weighted 总Weighted F1\n",
    "\n",
    "\n",
    "def kftrain(X, y, model, cv):\n",
    "    model_name = model.__class__.__name__\n",
    "\n",
    "    n_samples = X.shape[0]\n",
    "    n_features = X.shape[1]\n",
    "    n_class = np.unique(y).shape[0]\n",
    "\n",
    "    _Acc_matrix = np.zeros((n_class, cv))\n",
    "    _Pr_matrix = np.zeros((n_class, cv))\n",
    "    _Rc_matrix = np.zeros((n_class, cv))\n",
    "    _F1_matrix = np.zeros((n_class, cv))\n",
    "    _Support_matrix = np.zeros((n_class, cv))\n",
    "\n",
    "    Acc_matrix = np.zeros((n_class, cv))\n",
    "    Pr_matrix = np.zeros((n_class, cv))\n",
    "    Rc_matrix = np.zeros((n_class, cv))\n",
    "    F1_matrix = np.zeros((n_class, cv))\n",
    "    Support_matrix = np.zeros((n_class, cv))\n",
    "    \n",
    "    k = 0\n",
    "    skf = StratifiedKFold(n_splits=cv) # 定义5折分层划分器\n",
    "    \n",
    "    for train_index, test_index in skf.split(X, y):\n",
    "        K_train_x, K_test_x = X[train_index], X[test_index]\n",
    "        K_train_y, K_test_y = y[train_index], y[test_index]\n",
    "        if model_name == 'GCForest':\n",
    "            model.fit_transform(K_train_x, K_train_y.reshape(K_train_y.shape[0]))\n",
    "        else:\n",
    "            model.fit(K_train_x, K_train_y)\n",
    "    \n",
    "        K_test_y_pred = model.predict(K_test_x)\n",
    "        K_train_y_pred = model.predict(K_train_x)\n",
    "        \n",
    "        # 由混淆矩阵计算各类别的Acc\n",
    "        test_cm = confusion_matrix(K_test_y, K_test_y_pred)\n",
    "        train_cm = confusion_matrix(K_train_y, K_train_y_pred)\n",
    "        test_acc_all_class = np.zeros(n_class)\n",
    "        train_acc_all_class = np.zeros(n_class)\n",
    "        \n",
    "        i = 0\n",
    "        for c in test_cm:\n",
    "            test_acc_all_class[i] = c[i]/np.sum(c)\n",
    "            i += 1\n",
    "        Acc_matrix[:,k] = test_acc_all_class\n",
    "        \n",
    "        i = 0\n",
    "        for c in train_cm:\n",
    "            train_acc_all_class[i] = c[i]/np.sum(c)\n",
    "            i += 1\n",
    "        _Acc_matrix[:,k] = train_acc_all_class\n",
    "        \n",
    "        # 由classification_report提取各类别的precision, recall, F1\n",
    "        cr = classification_report(K_test_y, K_test_y_pred, digits=4)\n",
    "        _cr = classification_report(K_train_y, K_train_y_pred, digits=4)\n",
    "        pr_all_class = np.zeros(n_class)\n",
    "        rc_all_class = np.zeros(n_class)\n",
    "        f1_all_class = np.zeros(n_class)\n",
    "        _pr_all_class = np.zeros(n_class)\n",
    "        _rc_all_class = np.zeros(n_class)\n",
    "        _f1_all_class = np.zeros(n_class)\n",
    "        \n",
    "        support_all_class = np.zeros(n_class)\n",
    "        _support_all_class = np.zeros(n_class)\n",
    "        \n",
    "        i = 0\n",
    "        for l in range(2,8):\n",
    "            pr_all_class[i] = float(cr.splitlines()[l].split()[1])\n",
    "            _pr_all_class[i] = float(_cr.splitlines()[l].split()[1])\n",
    "            rc_all_class[i] = float(cr.splitlines()[l].split()[2])\n",
    "            _rc_all_class[i] = float(_cr.splitlines()[l].split()[2])\n",
    "            f1_all_class[i] = float(cr.splitlines()[l].split()[3])\n",
    "            _f1_all_class[i] = float(_cr.splitlines()[l].split()[3])\n",
    "            \n",
    "            support_all_class[i] = float(cr.splitlines()[l].split()[4])/(n_samples/cv)\n",
    "            _support_all_class[i] = float(_cr.splitlines()[l].split()[4])/(n_samples*(1-1/cv))\n",
    "            i = i + 1\n",
    "        Pr_matrix[:,k] = pr_all_class\n",
    "        Rc_matrix[:,k] = rc_all_class\n",
    "        F1_matrix[:,k] = f1_all_class\n",
    "        Support_matrix[:,k] = support_all_class\n",
    "\n",
    "        _Pr_matrix[:,k] = _pr_all_class\n",
    "        _Rc_matrix[:,k] = _rc_all_class\n",
    "        _F1_matrix[:,k] = _f1_all_class\n",
    "        _Support_matrix[:,k] = _support_all_class\n",
    "        \n",
    "        k += 1\n",
    "    \n",
    "    return Acc_matrix, Pr_matrix, Rc_matrix, F1_matrix, Support_matrix, _Acc_matrix, _Pr_matrix, _Rc_matrix, _F1_matrix, _Support_matrix"
   ]
  },
  {
   "cell_type": "code",
   "execution_count": 8,
   "metadata": {
    "collapsed": true
   },
   "outputs": [],
   "source": [
    "model = RandomForestClassifier()"
   ]
  },
  {
   "cell_type": "code",
   "execution_count": 9,
   "metadata": {},
   "outputs": [
    {
     "name": "stdout",
     "output_type": "stream",
     "text": [
      "RF(0, 1, 2)\n",
      "RandomForestClassifier\n"
     ]
    },
    {
     "name": "stderr",
     "output_type": "stream",
     "text": [
      "/Users/alex/anaconda/envs/gc/lib/python3.6/site-packages/ipykernel/__main__.py:57: DataConversionWarning: A column-vector y was passed when a 1d array was expected. Please change the shape of y to (n_samples,), for example using ravel().\n",
      "/Users/alex/anaconda/envs/gc/lib/python3.6/site-packages/ipykernel/__main__.py:57: DataConversionWarning: A column-vector y was passed when a 1d array was expected. Please change the shape of y to (n_samples,), for example using ravel().\n",
      "/Users/alex/anaconda/envs/gc/lib/python3.6/site-packages/ipykernel/__main__.py:57: DataConversionWarning: A column-vector y was passed when a 1d array was expected. Please change the shape of y to (n_samples,), for example using ravel().\n",
      "/Users/alex/anaconda/envs/gc/lib/python3.6/site-packages/ipykernel/__main__.py:57: DataConversionWarning: A column-vector y was passed when a 1d array was expected. Please change the shape of y to (n_samples,), for example using ravel().\n",
      "/Users/alex/anaconda/envs/gc/lib/python3.6/site-packages/ipykernel/__main__.py:57: DataConversionWarning: A column-vector y was passed when a 1d array was expected. Please change the shape of y to (n_samples,), for example using ravel().\n"
     ]
    },
    {
     "name": "stdout",
     "output_type": "stream",
     "text": [
      "RF(0, 1, 3)\n",
      "RandomForestClassifier\n"
     ]
    },
    {
     "name": "stderr",
     "output_type": "stream",
     "text": [
      "/Users/alex/anaconda/envs/gc/lib/python3.6/site-packages/ipykernel/__main__.py:57: DataConversionWarning: A column-vector y was passed when a 1d array was expected. Please change the shape of y to (n_samples,), for example using ravel().\n",
      "/Users/alex/anaconda/envs/gc/lib/python3.6/site-packages/ipykernel/__main__.py:57: DataConversionWarning: A column-vector y was passed when a 1d array was expected. Please change the shape of y to (n_samples,), for example using ravel().\n",
      "/Users/alex/anaconda/envs/gc/lib/python3.6/site-packages/ipykernel/__main__.py:57: DataConversionWarning: A column-vector y was passed when a 1d array was expected. Please change the shape of y to (n_samples,), for example using ravel().\n",
      "/Users/alex/anaconda/envs/gc/lib/python3.6/site-packages/ipykernel/__main__.py:57: DataConversionWarning: A column-vector y was passed when a 1d array was expected. Please change the shape of y to (n_samples,), for example using ravel().\n",
      "/Users/alex/anaconda/envs/gc/lib/python3.6/site-packages/ipykernel/__main__.py:57: DataConversionWarning: A column-vector y was passed when a 1d array was expected. Please change the shape of y to (n_samples,), for example using ravel().\n"
     ]
    },
    {
     "name": "stdout",
     "output_type": "stream",
     "text": [
      "RF(0, 2, 3)\n",
      "RandomForestClassifier\n"
     ]
    },
    {
     "name": "stderr",
     "output_type": "stream",
     "text": [
      "/Users/alex/anaconda/envs/gc/lib/python3.6/site-packages/ipykernel/__main__.py:57: DataConversionWarning: A column-vector y was passed when a 1d array was expected. Please change the shape of y to (n_samples,), for example using ravel().\n",
      "/Users/alex/anaconda/envs/gc/lib/python3.6/site-packages/ipykernel/__main__.py:57: DataConversionWarning: A column-vector y was passed when a 1d array was expected. Please change the shape of y to (n_samples,), for example using ravel().\n",
      "/Users/alex/anaconda/envs/gc/lib/python3.6/site-packages/ipykernel/__main__.py:57: DataConversionWarning: A column-vector y was passed when a 1d array was expected. Please change the shape of y to (n_samples,), for example using ravel().\n",
      "/Users/alex/anaconda/envs/gc/lib/python3.6/site-packages/ipykernel/__main__.py:57: DataConversionWarning: A column-vector y was passed when a 1d array was expected. Please change the shape of y to (n_samples,), for example using ravel().\n",
      "/Users/alex/anaconda/envs/gc/lib/python3.6/site-packages/ipykernel/__main__.py:57: DataConversionWarning: A column-vector y was passed when a 1d array was expected. Please change the shape of y to (n_samples,), for example using ravel().\n"
     ]
    },
    {
     "name": "stdout",
     "output_type": "stream",
     "text": [
      "RF(1, 2, 3)\n",
      "RandomForestClassifier\n"
     ]
    },
    {
     "name": "stderr",
     "output_type": "stream",
     "text": [
      "/Users/alex/anaconda/envs/gc/lib/python3.6/site-packages/ipykernel/__main__.py:57: DataConversionWarning: A column-vector y was passed when a 1d array was expected. Please change the shape of y to (n_samples,), for example using ravel().\n",
      "/Users/alex/anaconda/envs/gc/lib/python3.6/site-packages/ipykernel/__main__.py:57: DataConversionWarning: A column-vector y was passed when a 1d array was expected. Please change the shape of y to (n_samples,), for example using ravel().\n",
      "/Users/alex/anaconda/envs/gc/lib/python3.6/site-packages/ipykernel/__main__.py:57: DataConversionWarning: A column-vector y was passed when a 1d array was expected. Please change the shape of y to (n_samples,), for example using ravel().\n",
      "/Users/alex/anaconda/envs/gc/lib/python3.6/site-packages/ipykernel/__main__.py:57: DataConversionWarning: A column-vector y was passed when a 1d array was expected. Please change the shape of y to (n_samples,), for example using ravel().\n",
      "/Users/alex/anaconda/envs/gc/lib/python3.6/site-packages/ipykernel/__main__.py:57: DataConversionWarning: A column-vector y was passed when a 1d array was expected. Please change the shape of y to (n_samples,), for example using ravel().\n"
     ]
    }
   ],
   "source": [
    "for cols in comb_3:\n",
    "    print(\"RF\"+str(cols))\n",
    "    X_new = X[:,cols]\n",
    "    workbook = xlwt.Workbook(encoding = 'utf-8')  \n",
    "\n",
    "    model_name = model.__class__.__name__\n",
    "    print(model_name)\n",
    "    Acc_matrix, Pr_matrix, Rc_matrix, F1_matrix, Support_matrix, _Acc_matrix, _Pr_matrix, _Rc_matrix, _F1_matrix, _Support_matrix = kftrain(X_new, y, model, cv)\n",
    "\n",
    "    Acc_cv = np.mean(Acc_matrix, axis=0)\n",
    "    Pr_cv = np.mean(Pr_matrix, axis=0)\n",
    "    Rc_cv = np.mean(Rc_matrix, axis=0)\n",
    "    F1_weighted_cv = np.sum(F1_matrix*Support_matrix, axis=0)\n",
    "    _Acc_cv = np.mean(_Acc_matrix, axis=0)\n",
    "    _Pr_cv = np.mean(_Pr_matrix, axis=0)\n",
    "    _Rc_cv = np.mean(_Rc_matrix, axis=0)\n",
    "    _F1_weighted_cv = np.sum(_F1_matrix*_Support_matrix, axis=0)\n",
    "\n",
    "    Acc_mean = np.mean(Acc_matrix, axis=1)\n",
    "    Pr_mean = np.mean(Pr_matrix, axis=1)\n",
    "    Rc_mean = np.mean(Rc_matrix, axis=1)\n",
    "    F1_mean = np.mean(F1_matrix, axis=1)\n",
    "    Acc_SD = np.std(Acc_matrix, axis=1)\n",
    "    Pr_SD = np.std(Pr_matrix, axis=1)\n",
    "    Rc_SD = np.std(Rc_matrix, axis=1)\n",
    "    F1_SD = np.std(F1_matrix, axis=1)\n",
    "\n",
    "    _Acc_mean = np.mean(_Acc_matrix, axis=1)\n",
    "    _Pr_mean = np.mean(_Pr_matrix, axis=1)\n",
    "    _Rc_mean = np.mean(_Rc_matrix, axis=1)\n",
    "    _F1_mean = np.mean(_F1_matrix, axis=1)\n",
    "    _Acc_SD = np.std(_Acc_matrix, axis=1)\n",
    "    _Pr_SD = np.std(_Pr_matrix, axis=1)\n",
    "    _Rc_SD = np.std(_Rc_matrix, axis=1)\n",
    "    _F1_SD = np.std(_F1_matrix, axis=1)\n",
    "    \n",
    "    worksheet = workbook.add_sheet(model_name, cell_overwrite_ok=True)\n",
    "    style = xlwt.XFStyle()\n",
    "    pattern = xlwt.Pattern()\n",
    "    pattern.pattern_fore_colour = xlwt.Style.colour_map['yellow']\n",
    "    style.pattern = pattern\n",
    "    \n",
    "    l=0\n",
    "    worksheet.write(l,0, \"train_Acc_matrix\")\n",
    "    worksheet.write(l,cv+2, \"test_Acc_matrix\")\n",
    "\n",
    "    for i in range(6):\n",
    "        l+=1\n",
    "        for j in range(cv):\n",
    "            worksheet.write(l, j, _Acc_matrix[i,j])\n",
    "            worksheet.write(l, j+cv+2, Acc_matrix[i,j])\n",
    "        worksheet.write(l, j+1, _Acc_mean[i]) \n",
    "        worksheet.write(l, j+2, _Acc_SD[i])\n",
    "        worksheet.write(l, j+2+cv+1, Acc_mean[i])\n",
    "        worksheet.write(l, j+2+cv+2, Acc_SD[i])\n",
    "    l+=1\n",
    "    for j in range(cv):\n",
    "        worksheet.write(l, j, _Acc_cv[j])\n",
    "        worksheet.write(l, j+cv+2, Acc_cv[j])\n",
    "    worksheet.write(l, j+1, np.mean(_Acc_cv), style=style)\n",
    "    worksheet.write(l, j+2, np.std(_Acc_cv), style=style)\n",
    "    worksheet.write(l, j+2+cv+1, np.mean(Acc_cv), style=style)\n",
    "    worksheet.write(l, j+2+cv+2, np.std(Acc_cv), style=style)\n",
    "    #=======#\n",
    "    l+=3\n",
    "    worksheet.write(l,0, \"train_Pr_matrix\")\n",
    "    worksheet.write(l,cv+2, \"test_Pr_matrix\")\n",
    "\n",
    "    for i in range(6):\n",
    "        l+=1\n",
    "        for j in range(cv):\n",
    "            worksheet.write(l, j, _Pr_matrix[i,j])\n",
    "            worksheet.write(l, j+cv+2, Pr_matrix[i,j])\n",
    "        worksheet.write(l, j+1, _Pr_mean[i]) \n",
    "        worksheet.write(l, j+2, _Pr_SD[i])\n",
    "        worksheet.write(l, j+2+cv+1, Pr_mean[i])\n",
    "        worksheet.write(l, j+2+cv+2, Pr_SD[i])\n",
    "    l+=1\n",
    "    for j in range(cv):\n",
    "        worksheet.write(l, j, _Pr_cv[j])\n",
    "        worksheet.write(l, j+cv+2, Pr_cv[j])\n",
    "    worksheet.write(l, j+1, np.mean(_Pr_cv), style=style)\n",
    "    worksheet.write(l, j+2, np.std(_Pr_cv), style=style)\n",
    "    worksheet.write(l, j+2+cv+1, np.mean(Pr_cv), style=style)\n",
    "    worksheet.write(l, j+2+cv+2, np.std(Pr_cv), style=style)\n",
    "\n",
    "    #=======#\n",
    "    l+=3\n",
    "    worksheet.write(l,0, \"train_Rc_matrix\")\n",
    "    worksheet.write(l,cv+2, \"test_Rc_matrix\")\n",
    "\n",
    "    for i in range(6):\n",
    "        l+=1\n",
    "        for j in range(cv):\n",
    "            worksheet.write(l, j, _Rc_matrix[i,j])\n",
    "            worksheet.write(l, j+cv+2, Rc_matrix[i,j])\n",
    "        worksheet.write(l, j+1, _Rc_mean[i]) \n",
    "        worksheet.write(l, j+2, _Rc_SD[i])\n",
    "        worksheet.write(l, j+2+cv+1, Rc_mean[i])\n",
    "        worksheet.write(l, j+2+cv+2, Rc_SD[i])\n",
    "    l+=1\n",
    "    for j in range(cv):\n",
    "        worksheet.write(l, j, _Rc_cv[j])\n",
    "        worksheet.write(l, j+cv+2, Rc_cv[j])\n",
    "    worksheet.write(l, j+1, np.mean(_Rc_cv), style=style)\n",
    "    worksheet.write(l, j+2, np.std(_Rc_cv), style=style)\n",
    "    worksheet.write(l, j+2+cv+1, np.mean(Rc_cv), style=style)\n",
    "    worksheet.write(l, j+2+cv+2, np.std(Rc_cv), style=style)\n",
    "    #=======#\n",
    "    l+=3\n",
    "    worksheet.write(l,0, \"train_F1_matrix\")\n",
    "    worksheet.write(l,cv+2, \"test_F1_matrix\")\n",
    "\n",
    "    for i in range(6):\n",
    "        l+=1\n",
    "        for j in range(cv):\n",
    "            worksheet.write(l, j, _F1_matrix[i,j])\n",
    "            worksheet.write(l, j+cv+2, F1_matrix[i,j])\n",
    "        worksheet.write(l, j+1, _F1_mean[i]) \n",
    "        worksheet.write(l, j+2, _F1_SD[i])\n",
    "        worksheet.write(l, j+2+cv+1, F1_mean[i])\n",
    "        worksheet.write(l, j+2+cv+2, F1_SD[i])\n",
    "    l+=1\n",
    "    for j in range(cv):\n",
    "        worksheet.write(l, j, _F1_weighted_cv[j])\n",
    "        worksheet.write(l, j+cv+2, F1_weighted_cv[j])\n",
    "    worksheet.write(l, j+1, np.mean(_F1_weighted_cv), style=style)\n",
    "    worksheet.write(l, j+2, np.std(_F1_weighted_cv), style=style)\n",
    "    worksheet.write(l, j+2+cv+1, np.mean(F1_weighted_cv), style=style)\n",
    "    worksheet.write(l, j+2+cv+2, np.std(F1_weighted_cv), style=style)\n",
    "\n",
    "\n",
    "    workbook.save(\"../res/RF\"+str(cols)+\".xls\")"
   ]
  },
  {
   "cell_type": "code",
   "execution_count": 10,
   "metadata": {
    "collapsed": true
   },
   "outputs": [],
   "source": [
    "model = RandomForestClassifier()"
   ]
  },
  {
   "cell_type": "code",
   "execution_count": 11,
   "metadata": {},
   "outputs": [
    {
     "name": "stdout",
     "output_type": "stream",
     "text": [
      "RF(0, 1)\n",
      "RandomForestClassifier\n"
     ]
    },
    {
     "name": "stderr",
     "output_type": "stream",
     "text": [
      "/Users/alex/anaconda/envs/gc/lib/python3.6/site-packages/ipykernel/__main__.py:57: DataConversionWarning: A column-vector y was passed when a 1d array was expected. Please change the shape of y to (n_samples,), for example using ravel().\n",
      "/Users/alex/anaconda/envs/gc/lib/python3.6/site-packages/ipykernel/__main__.py:57: DataConversionWarning: A column-vector y was passed when a 1d array was expected. Please change the shape of y to (n_samples,), for example using ravel().\n",
      "/Users/alex/anaconda/envs/gc/lib/python3.6/site-packages/ipykernel/__main__.py:57: DataConversionWarning: A column-vector y was passed when a 1d array was expected. Please change the shape of y to (n_samples,), for example using ravel().\n",
      "/Users/alex/anaconda/envs/gc/lib/python3.6/site-packages/ipykernel/__main__.py:57: DataConversionWarning: A column-vector y was passed when a 1d array was expected. Please change the shape of y to (n_samples,), for example using ravel().\n",
      "/Users/alex/anaconda/envs/gc/lib/python3.6/site-packages/ipykernel/__main__.py:57: DataConversionWarning: A column-vector y was passed when a 1d array was expected. Please change the shape of y to (n_samples,), for example using ravel().\n"
     ]
    },
    {
     "name": "stdout",
     "output_type": "stream",
     "text": [
      "RF(0, 2)\n",
      "RandomForestClassifier\n"
     ]
    },
    {
     "name": "stderr",
     "output_type": "stream",
     "text": [
      "/Users/alex/anaconda/envs/gc/lib/python3.6/site-packages/ipykernel/__main__.py:57: DataConversionWarning: A column-vector y was passed when a 1d array was expected. Please change the shape of y to (n_samples,), for example using ravel().\n",
      "/Users/alex/anaconda/envs/gc/lib/python3.6/site-packages/ipykernel/__main__.py:57: DataConversionWarning: A column-vector y was passed when a 1d array was expected. Please change the shape of y to (n_samples,), for example using ravel().\n",
      "/Users/alex/anaconda/envs/gc/lib/python3.6/site-packages/ipykernel/__main__.py:57: DataConversionWarning: A column-vector y was passed when a 1d array was expected. Please change the shape of y to (n_samples,), for example using ravel().\n",
      "/Users/alex/anaconda/envs/gc/lib/python3.6/site-packages/ipykernel/__main__.py:57: DataConversionWarning: A column-vector y was passed when a 1d array was expected. Please change the shape of y to (n_samples,), for example using ravel().\n",
      "/Users/alex/anaconda/envs/gc/lib/python3.6/site-packages/ipykernel/__main__.py:57: DataConversionWarning: A column-vector y was passed when a 1d array was expected. Please change the shape of y to (n_samples,), for example using ravel().\n"
     ]
    },
    {
     "name": "stdout",
     "output_type": "stream",
     "text": [
      "RF(0, 3)\n",
      "RandomForestClassifier\n"
     ]
    },
    {
     "name": "stderr",
     "output_type": "stream",
     "text": [
      "/Users/alex/anaconda/envs/gc/lib/python3.6/site-packages/ipykernel/__main__.py:57: DataConversionWarning: A column-vector y was passed when a 1d array was expected. Please change the shape of y to (n_samples,), for example using ravel().\n",
      "/Users/alex/anaconda/envs/gc/lib/python3.6/site-packages/ipykernel/__main__.py:57: DataConversionWarning: A column-vector y was passed when a 1d array was expected. Please change the shape of y to (n_samples,), for example using ravel().\n",
      "/Users/alex/anaconda/envs/gc/lib/python3.6/site-packages/ipykernel/__main__.py:57: DataConversionWarning: A column-vector y was passed when a 1d array was expected. Please change the shape of y to (n_samples,), for example using ravel().\n",
      "/Users/alex/anaconda/envs/gc/lib/python3.6/site-packages/ipykernel/__main__.py:57: DataConversionWarning: A column-vector y was passed when a 1d array was expected. Please change the shape of y to (n_samples,), for example using ravel().\n",
      "/Users/alex/anaconda/envs/gc/lib/python3.6/site-packages/ipykernel/__main__.py:57: DataConversionWarning: A column-vector y was passed when a 1d array was expected. Please change the shape of y to (n_samples,), for example using ravel().\n"
     ]
    },
    {
     "name": "stdout",
     "output_type": "stream",
     "text": [
      "RF(1, 2)\n",
      "RandomForestClassifier\n"
     ]
    },
    {
     "name": "stderr",
     "output_type": "stream",
     "text": [
      "/Users/alex/anaconda/envs/gc/lib/python3.6/site-packages/ipykernel/__main__.py:57: DataConversionWarning: A column-vector y was passed when a 1d array was expected. Please change the shape of y to (n_samples,), for example using ravel().\n",
      "/Users/alex/anaconda/envs/gc/lib/python3.6/site-packages/ipykernel/__main__.py:57: DataConversionWarning: A column-vector y was passed when a 1d array was expected. Please change the shape of y to (n_samples,), for example using ravel().\n",
      "/Users/alex/anaconda/envs/gc/lib/python3.6/site-packages/ipykernel/__main__.py:57: DataConversionWarning: A column-vector y was passed when a 1d array was expected. Please change the shape of y to (n_samples,), for example using ravel().\n",
      "/Users/alex/anaconda/envs/gc/lib/python3.6/site-packages/ipykernel/__main__.py:57: DataConversionWarning: A column-vector y was passed when a 1d array was expected. Please change the shape of y to (n_samples,), for example using ravel().\n",
      "/Users/alex/anaconda/envs/gc/lib/python3.6/site-packages/ipykernel/__main__.py:57: DataConversionWarning: A column-vector y was passed when a 1d array was expected. Please change the shape of y to (n_samples,), for example using ravel().\n"
     ]
    },
    {
     "name": "stdout",
     "output_type": "stream",
     "text": [
      "RF(1, 3)\n",
      "RandomForestClassifier\n"
     ]
    },
    {
     "name": "stderr",
     "output_type": "stream",
     "text": [
      "/Users/alex/anaconda/envs/gc/lib/python3.6/site-packages/ipykernel/__main__.py:57: DataConversionWarning: A column-vector y was passed when a 1d array was expected. Please change the shape of y to (n_samples,), for example using ravel().\n",
      "/Users/alex/anaconda/envs/gc/lib/python3.6/site-packages/ipykernel/__main__.py:57: DataConversionWarning: A column-vector y was passed when a 1d array was expected. Please change the shape of y to (n_samples,), for example using ravel().\n",
      "/Users/alex/anaconda/envs/gc/lib/python3.6/site-packages/ipykernel/__main__.py:57: DataConversionWarning: A column-vector y was passed when a 1d array was expected. Please change the shape of y to (n_samples,), for example using ravel().\n",
      "/Users/alex/anaconda/envs/gc/lib/python3.6/site-packages/ipykernel/__main__.py:57: DataConversionWarning: A column-vector y was passed when a 1d array was expected. Please change the shape of y to (n_samples,), for example using ravel().\n",
      "/Users/alex/anaconda/envs/gc/lib/python3.6/site-packages/ipykernel/__main__.py:57: DataConversionWarning: A column-vector y was passed when a 1d array was expected. Please change the shape of y to (n_samples,), for example using ravel().\n"
     ]
    },
    {
     "name": "stdout",
     "output_type": "stream",
     "text": [
      "RF(2, 3)\n",
      "RandomForestClassifier\n"
     ]
    },
    {
     "name": "stderr",
     "output_type": "stream",
     "text": [
      "/Users/alex/anaconda/envs/gc/lib/python3.6/site-packages/ipykernel/__main__.py:57: DataConversionWarning: A column-vector y was passed when a 1d array was expected. Please change the shape of y to (n_samples,), for example using ravel().\n",
      "/Users/alex/anaconda/envs/gc/lib/python3.6/site-packages/ipykernel/__main__.py:57: DataConversionWarning: A column-vector y was passed when a 1d array was expected. Please change the shape of y to (n_samples,), for example using ravel().\n",
      "/Users/alex/anaconda/envs/gc/lib/python3.6/site-packages/ipykernel/__main__.py:57: DataConversionWarning: A column-vector y was passed when a 1d array was expected. Please change the shape of y to (n_samples,), for example using ravel().\n",
      "/Users/alex/anaconda/envs/gc/lib/python3.6/site-packages/ipykernel/__main__.py:57: DataConversionWarning: A column-vector y was passed when a 1d array was expected. Please change the shape of y to (n_samples,), for example using ravel().\n",
      "/Users/alex/anaconda/envs/gc/lib/python3.6/site-packages/ipykernel/__main__.py:57: DataConversionWarning: A column-vector y was passed when a 1d array was expected. Please change the shape of y to (n_samples,), for example using ravel().\n"
     ]
    }
   ],
   "source": [
    "for cols in comb_2:\n",
    "    print(\"RF\"+str(cols))\n",
    "    X_new = X[:,cols]\n",
    "    workbook = xlwt.Workbook(encoding = 'utf-8')  \n",
    "\n",
    "    model_name = model.__class__.__name__\n",
    "    print(model_name)\n",
    "    Acc_matrix, Pr_matrix, Rc_matrix, F1_matrix, Support_matrix, _Acc_matrix, _Pr_matrix, _Rc_matrix, _F1_matrix, _Support_matrix = kftrain(X_new, y, model, cv)\n",
    "\n",
    "    Acc_cv = np.mean(Acc_matrix, axis=0)\n",
    "    Pr_cv = np.mean(Pr_matrix, axis=0)\n",
    "    Rc_cv = np.mean(Rc_matrix, axis=0)\n",
    "    F1_weighted_cv = np.sum(F1_matrix*Support_matrix, axis=0)\n",
    "    _Acc_cv = np.mean(_Acc_matrix, axis=0)\n",
    "    _Pr_cv = np.mean(_Pr_matrix, axis=0)\n",
    "    _Rc_cv = np.mean(_Rc_matrix, axis=0)\n",
    "    _F1_weighted_cv = np.sum(_F1_matrix*_Support_matrix, axis=0)\n",
    "\n",
    "    Acc_mean = np.mean(Acc_matrix, axis=1)\n",
    "    Pr_mean = np.mean(Pr_matrix, axis=1)\n",
    "    Rc_mean = np.mean(Rc_matrix, axis=1)\n",
    "    F1_mean = np.mean(F1_matrix, axis=1)\n",
    "    Acc_SD = np.std(Acc_matrix, axis=1)\n",
    "    Pr_SD = np.std(Pr_matrix, axis=1)\n",
    "    Rc_SD = np.std(Rc_matrix, axis=1)\n",
    "    F1_SD = np.std(F1_matrix, axis=1)\n",
    "\n",
    "    _Acc_mean = np.mean(_Acc_matrix, axis=1)\n",
    "    _Pr_mean = np.mean(_Pr_matrix, axis=1)\n",
    "    _Rc_mean = np.mean(_Rc_matrix, axis=1)\n",
    "    _F1_mean = np.mean(_F1_matrix, axis=1)\n",
    "    _Acc_SD = np.std(_Acc_matrix, axis=1)\n",
    "    _Pr_SD = np.std(_Pr_matrix, axis=1)\n",
    "    _Rc_SD = np.std(_Rc_matrix, axis=1)\n",
    "    _F1_SD = np.std(_F1_matrix, axis=1)\n",
    "    \n",
    "    worksheet = workbook.add_sheet(model_name, cell_overwrite_ok=True)\n",
    "    style = xlwt.XFStyle()\n",
    "    pattern = xlwt.Pattern()\n",
    "    pattern.pattern_fore_colour = xlwt.Style.colour_map['yellow']\n",
    "    style.pattern = pattern\n",
    "    \n",
    "    l=0\n",
    "    worksheet.write(l,0, \"train_Acc_matrix\")\n",
    "    worksheet.write(l,cv+2, \"test_Acc_matrix\")\n",
    "\n",
    "    for i in range(6):\n",
    "        l+=1\n",
    "        for j in range(cv):\n",
    "            worksheet.write(l, j, _Acc_matrix[i,j])\n",
    "            worksheet.write(l, j+cv+2, Acc_matrix[i,j])\n",
    "        worksheet.write(l, j+1, _Acc_mean[i]) \n",
    "        worksheet.write(l, j+2, _Acc_SD[i])\n",
    "        worksheet.write(l, j+2+cv+1, Acc_mean[i])\n",
    "        worksheet.write(l, j+2+cv+2, Acc_SD[i])\n",
    "    l+=1\n",
    "    for j in range(cv):\n",
    "        worksheet.write(l, j, _Acc_cv[j])\n",
    "        worksheet.write(l, j+cv+2, Acc_cv[j])\n",
    "    worksheet.write(l, j+1, np.mean(_Acc_cv), style=style)\n",
    "    worksheet.write(l, j+2, np.std(_Acc_cv), style=style)\n",
    "    worksheet.write(l, j+2+cv+1, np.mean(Acc_cv), style=style)\n",
    "    worksheet.write(l, j+2+cv+2, np.std(Acc_cv), style=style)\n",
    "    #=======#\n",
    "    l+=3\n",
    "    worksheet.write(l,0, \"train_Pr_matrix\")\n",
    "    worksheet.write(l,cv+2, \"test_Pr_matrix\")\n",
    "\n",
    "    for i in range(6):\n",
    "        l+=1\n",
    "        for j in range(cv):\n",
    "            worksheet.write(l, j, _Pr_matrix[i,j])\n",
    "            worksheet.write(l, j+cv+2, Pr_matrix[i,j])\n",
    "        worksheet.write(l, j+1, _Pr_mean[i]) \n",
    "        worksheet.write(l, j+2, _Pr_SD[i])\n",
    "        worksheet.write(l, j+2+cv+1, Pr_mean[i])\n",
    "        worksheet.write(l, j+2+cv+2, Pr_SD[i])\n",
    "    l+=1\n",
    "    for j in range(cv):\n",
    "        worksheet.write(l, j, _Pr_cv[j])\n",
    "        worksheet.write(l, j+cv+2, Pr_cv[j])\n",
    "    worksheet.write(l, j+1, np.mean(_Pr_cv), style=style)\n",
    "    worksheet.write(l, j+2, np.std(_Pr_cv), style=style)\n",
    "    worksheet.write(l, j+2+cv+1, np.mean(Pr_cv), style=style)\n",
    "    worksheet.write(l, j+2+cv+2, np.std(Pr_cv), style=style)\n",
    "\n",
    "    #=======#\n",
    "    l+=3\n",
    "    worksheet.write(l,0, \"train_Rc_matrix\")\n",
    "    worksheet.write(l,cv+2, \"test_Rc_matrix\")\n",
    "\n",
    "    for i in range(6):\n",
    "        l+=1\n",
    "        for j in range(cv):\n",
    "            worksheet.write(l, j, _Rc_matrix[i,j])\n",
    "            worksheet.write(l, j+cv+2, Rc_matrix[i,j])\n",
    "        worksheet.write(l, j+1, _Rc_mean[i]) \n",
    "        worksheet.write(l, j+2, _Rc_SD[i])\n",
    "        worksheet.write(l, j+2+cv+1, Rc_mean[i])\n",
    "        worksheet.write(l, j+2+cv+2, Rc_SD[i])\n",
    "    l+=1\n",
    "    for j in range(cv):\n",
    "        worksheet.write(l, j, _Rc_cv[j])\n",
    "        worksheet.write(l, j+cv+2, Rc_cv[j])\n",
    "    worksheet.write(l, j+1, np.mean(_Rc_cv), style=style)\n",
    "    worksheet.write(l, j+2, np.std(_Rc_cv), style=style)\n",
    "    worksheet.write(l, j+2+cv+1, np.mean(Rc_cv), style=style)\n",
    "    worksheet.write(l, j+2+cv+2, np.std(Rc_cv), style=style)\n",
    "    #=======#\n",
    "    l+=3\n",
    "    worksheet.write(l,0, \"train_F1_matrix\")\n",
    "    worksheet.write(l,cv+2, \"test_F1_matrix\")\n",
    "\n",
    "    for i in range(6):\n",
    "        l+=1\n",
    "        for j in range(cv):\n",
    "            worksheet.write(l, j, _F1_matrix[i,j])\n",
    "            worksheet.write(l, j+cv+2, F1_matrix[i,j])\n",
    "        worksheet.write(l, j+1, _F1_mean[i]) \n",
    "        worksheet.write(l, j+2, _F1_SD[i])\n",
    "        worksheet.write(l, j+2+cv+1, F1_mean[i])\n",
    "        worksheet.write(l, j+2+cv+2, F1_SD[i])\n",
    "    l+=1\n",
    "    for j in range(cv):\n",
    "        worksheet.write(l, j, _F1_weighted_cv[j])\n",
    "        worksheet.write(l, j+cv+2, F1_weighted_cv[j])\n",
    "    worksheet.write(l, j+1, np.mean(_F1_weighted_cv), style=style)\n",
    "    worksheet.write(l, j+2, np.std(_F1_weighted_cv), style=style)\n",
    "    worksheet.write(l, j+2+cv+1, np.mean(F1_weighted_cv), style=style)\n",
    "    worksheet.write(l, j+2+cv+2, np.std(F1_weighted_cv), style=style)\n",
    "\n",
    "\n",
    "    workbook.save(\"../res/RF\"+str(cols)+\".xls\")"
   ]
  },
  {
   "cell_type": "code",
   "execution_count": null,
   "metadata": {
    "collapsed": true
   },
   "outputs": [],
   "source": []
  }
 ],
 "metadata": {
  "kernelspec": {
   "display_name": "Python [default]",
   "language": "python",
   "name": "python3"
  },
  "language_info": {
   "codemirror_mode": {
    "name": "ipython",
    "version": 3
   },
   "file_extension": ".py",
   "mimetype": "text/x-python",
   "name": "python",
   "nbconvert_exporter": "python",
   "pygments_lexer": "ipython3",
   "version": "3.6.2"
  }
 },
 "nbformat": 4,
 "nbformat_minor": 2
}
