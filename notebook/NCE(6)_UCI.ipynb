{
 "cells": [
  {
   "cell_type": "markdown",
   "metadata": {},
   "source": [
    "选取4个UCI数据集：adult，iris，letter，yeast，除了adult，其余都按60%train，20%validation, 20%test的比例划分"
   ]
  },
  {
   "cell_type": "code",
   "execution_count": 1,
   "metadata": {},
   "outputs": [
    {
     "name": "stderr",
     "output_type": "stream",
     "text": [
      "/Users/alex/anaconda/envs/gc/lib/python3.6/site-packages/sklearn/ensemble/weight_boosting.py:29: DeprecationWarning: numpy.core.umath_tests is an internal NumPy module and should not be imported. It will be removed in a future NumPy release.\n",
      "  from numpy.core.umath_tests import inner1d\n"
     ]
    }
   ],
   "source": [
    "import os\n",
    "import numpy as np\n",
    "import pandas as pd\n",
    "\n",
    "from sklearn import preprocessing\n",
    "from sklearn.pipeline import Pipeline\n",
    "\n",
    "from sklearn.linear_model import LogisticRegression\n",
    "from sklearn.discriminant_analysis import LinearDiscriminantAnalysis\n",
    "from sklearn.svm import SVC\n",
    "from sklearn.naive_bayes import GaussianNB\n",
    "from sklearn.neighbors import KNeighborsClassifier\n",
    "from sklearn.tree import DecisionTreeClassifier\n",
    "from sklearn.ensemble import RandomForestClassifier\n",
    "\n",
    "from sklearn.model_selection import train_test_split\n",
    "from sklearn.model_selection import StratifiedKFold\n",
    "\n",
    "from sklearn import preprocessing\n",
    "from sklearn.pipeline import Pipeline\n",
    "\n",
    "from sklearn.metrics import classification_report\n",
    "from sklearn.metrics import f1_score\n",
    "from sklearn.metrics import accuracy_score\n",
    "from sklearn.metrics import confusion_matrix\n",
    "import matplotlib.pyplot as plt\n",
    "%matplotlib inline"
   ]
  },
  {
   "cell_type": "code",
   "execution_count": 2,
   "metadata": {
    "collapsed": true
   },
   "outputs": [],
   "source": [
    "# Z-score\n",
    "clean_pipeline = Pipeline([('imputer', preprocessing.Imputer(missing_values='NaN',strategy=\"median\")),\n",
    "                           ('std_scaler', preprocessing.StandardScaler())])"
   ]
  },
  {
   "cell_type": "markdown",
   "metadata": {},
   "source": [
    "## 载入adlut"
   ]
  },
  {
   "cell_type": "code",
   "execution_count": 3,
   "metadata": {},
   "outputs": [
    {
     "name": "stdout",
     "output_type": "stream",
     "text": [
      "adult_train: (30162, 15)\n",
      "adult_test: (15060, 15)\n"
     ]
    }
   ],
   "source": [
    "adult_train = pd.read_csv(\"../data/adult/adult.csv\", na_values = np.nan)\n",
    "adult_test = pd.read_csv(\"../data/adult/adult_test.csv\", na_values = np.nan)\n",
    "print(\"adult_train:\", adult_train.shape)\n",
    "print(\"adult_test:\", adult_test.shape)"
   ]
  },
  {
   "cell_type": "markdown",
   "metadata": {},
   "source": [
    "dataframe转ndarray后, 分离train,test,X,y "
   ]
  },
  {
   "cell_type": "code",
   "execution_count": 4,
   "metadata": {},
   "outputs": [
    {
     "name": "stdout",
     "output_type": "stream",
     "text": [
      "adult_train_X: (30162, 14)\n",
      "adult_train_y: (30162, 1)\n",
      "adult_test_X: (15060, 14)\n",
      "adult_test_y: (15060, 1)\n"
     ]
    }
   ],
   "source": [
    "adult_train_X = adult_train.values[:,0:14]\n",
    "adult_train_y = adult_train.values[:,14:15]\n",
    "adult_test_X = adult_test.values[:,0:14]\n",
    "adult_test_y = adult_test.values[:,14:15]\n",
    "print(\"adult_train_X:\", adult_train_X.shape)\n",
    "print(\"adult_train_y:\", adult_train_y.shape)\n",
    "print(\"adult_test_X:\", adult_test_X.shape)\n",
    "print(\"adult_test_y:\", adult_test_y.shape)"
   ]
  },
  {
   "cell_type": "code",
   "execution_count": 5,
   "metadata": {
    "collapsed": true
   },
   "outputs": [],
   "source": [
    "adult_train_X = clean_pipeline.fit_transform(adult_train_X)\n",
    "adult_test_X = clean_pipeline.fit_transform(adult_test_X)"
   ]
  },
  {
   "cell_type": "markdown",
   "metadata": {},
   "source": [
    "## 载入iris"
   ]
  },
  {
   "cell_type": "code",
   "execution_count": 6,
   "metadata": {},
   "outputs": [
    {
     "name": "stdout",
     "output_type": "stream",
     "text": [
      "iris: (149, 6)\n"
     ]
    }
   ],
   "source": [
    "iris =  pd.read_csv(\"../data/iris/iris.csv\", na_values = np.nan)\n",
    "print(\"iris:\", iris.shape)"
   ]
  },
  {
   "cell_type": "markdown",
   "metadata": {},
   "source": [
    "dataframe转ndarray后, 分离train,test,X,y "
   ]
  },
  {
   "cell_type": "code",
   "execution_count": 7,
   "metadata": {},
   "outputs": [
    {
     "name": "stdout",
     "output_type": "stream",
     "text": [
      "iris_train_X: (119, 4)\n",
      "iris_train_y: (119, 1)\n",
      "iris_test_X: (30, 4)\n",
      "iris_test_y: (30, 1)\n"
     ]
    }
   ],
   "source": [
    "iris_X = iris.values[:,0:4]\n",
    "iris_y = iris.values[:,4:5]\n",
    "\n",
    "iris_train_X, iris_test_X, iris_train_y, iris_test_y = train_test_split(iris_X, iris_y, test_size=0.2, \n",
    "                                       stratify = iris_y, random_state = 42)\n",
    "print(\"iris_train_X:\", iris_train_X.shape)\n",
    "print(\"iris_train_y:\", iris_train_y.shape)\n",
    "print(\"iris_test_X:\", iris_test_X.shape)\n",
    "print(\"iris_test_y:\", iris_test_y.shape)"
   ]
  },
  {
   "cell_type": "code",
   "execution_count": 8,
   "metadata": {
    "collapsed": true
   },
   "outputs": [],
   "source": [
    "iris_train_X = clean_pipeline.fit_transform(iris_train_X)\n",
    "iris_test_X = clean_pipeline.fit_transform(iris_test_X)"
   ]
  },
  {
   "cell_type": "markdown",
   "metadata": {},
   "source": [
    "## 载入letter"
   ]
  },
  {
   "cell_type": "code",
   "execution_count": 9,
   "metadata": {},
   "outputs": [
    {
     "name": "stdout",
     "output_type": "stream",
     "text": [
      "letter: (20000, 17)\n"
     ]
    }
   ],
   "source": [
    "letter =  pd.read_csv(\"../data/letter/letter.csv\", na_values = np.nan)\n",
    "print(\"letter:\", letter.shape)"
   ]
  },
  {
   "cell_type": "markdown",
   "metadata": {},
   "source": [
    "dataframe转ndarray后, 分离train,test,X,y "
   ]
  },
  {
   "cell_type": "code",
   "execution_count": 10,
   "metadata": {},
   "outputs": [
    {
     "name": "stdout",
     "output_type": "stream",
     "text": [
      "letter_train_X: (16000, 16)\n",
      "letter_train_y: (16000, 1)\n",
      "letter_test_X: (4000, 16)\n",
      "letter_test_y: (4000, 1)\n"
     ]
    }
   ],
   "source": [
    "letter_X = letter.values[:,0:16]\n",
    "letter_y = letter.values[:,16:17]\n",
    "\n",
    "letter_train_X, letter_test_X, letter_train_y, letter_test_y = train_test_split(letter_X, letter_y, test_size=0.2, \n",
    "                                       stratify = letter_y, random_state = 42)\n",
    "print(\"letter_train_X:\", letter_train_X.shape)\n",
    "print(\"letter_train_y:\", letter_train_y.shape)\n",
    "print(\"letter_test_X:\", letter_test_X.shape)\n",
    "print(\"letter_test_y:\", letter_test_y.shape)"
   ]
  },
  {
   "cell_type": "code",
   "execution_count": 11,
   "metadata": {
    "collapsed": true
   },
   "outputs": [],
   "source": [
    "letter_train_X = clean_pipeline.fit_transform(letter_train_X)\n",
    "letter_test_X = clean_pipeline.fit_transform(letter_test_X)"
   ]
  },
  {
   "cell_type": "markdown",
   "metadata": {},
   "source": [
    "## 载入yeast"
   ]
  },
  {
   "cell_type": "code",
   "execution_count": 12,
   "metadata": {},
   "outputs": [
    {
     "name": "stdout",
     "output_type": "stream",
     "text": [
      "yeast: (1483, 10)\n"
     ]
    }
   ],
   "source": [
    "yeast =  pd.read_csv(\"../data/yeast/yeast.csv\", na_values = np.nan)\n",
    "print(\"yeast:\", yeast.shape)"
   ]
  },
  {
   "cell_type": "markdown",
   "metadata": {},
   "source": [
    "dataframe转ndarray后, 分离train,test,X,y "
   ]
  },
  {
   "cell_type": "code",
   "execution_count": 13,
   "metadata": {},
   "outputs": [
    {
     "name": "stdout",
     "output_type": "stream",
     "text": [
      "yeast_train_X: (1186, 9)\n",
      "yeast_train_y: (1186, 1)\n",
      "yeast_test_X: (297, 9)\n",
      "yeast_test_y: (297, 1)\n"
     ]
    }
   ],
   "source": [
    "yeast_X = yeast.values[:,0:9]\n",
    "yeast_y = yeast.values[:,9:10]\n",
    "\n",
    "yeast_train_X, yeast_test_X, yeast_train_y, yeast_test_y = train_test_split(yeast_X, yeast_y, test_size=0.2, \n",
    "                                       stratify = yeast_y, random_state = 42)\n",
    "print(\"yeast_train_X:\", yeast_train_X.shape)\n",
    "print(\"yeast_train_y:\", yeast_train_y.shape)\n",
    "print(\"yeast_test_X:\", yeast_test_X.shape)\n",
    "print(\"yeast_test_y:\", yeast_test_y.shape)"
   ]
  },
  {
   "cell_type": "code",
   "execution_count": 14,
   "metadata": {
    "collapsed": true
   },
   "outputs": [],
   "source": [
    "yeast_train_X = clean_pipeline.fit_transform(yeast_train_X)\n",
    "yeast_test_X = clean_pipeline.fit_transform(yeast_test_X)"
   ]
  },
  {
   "cell_type": "markdown",
   "metadata": {},
   "source": [
    "## 训练"
   ]
  },
  {
   "cell_type": "code",
   "execution_count": 15,
   "metadata": {
    "collapsed": true
   },
   "outputs": [],
   "source": [
    "# function：get_kftrain_proba\n",
    "# 使用交叉训练，输出整个训练集上所有样本的概率向量\n",
    "\n",
    "# Input: \n",
    "#     X: 总样本\n",
    "#     y: 总样本\n",
    "#     model: 某个模型的函数定义\n",
    "#     cv: 交叉次数\n",
    "# Output:\n",
    "#     proba_mat: 训练集所有样本的概率向量"
   ]
  },
  {
   "cell_type": "code",
   "execution_count": 16,
   "metadata": {
    "collapsed": true
   },
   "outputs": [],
   "source": [
    "def get_kftrain_proba(X, y, m, cv):\n",
    "    model_name = m.__class__.__name__\n",
    "    \n",
    "    n_samples = X.shape[0] # 总样本数\n",
    "    n_features = X.shape[1] # 总特征数\n",
    "    n_class = np.unique(y).shape[0] # 总类别数\n",
    "    \n",
    "    proba_mat = np.zeros((n_samples, n_class)) # 输出概率矩阵\n",
    "    \n",
    "    index = 0\n",
    "    skf = StratifiedKFold(n_splits=cv) # 定义k折分层划分器\n",
    "    \n",
    "    # 分开训练cv次，训练结果可能不如合并训练好，但能一定程度上减少模型过拟合\n",
    "    for train_index, test_index in skf.split(X, y):\n",
    "        K_train_x, K_test_x = X[train_index], X[test_index]\n",
    "        K_train_y, K_test_y = y[train_index], y[test_index]\n",
    "        m.fit(K_train_x, K_train_y)\n",
    "        K_test_y_pred_prob = m.predict_proba(K_test_x)\n",
    "        \n",
    "        proba_mat[index:index+K_test_y.shape[0]] = K_test_y_pred_prob\n",
    "        index += K_test_y.shape[0]\n",
    "    \n",
    "    print(\"Base Acc: %.2f%%\" %(accuracy_score(y, np.argmax(proba_mat, axis=1))*100))\n",
    "    return proba_mat"
   ]
  },
  {
   "cell_type": "code",
   "execution_count": 17,
   "metadata": {
    "collapsed": true
   },
   "outputs": [],
   "source": [
    "def trainCE(X, y, models, cv, data_name):\n",
    "    n_samples = X.shape[0] # 总样本数\n",
    "    n_features = X.shape[1] # 总特征数\n",
    "    n_class = np.unique(y).shape[0] # 总类别数\n",
    "    print(\"n_samples\", n_samples)\n",
    "    print(\"n_class\", n_class)\n",
    "    \n",
    "    proba_mat_all = np.zeros((n_samples, n_class)) # 所有模型输出的概率矩阵加权和\n",
    "    \n",
    "    n_population = 1000 # 种群数量\n",
    "    n_elite_population = 100 # 精英种群数量\n",
    "    max_iteration = 50 # 迭代优化次数\n",
    "    n_models = len(models)\n",
    "    weight_mat = np.zeros((n_population, n_models)) # 权重矩阵\n",
    "    mu = np.zeros(n_models) # 均值数组，初始化为全0\n",
    "    sigma = np.ones(n_models) # 方差数组，初始化为全1\n",
    "    \n",
    "    iterative_weights = np.zeros((max_iteration, n_models)) # 保存了每次迭代选出的最好的参数组\n",
    "    iterative_scores = np.zeros(max_iteration) # 保存了每次迭代选出的最高分\n",
    "    \n",
    "    # 生成各模型的概率矩阵, 存入一个列表\n",
    "    proba_mat_list = []\n",
    "    for m in models:\n",
    "        print(m.__class__.__name__)\n",
    "        proba_mat = get_kftrain_proba(X, y, m, cv)\n",
    "        proba_mat_list.append(proba_mat)\n",
    "\n",
    "    # 各模型的权重优化过程\n",
    "    for t in range(max_iteration):\n",
    "        \n",
    "        n_scores = np.zeros(n_population) # 所有参数组的得分\n",
    "        weight_mat = np.zeros((n_population, n_models)) # 所有参数组的权重矩阵\n",
    "        \n",
    "        elite_scores = np.zeros(n_elite_population) # 精英参数组的得分\n",
    "        elite_weight_mat = np.zeros((n_elite_population, n_models)) # 精英参数组的权重矩阵\n",
    "        \n",
    "        # 生成各参数的种群\n",
    "        for j in range(n_models):\n",
    "            \n",
    "#             w = np.random.normal(mu[j], sigma[j], n_population) # N(0,1)\n",
    "            w = np.random.normal(mu[j], sigma[j]+700/(t+1), n_population)\n",
    "            weight_mat[:,j] = w\n",
    "\n",
    "        # 映射各参数组至区间[0:1]内\n",
    "        for i in range(n_population):\n",
    "            w2 = np.zeros(n_models)\n",
    "            # 遍历第i行所有元素，做映射\n",
    "            for k in range(n_models):\n",
    "                w2[k] = np.exp(-weight_mat[i][k]*weight_mat[i][k]) # 映射函数：y=e^(-x^2)\n",
    "                # w2[k] = np.exp(weight_mat[i][k])/np.sum(np.exp(weight_mat[i]))\n",
    "            weight_mat[i] = w2\n",
    "        \n",
    "        # 计算各参数组目标函数——各参数组的accuracy score\n",
    "        for i in range(n_population):\n",
    "            y_pred_ensemble_proba = np.zeros((n_samples, n_class)) # 当前组的加权概率矩阵\n",
    "            # 各基学习器的概率矩阵 * 权重，求和\n",
    "            for j in range(n_models):\n",
    "                y_pred_ensemble_proba += proba_mat_list[j] * weight_mat[i][j]\n",
    "            y_pred_ensemble = np.argmax(y_pred_ensemble_proba, axis=1) # 转换加权后概率矩阵为预测类别\n",
    "            acc = accuracy_score(y, y_pred_ensemble)\n",
    "            # f1 = f1_score(y_valid, y_pred_ensemble, average=\"weighted\")\n",
    "            n_scores[i] = acc # 所有参数组的得分\n",
    "\n",
    "        # 排列在前面的精英参数组的下标\n",
    "        elite_index = np.argsort(-np.array(n_scores))[:n_elite_population]\n",
    "\n",
    "        # 记录精英参数组\n",
    "        elite_weight_mat = weight_mat[elite_index] # 精英参数组的权重矩阵\n",
    "        elite_scores = np.array(n_scores)[elite_index] # 精英参数组的得分\n",
    "        # print(\"elite_weight_mat.shape\", elite_weight_mat.shape)\n",
    "        # print(\"elite_scores.shape\", elite_scores.shape)\n",
    "        # 记录第t次迭代时：最好参数组及对应得分\n",
    "        iterative_weights[t] = elite_weight_mat[0,:]\n",
    "        iterative_scores[t] = elite_scores[0]\n",
    "        \n",
    "        # 由精英参数组的的分布，更新mu，sigma\n",
    "        mu = np.mean(elite_weight_mat, axis = 0)\n",
    "        sigma = np.std(elite_weight_mat, axis = 0)\n",
    "        \n",
    "        # print(\"Iteration: %d, Accuracy %.2f\" %(t, iterative_scores[t]*100))\n",
    "        \n",
    "    # 权重训练完毕\n",
    "    # print(\"==================Finish training==================\")\n",
    "    \n",
    "    print(\"Best Accuracy in last iteration: %.2f%%\" % (iterative_scores[-1]*100))\n",
    "    print(\"Weights in last iteration: %s\" %(iterative_weights[-1]))\n",
    "\n",
    "    plt.figure(figsize=(10,6))\n",
    "    plt.plot(iterative_scores[:50], 'r')\n",
    "    plt.xlabel('Iteration')\n",
    "    plt.ylabel('Accuracy')\n",
    "    plt.legend(frameon=False)\n",
    "    plt.grid(True)\n",
    "    plt.savefig('../img/NCE_'+data_name+'_iteration.eps',format='eps')\n",
    "    return iterative_weights[-1]"
   ]
  },
  {
   "cell_type": "code",
   "execution_count": 18,
   "metadata": {
    "collapsed": true
   },
   "outputs": [],
   "source": [
    "models = [\n",
    "    LogisticRegression(),\n",
    "    LinearDiscriminantAnalysis(),\n",
    "    SVC(probability=True),\n",
    "    GaussianNB(),\n",
    "    KNeighborsClassifier(),\n",
    "    RandomForestClassifier()\n",
    "]"
   ]
  },
  {
   "cell_type": "code",
   "execution_count": 19,
   "metadata": {},
   "outputs": [
    {
     "name": "stdout",
     "output_type": "stream",
     "text": [
      "n_samples 119\n",
      "n_class 3\n",
      "LogisticRegression\n",
      "Base Acc: 80.67%\n",
      "LinearDiscriminantAnalysis\n",
      "Base Acc: 86.55%\n",
      "SVC\n",
      "Base Acc: 84.03%\n",
      "GaussianNB\n",
      "Base Acc: 83.19%\n",
      "KNeighborsClassifier\n",
      "Base Acc: 83.19%\n",
      "RandomForestClassifier\n",
      "Base Acc: 84.03%\n"
     ]
    },
    {
     "name": "stderr",
     "output_type": "stream",
     "text": [
      "/Users/alex/anaconda/envs/gc/lib/python3.6/site-packages/sklearn/utils/validation.py:578: DataConversionWarning: A column-vector y was passed when a 1d array was expected. Please change the shape of y to (n_samples, ), for example using ravel().\n",
      "  y = column_or_1d(y, warn=True)\n",
      "/Users/alex/anaconda/envs/gc/lib/python3.6/site-packages/ipykernel/__main__.py:17: DataConversionWarning: A column-vector y was passed when a 1d array was expected. Please change the shape of y to (n_samples, ), for example using ravel().\n",
      "/Users/alex/anaconda/envs/gc/lib/python3.6/site-packages/ipykernel/__main__.py:17: DataConversionWarning: A column-vector y was passed when a 1d array was expected. Please change the shape of y to (n_samples,), for example using ravel().\n",
      "/Users/alex/anaconda/envs/gc/lib/python3.6/site-packages/ipykernel/__main__.py:17: DataConversionWarning: A column-vector y was passed when a 1d array was expected. Please change the shape of y to (n_samples,), for example using ravel().\n",
      "/Users/alex/anaconda/envs/gc/lib/python3.6/site-packages/ipykernel/__main__.py:17: DataConversionWarning: A column-vector y was passed when a 1d array was expected. Please change the shape of y to (n_samples,), for example using ravel().\n",
      "/Users/alex/anaconda/envs/gc/lib/python3.6/site-packages/ipykernel/__main__.py:17: DataConversionWarning: A column-vector y was passed when a 1d array was expected. Please change the shape of y to (n_samples,), for example using ravel().\n",
      "/Users/alex/anaconda/envs/gc/lib/python3.6/site-packages/ipykernel/__main__.py:17: DataConversionWarning: A column-vector y was passed when a 1d array was expected. Please change the shape of y to (n_samples,), for example using ravel().\n",
      "No handles with labels found to put in legend.\n"
     ]
    },
    {
     "name": "stdout",
     "output_type": "stream",
     "text": [
      "Best Accuracy in last iteration: 86.55%\n",
      "Weights in last iteration: [3.84111791e-015 1.37549290e-001 8.52306255e-023 1.16849482e-011\n",
      " 4.25743434e-147 4.21394575e-247]\n"
     ]
    },
    {
     "data": {
      "image/png": "[encoded data removed]",
      "text/plain": [
       "<Figure size 720x432 with 1 Axes>"
      ]
     },
     "metadata": {},
     "output_type": "display_data"
    }
   ],
   "source": [
    "iris_weights = trainCE(iris_train_X, iris_train_y, models, 5, 'iris')"
   ]
  },
  {
   "cell_type": "code",
   "execution_count": 20,
   "metadata": {},
   "outputs": [
    {
     "name": "stdout",
     "output_type": "stream",
     "text": [
      "n_samples 30162\n",
      "n_class 2\n",
      "LogisticRegression\n"
     ]
    },
    {
     "name": "stderr",
     "output_type": "stream",
     "text": [
      "/Users/alex/anaconda/envs/gc/lib/python3.6/site-packages/sklearn/utils/validation.py:578: DataConversionWarning: A column-vector y was passed when a 1d array was expected. Please change the shape of y to (n_samples, ), for example using ravel().\n",
      "  y = column_or_1d(y, warn=True)\n"
     ]
    },
    {
     "name": "stdout",
     "output_type": "stream",
     "text": [
      "Base Acc: 81.74%\n",
      "LinearDiscriminantAnalysis\n",
      "Base Acc: 80.89%\n",
      "SVC\n",
      "Base Acc: 84.01%\n",
      "GaussianNB\n",
      "Base Acc: 79.54%\n",
      "KNeighborsClassifier\n"
     ]
    },
    {
     "name": "stderr",
     "output_type": "stream",
     "text": [
      "/Users/alex/anaconda/envs/gc/lib/python3.6/site-packages/ipykernel/__main__.py:17: DataConversionWarning: A column-vector y was passed when a 1d array was expected. Please change the shape of y to (n_samples, ), for example using ravel().\n"
     ]
    },
    {
     "name": "stdout",
     "output_type": "stream",
     "text": [
      "Base Acc: 81.94%\n",
      "RandomForestClassifier\n"
     ]
    },
    {
     "name": "stderr",
     "output_type": "stream",
     "text": [
      "/Users/alex/anaconda/envs/gc/lib/python3.6/site-packages/ipykernel/__main__.py:17: DataConversionWarning: A column-vector y was passed when a 1d array was expected. Please change the shape of y to (n_samples,), for example using ravel().\n",
      "/Users/alex/anaconda/envs/gc/lib/python3.6/site-packages/ipykernel/__main__.py:17: DataConversionWarning: A column-vector y was passed when a 1d array was expected. Please change the shape of y to (n_samples,), for example using ravel().\n",
      "/Users/alex/anaconda/envs/gc/lib/python3.6/site-packages/ipykernel/__main__.py:17: DataConversionWarning: A column-vector y was passed when a 1d array was expected. Please change the shape of y to (n_samples,), for example using ravel().\n",
      "/Users/alex/anaconda/envs/gc/lib/python3.6/site-packages/ipykernel/__main__.py:17: DataConversionWarning: A column-vector y was passed when a 1d array was expected. Please change the shape of y to (n_samples,), for example using ravel().\n",
      "/Users/alex/anaconda/envs/gc/lib/python3.6/site-packages/ipykernel/__main__.py:17: DataConversionWarning: A column-vector y was passed when a 1d array was expected. Please change the shape of y to (n_samples,), for example using ravel().\n"
     ]
    },
    {
     "name": "stdout",
     "output_type": "stream",
     "text": [
      "Base Acc: 84.08%\n"
     ]
    },
    {
     "name": "stderr",
     "output_type": "stream",
     "text": [
      "No handles with labels found to put in legend.\n"
     ]
    },
    {
     "name": "stdout",
     "output_type": "stream",
     "text": [
      "Best Accuracy in last iteration: 84.92%\n",
      "Weights in last iteration: [0.00000000e+00 2.27844952e-19 3.29104419e-01 6.14885326e-15\n",
      " 1.93930955e-02 3.31569289e-01]\n"
     ]
    },
    {
     "data": {
      "image/png": "[encoded data removed]",
      "text/plain": [
       "<Figure size 720x432 with 1 Axes>"
      ]
     },
     "metadata": {},
     "output_type": "display_data"
    }
   ],
   "source": [
    "adult_weights = trainCE(adult_train_X, adult_train_y, models, 5, 'adult')"
   ]
  },
  {
   "cell_type": "code",
   "execution_count": 21,
   "metadata": {},
   "outputs": [
    {
     "name": "stdout",
     "output_type": "stream",
     "text": [
      "n_samples 16000\n",
      "n_class 26\n",
      "LogisticRegression\n"
     ]
    },
    {
     "name": "stderr",
     "output_type": "stream",
     "text": [
      "/Users/alex/anaconda/envs/gc/lib/python3.6/site-packages/sklearn/utils/validation.py:578: DataConversionWarning: A column-vector y was passed when a 1d array was expected. Please change the shape of y to (n_samples, ), for example using ravel().\n",
      "  y = column_or_1d(y, warn=True)\n"
     ]
    },
    {
     "name": "stdout",
     "output_type": "stream",
     "text": [
      "Base Acc: 54.69%\n",
      "LinearDiscriminantAnalysis\n",
      "Base Acc: 53.41%\n",
      "SVC\n",
      "Base Acc: 71.12%\n",
      "GaussianNB\n",
      "Base Acc: 49.06%\n",
      "KNeighborsClassifier\n"
     ]
    },
    {
     "name": "stderr",
     "output_type": "stream",
     "text": [
      "/Users/alex/anaconda/envs/gc/lib/python3.6/site-packages/ipykernel/__main__.py:17: DataConversionWarning: A column-vector y was passed when a 1d array was expected. Please change the shape of y to (n_samples, ), for example using ravel().\n"
     ]
    },
    {
     "name": "stdout",
     "output_type": "stream",
     "text": [
      "Base Acc: 70.73%\n",
      "RandomForestClassifier\n"
     ]
    },
    {
     "name": "stderr",
     "output_type": "stream",
     "text": [
      "/Users/alex/anaconda/envs/gc/lib/python3.6/site-packages/ipykernel/__main__.py:17: DataConversionWarning: A column-vector y was passed when a 1d array was expected. Please change the shape of y to (n_samples,), for example using ravel().\n",
      "/Users/alex/anaconda/envs/gc/lib/python3.6/site-packages/ipykernel/__main__.py:17: DataConversionWarning: A column-vector y was passed when a 1d array was expected. Please change the shape of y to (n_samples,), for example using ravel().\n",
      "/Users/alex/anaconda/envs/gc/lib/python3.6/site-packages/ipykernel/__main__.py:17: DataConversionWarning: A column-vector y was passed when a 1d array was expected. Please change the shape of y to (n_samples,), for example using ravel().\n",
      "/Users/alex/anaconda/envs/gc/lib/python3.6/site-packages/ipykernel/__main__.py:17: DataConversionWarning: A column-vector y was passed when a 1d array was expected. Please change the shape of y to (n_samples,), for example using ravel().\n",
      "/Users/alex/anaconda/envs/gc/lib/python3.6/site-packages/ipykernel/__main__.py:17: DataConversionWarning: A column-vector y was passed when a 1d array was expected. Please change the shape of y to (n_samples,), for example using ravel().\n"
     ]
    },
    {
     "name": "stdout",
     "output_type": "stream",
     "text": [
      "Base Acc: 70.14%\n"
     ]
    },
    {
     "name": "stderr",
     "output_type": "stream",
     "text": [
      "No handles with labels found to put in legend.\n"
     ]
    },
    {
     "name": "stdout",
     "output_type": "stream",
     "text": [
      "Best Accuracy in last iteration: 72.44%\n",
      "Weights in last iteration: [2.62376209e-86 8.13234258e-87 3.72490814e-01 3.28615939e-04\n",
      " 9.54783007e-01 8.12162426e-01]\n"
     ]
    },
    {
     "data": {
      "image/png": "[encoded data removed]",
      "text/plain": [
       "<Figure size 720x432 with 1 Axes>"
      ]
     },
     "metadata": {},
     "output_type": "display_data"
    }
   ],
   "source": [
    "letter_weights = trainCE(letter_train_X, letter_train_y, models, 5, 'letter')"
   ]
  },
  {
   "cell_type": "code",
   "execution_count": 22,
   "metadata": {},
   "outputs": [
    {
     "name": "stdout",
     "output_type": "stream",
     "text": [
      "n_samples 1186\n",
      "n_class 10\n",
      "LogisticRegression\n",
      "Base Acc: 46.37%\n",
      "LinearDiscriminantAnalysis\n",
      "Base Acc: 26.98%\n",
      "SVC\n"
     ]
    },
    {
     "name": "stderr",
     "output_type": "stream",
     "text": [
      "/Users/alex/anaconda/envs/gc/lib/python3.6/site-packages/sklearn/model_selection/_split.py:605: Warning: The least populated class in y has only 4 members, which is too few. The minimum number of members in any class cannot be less than n_splits=5.\n",
      "  % (min_groups, self.n_splits)), Warning)\n",
      "/Users/alex/anaconda/envs/gc/lib/python3.6/site-packages/sklearn/utils/validation.py:578: DataConversionWarning: A column-vector y was passed when a 1d array was expected. Please change the shape of y to (n_samples, ), for example using ravel().\n",
      "  y = column_or_1d(y, warn=True)\n",
      "/Users/alex/anaconda/envs/gc/lib/python3.6/site-packages/sklearn/discriminant_analysis.py:510: RuntimeWarning: overflow encountered in exp\n",
      "  np.exp(prob, prob)\n",
      "/Users/alex/anaconda/envs/gc/lib/python3.6/site-packages/sklearn/discriminant_analysis.py:442: UserWarning: The priors do not sum to 1. Renormalizing\n",
      "  UserWarning)\n"
     ]
    },
    {
     "name": "stdout",
     "output_type": "stream",
     "text": [
      "Base Acc: 47.22%\n",
      "GaussianNB\n",
      "Base Acc: 49.66%\n",
      "KNeighborsClassifier\n",
      "Base Acc: 44.86%\n",
      "RandomForestClassifier\n",
      "Base Acc: 49.16%\n"
     ]
    },
    {
     "name": "stderr",
     "output_type": "stream",
     "text": [
      "/Users/alex/anaconda/envs/gc/lib/python3.6/site-packages/ipykernel/__main__.py:17: DataConversionWarning: A column-vector y was passed when a 1d array was expected. Please change the shape of y to (n_samples, ), for example using ravel().\n",
      "/Users/alex/anaconda/envs/gc/lib/python3.6/site-packages/ipykernel/__main__.py:17: DataConversionWarning: A column-vector y was passed when a 1d array was expected. Please change the shape of y to (n_samples,), for example using ravel().\n",
      "/Users/alex/anaconda/envs/gc/lib/python3.6/site-packages/ipykernel/__main__.py:17: DataConversionWarning: A column-vector y was passed when a 1d array was expected. Please change the shape of y to (n_samples,), for example using ravel().\n",
      "/Users/alex/anaconda/envs/gc/lib/python3.6/site-packages/ipykernel/__main__.py:17: DataConversionWarning: A column-vector y was passed when a 1d array was expected. Please change the shape of y to (n_samples,), for example using ravel().\n",
      "/Users/alex/anaconda/envs/gc/lib/python3.6/site-packages/ipykernel/__main__.py:17: DataConversionWarning: A column-vector y was passed when a 1d array was expected. Please change the shape of y to (n_samples,), for example using ravel().\n",
      "/Users/alex/anaconda/envs/gc/lib/python3.6/site-packages/ipykernel/__main__.py:17: DataConversionWarning: A column-vector y was passed when a 1d array was expected. Please change the shape of y to (n_samples,), for example using ravel().\n",
      "No handles with labels found to put in legend.\n"
     ]
    },
    {
     "name": "stdout",
     "output_type": "stream",
     "text": [
      "Best Accuracy in last iteration: 49.83%\n",
      "Weights in last iteration: [4.83874775e-010 5.37768688e-001 6.44012851e-100 5.76160174e-001\n",
      " 1.06186704e-005 5.99721032e-001]\n"
     ]
    },
    {
     "data": {
      "image/png": "[encoded data removed]",
      "text/plain": [
       "<Figure size 720x432 with 1 Axes>"
      ]
     },
     "metadata": {},
     "output_type": "display_data"
    }
   ],
   "source": [
    "yeast_weights = trainCE(yeast_train_X, yeast_train_y, models, 5, 'yeast')"
   ]
  }
 ],
 "metadata": {
  "kernelspec": {
   "display_name": "Python [default]",
   "language": "python",
   "name": "python3"
  },
  "language_info": {
   "codemirror_mode": {
    "name": "ipython",
    "version": 3
   },
   "file_extension": ".py",
   "mimetype": "text/x-python",
   "name": "python",
   "nbconvert_exporter": "python",
   "pygments_lexer": "ipython3",
   "version": "3.6.2"
  }
 },
 "nbformat": 4,
 "nbformat_minor": 2
}
