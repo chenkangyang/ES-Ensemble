{
 "cells": [
  {
   "cell_type": "markdown",
   "metadata": {},
   "source": [
    "选取4个UCI数据集：adult，iris，letter，yeast，除了adult，其余都按60%train，20%validation, 20%test的比例划分"
   ]
  },
  {
   "cell_type": "code",
   "execution_count": 1,
   "metadata": {},
   "outputs": [],
   "source": [
    "import os\n",
    "import numpy as np\n",
    "import pandas as pd\n",
    "\n",
    "from sklearn import preprocessing\n",
    "from sklearn.pipeline import Pipeline\n",
    "\n",
    "from sklearn.linear_model import LogisticRegression\n",
    "from sklearn.discriminant_analysis import LinearDiscriminantAnalysis\n",
    "from sklearn.svm import SVC\n",
    "from sklearn.naive_bayes import GaussianNB\n",
    "from sklearn.neighbors import KNeighborsClassifier\n",
    "\n",
    "from sklearn.model_selection import train_test_split\n",
    "from sklearn.model_selection import StratifiedKFold\n",
    "\n",
    "from sklearn.metrics import classification_report\n",
    "from sklearn.metrics import f1_score\n",
    "from sklearn.metrics import accuracy_score\n",
    "from sklearn.metrics import confusion_matrix\n",
    "import matplotlib.pyplot as plt\n",
    "%matplotlib inline"
   ]
  },
  {
   "cell_type": "markdown",
   "metadata": {},
   "source": [
    "## 载入adlut"
   ]
  },
  {
   "cell_type": "code",
   "execution_count": 2,
   "metadata": {},
   "outputs": [
    {
     "name": "stdout",
     "output_type": "stream",
     "text": [
      "adult_train: (30162, 15)\n",
      "adult_test: (15060, 15)\n"
     ]
    }
   ],
   "source": [
    "adult_train = pd.read_csv(\"../data/adult/adult.csv\", na_values = np.nan)\n",
    "adult_test = pd.read_csv(\"../data/adult/adult_test.csv\", na_values = np.nan)\n",
    "print(\"adult_train:\", adult_train.shape)\n",
    "print(\"adult_test:\", adult_test.shape)"
   ]
  },
  {
   "cell_type": "markdown",
   "metadata": {},
   "source": [
    "dataframe转ndarray后, 分离train,test,X,y "
   ]
  },
  {
   "cell_type": "code",
   "execution_count": 3,
   "metadata": {},
   "outputs": [
    {
     "name": "stdout",
     "output_type": "stream",
     "text": [
      "adult_train_X: (30162, 14)\n",
      "adult_train_y: (30162, 1)\n",
      "adult_test_X: (15060, 14)\n",
      "adult_test_y: (15060, 1)\n"
     ]
    }
   ],
   "source": [
    "adult_train_X = adult_train.values[:,0:14]\n",
    "adult_train_y = adult_train.values[:,14:15]\n",
    "adult_test_X = adult_test.values[:,0:14]\n",
    "adult_test_y = adult_test.values[:,14:15]\n",
    "print(\"adult_train_X:\", adult_train_X.shape)\n",
    "print(\"adult_train_y:\", adult_train_y.shape)\n",
    "print(\"adult_test_X:\", adult_test_X.shape)\n",
    "print(\"adult_test_y:\", adult_test_y.shape)"
   ]
  },
  {
   "cell_type": "markdown",
   "metadata": {},
   "source": [
    "## 载入iris"
   ]
  },
  {
   "cell_type": "code",
   "execution_count": 4,
   "metadata": {},
   "outputs": [
    {
     "name": "stdout",
     "output_type": "stream",
     "text": [
      "iris: (149, 6)\n"
     ]
    }
   ],
   "source": [
    "iris =  pd.read_csv(\"../data/iris/iris.csv\", na_values = np.nan)\n",
    "print(\"iris:\", iris.shape)"
   ]
  },
  {
   "cell_type": "markdown",
   "metadata": {},
   "source": [
    "dataframe转ndarray后, 分离train,test,X,y "
   ]
  },
  {
   "cell_type": "code",
   "execution_count": 5,
   "metadata": {},
   "outputs": [
    {
     "name": "stdout",
     "output_type": "stream",
     "text": [
      "iris_train_X: (119, 4)\n",
      "iris_train_y: (119, 1)\n",
      "iris_test_X: (30, 4)\n",
      "iris_test_y: (30, 1)\n"
     ]
    }
   ],
   "source": [
    "iris_X = iris.values[:,0:4]\n",
    "iris_y = iris.values[:,4:5]\n",
    "\n",
    "iris_train_X, iris_test_X, iris_train_y, iris_test_y = train_test_split(iris_X, iris_y, test_size=0.2, \n",
    "                                       stratify = iris_y, random_state = 42)\n",
    "print(\"iris_train_X:\", iris_train_X.shape)\n",
    "print(\"iris_train_y:\", iris_train_y.shape)\n",
    "print(\"iris_test_X:\", iris_test_X.shape)\n",
    "print(\"iris_test_y:\", iris_test_y.shape)"
   ]
  },
  {
   "cell_type": "markdown",
   "metadata": {},
   "source": [
    "## 载入letter"
   ]
  },
  {
   "cell_type": "code",
   "execution_count": 6,
   "metadata": {},
   "outputs": [
    {
     "name": "stdout",
     "output_type": "stream",
     "text": [
      "letter: (20000, 17)\n"
     ]
    }
   ],
   "source": [
    "letter =  pd.read_csv(\"../data/letter/letter.csv\", na_values = np.nan)\n",
    "print(\"letter:\", letter.shape)"
   ]
  },
  {
   "cell_type": "markdown",
   "metadata": {},
   "source": [
    "dataframe转ndarray后, 分离train,test,X,y "
   ]
  },
  {
   "cell_type": "code",
   "execution_count": 7,
   "metadata": {},
   "outputs": [
    {
     "name": "stdout",
     "output_type": "stream",
     "text": [
      "letter_train_X: (16000, 4)\n",
      "letter_train_y: (16000, 1)\n",
      "letter_test_X: (4000, 4)\n",
      "letter_test_y: (4000, 1)\n"
     ]
    }
   ],
   "source": [
    "letter_X = letter.values[:,0:4]\n",
    "letter_y = letter.values[:,4:5]\n",
    "\n",
    "letter_train_X, letter_test_X, letter_train_y, letter_test_y = train_test_split(letter_X, letter_y, test_size=0.2, \n",
    "                                       stratify = letter_y, random_state = 42)\n",
    "print(\"letter_train_X:\", letter_train_X.shape)\n",
    "print(\"letter_train_y:\", letter_train_y.shape)\n",
    "print(\"letter_test_X:\", letter_test_X.shape)\n",
    "print(\"letter_test_y:\", letter_test_y.shape)"
   ]
  },
  {
   "cell_type": "markdown",
   "metadata": {},
   "source": [
    "## 载入yeast"
   ]
  },
  {
   "cell_type": "code",
   "execution_count": 8,
   "metadata": {},
   "outputs": [
    {
     "name": "stdout",
     "output_type": "stream",
     "text": [
      "yeast: (1483, 10)\n"
     ]
    }
   ],
   "source": [
    "yeast =  pd.read_csv(\"../data/yeast/yeast.csv\", na_values = np.nan)\n",
    "print(\"yeast:\", yeast.shape)"
   ]
  },
  {
   "cell_type": "markdown",
   "metadata": {},
   "source": [
    "dataframe转ndarray后, 分离train,test,X,y "
   ]
  },
  {
   "cell_type": "code",
   "execution_count": 9,
   "metadata": {},
   "outputs": [
    {
     "name": "stdout",
     "output_type": "stream",
     "text": [
      "yeast_train_X: (1186, 4)\n",
      "yeast_train_y: (1186, 1)\n",
      "yeast_test_X: (297, 4)\n",
      "yeast_test_y: (297, 1)\n"
     ]
    }
   ],
   "source": [
    "yeast_X = yeast.values[:,0:4]\n",
    "yeast_y = yeast.values[:,4:5]\n",
    "\n",
    "yeast_train_X, yeast_test_X, yeast_train_y, yeast_test_y = train_test_split(yeast_X, yeast_y, test_size=0.2, \n",
    "                                       stratify = yeast_y, random_state = 42)\n",
    "print(\"yeast_train_X:\", yeast_train_X.shape)\n",
    "print(\"yeast_train_y:\", yeast_train_y.shape)\n",
    "print(\"yeast_test_X:\", yeast_test_X.shape)\n",
    "print(\"yeast_test_y:\", yeast_test_y.shape)"
   ]
  },
  {
   "cell_type": "markdown",
   "metadata": {},
   "source": [
    "## 训练"
   ]
  },
  {
   "cell_type": "code",
   "execution_count": 10,
   "metadata": {
    "collapsed": true
   },
   "outputs": [],
   "source": [
    "# function：get_kftrain_proba\n",
    "# 使用交叉训练，输出整个训练集上所有样本的概率向量\n",
    "\n",
    "# Input: \n",
    "#     X: 总样本\n",
    "#     y: 总样本\n",
    "#     model: 某个模型的函数定义\n",
    "#     cv: 交叉次数\n",
    "# Output:\n",
    "#     proba_mat: 训练集所有样本的概率向量"
   ]
  },
  {
   "cell_type": "code",
   "execution_count": 22,
   "metadata": {},
   "outputs": [],
   "source": [
    "def get_kftrain_proba(X, y, m, cv):\n",
    "    model_name = m.__class__.__name__\n",
    "    \n",
    "    n_samples = X.shape[0] # 总样本数\n",
    "    n_features = X.shape[1] # 总特征数\n",
    "    n_class = np.unique(y).shape[0] # 总类别数\n",
    "    \n",
    "    proba_mat = np.zeros((n_samples, n_class)) # 输出概率矩阵\n",
    "    \n",
    "    index = 0\n",
    "    skf = StratifiedKFold(n_splits=cv) # 定义k折分层划分器\n",
    "    \n",
    "    # 分开训练cv次，训练结果可能不如合并训练好，但能一定程度上减少模型过拟合\n",
    "    for train_index, test_index in skf.split(X, y):\n",
    "        K_train_x, K_test_x = X[train_index], X[test_index]\n",
    "        K_train_y, K_test_y = y[train_index], y[test_index]\n",
    "        m.fit(K_train_x, K_train_y)\n",
    "        K_test_y_pred_prob = m.predict_proba(K_test_x)\n",
    "        \n",
    "        proba_mat[index:index+K_test_y.shape[0]] = K_test_y_pred_prob\n",
    "        index += K_test_y.shape[0]\n",
    "    \n",
    "    print(\"Base Acc: %.2f%%\" %(accuracy_score(y, np.argmax(proba_mat, axis=1))*100))\n",
    "    return proba_mat"
   ]
  },
  {
   "cell_type": "code",
   "execution_count": 38,
   "metadata": {},
   "outputs": [],
   "source": [
    "def trainCE(X, y, models, cv):\n",
    "    n_samples = X.shape[0] # 总样本数\n",
    "    n_features = X.shape[1] # 总特征数\n",
    "    n_class = np.unique(y).shape[0] # 总类别数\n",
    "    print(\"n_samples\", n_samples)\n",
    "    print(\"n_class\", n_class)\n",
    "    \n",
    "    proba_mat_all = np.zeros((n_samples, n_class)) # 所有模型输出的概率矩阵加权和\n",
    "    \n",
    "    n_population = 1000 # 种群数量\n",
    "    n_elite_population = 100 # 精英种群数量\n",
    "    max_iteration = 50 # 迭代优化次数\n",
    "    n_models = len(models)\n",
    "    weight_mat = np.zeros((n_population, n_models)) # 权重矩阵\n",
    "    mu = np.zeros(n_models) # 均值数组，初始化为全0\n",
    "    sigma = np.ones(n_models) # 方差数组，初始化为全1\n",
    "    \n",
    "    iterative_weights = np.zeros((max_iteration, n_models)) # 保存了每次迭代选出的最好的参数组\n",
    "    iterative_scores = np.zeros(max_iteration) # 保存了每次迭代选出的最高分\n",
    "    \n",
    "    # 生成各模型的概率矩阵, 存入一个列表\n",
    "    proba_mat_list = []\n",
    "    for m in models:\n",
    "        print(m.__class__.__name__)\n",
    "        proba_mat = get_kftrain_proba(X, y, m, cv)\n",
    "        proba_mat_list.append(proba_mat)\n",
    "\n",
    "    # 各模型的权重优化过程\n",
    "    for t in range(max_iteration):\n",
    "        \n",
    "        n_scores = np.zeros(n_population) # 所有参数组的得分\n",
    "        weight_mat = np.zeros((n_population, n_models)) # 所有参数组的权重矩阵\n",
    "        \n",
    "        elite_scores = np.zeros(n_elite_population) # 精英参数组的得分\n",
    "        elite_weight_mat = np.zeros((n_elite_population, n_models)) # 精英参数组的权重矩阵\n",
    "        \n",
    "        # 生成各参数的种群\n",
    "        for j in range(n_models):\n",
    "            \n",
    "#             w = np.random.normal(mu[j], sigma[j], n_population) # N(0,1)\n",
    "            w = np.random.normal(mu[j], sigma[j]+700/(t+1), n_population)\n",
    "            weight_mat[:,j] = w\n",
    "\n",
    "        # 映射各参数组至区间[0:1]内\n",
    "        for i in range(n_population):\n",
    "            w2 = np.zeros(n_models)\n",
    "            # 遍历第i行所有元素，做映射\n",
    "            for k in range(n_models):\n",
    "                w2[k] = np.exp(-weight_mat[i][k]*weight_mat[i][k]) # 映射函数：y=e^(-x^2)\n",
    "                # w2[k] = np.exp(weight_mat[i][k])/np.sum(np.exp(weight_mat[i]))\n",
    "            weight_mat[i] = w2\n",
    "        \n",
    "        # 计算各参数组目标函数——各参数组的accuracy score\n",
    "        for i in range(n_population):\n",
    "            y_pred_ensemble_proba = np.zeros((n_samples, n_class)) # 当前组的加权概率矩阵\n",
    "            # 各基学习器的概率矩阵 * 权重，求和\n",
    "            for j in range(n_models):\n",
    "                y_pred_ensemble_proba += proba_mat_list[j] * weight_mat[i][j]\n",
    "            y_pred_ensemble = np.argmax(y_pred_ensemble_proba, axis=1) # 转换加权后概率矩阵为预测类别\n",
    "            acc = accuracy_score(y, y_pred_ensemble)\n",
    "            # f1 = f1_score(y_valid, y_pred_ensemble, average=\"weighted\")\n",
    "            n_scores[i] = acc # 所有参数组的得分\n",
    "\n",
    "        # 排列在前面的精英参数组的下标\n",
    "        elite_index = np.argsort(-np.array(n_scores))[:n_elite_population]\n",
    "\n",
    "        # 记录精英参数组\n",
    "        elite_weight_mat = weight_mat[elite_index] # 精英参数组的权重矩阵\n",
    "        elite_scores = np.array(n_scores)[elite_index] # 精英参数组的得分\n",
    "        # print(\"elite_weight_mat.shape\", elite_weight_mat.shape)\n",
    "        # print(\"elite_scores.shape\", elite_scores.shape)\n",
    "        # 记录第t次迭代时：最好参数组及对应得分\n",
    "        iterative_weights[t] = elite_weight_mat[0,:]\n",
    "        iterative_scores[t] = elite_scores[0]\n",
    "        \n",
    "        # 由精英参数组的的分布，更新mu，sigma\n",
    "        mu = np.mean(elite_weight_mat, axis = 0)\n",
    "        sigma = np.std(elite_weight_mat, axis = 0)\n",
    "        \n",
    "        # print(\"Iteration: %d, Accuracy %.2f\" %(t, iterative_scores[t]*100))\n",
    "        \n",
    "    # 权重训练完毕\n",
    "    print(\"==================Finish training==================\")\n",
    "    \n",
    "    print(\"Best Accuracy in last iteration: %.2f%%\" % (iterative_scores[-1]*100))\n",
    "    print(\"Weights in last iteration: %s\" %(iterative_weights[-1]))\n",
    "\n",
    "    plt.figure(figsize=(10,6))\n",
    "    plt.plot(iterative_scores[:50], 'r')\n",
    "    plt.xlabel('Iteration')\n",
    "    plt.ylabel('Accuracy')\n",
    "    plt.legend(frameon=False)\n",
    "    plt.grid(True)\n",
    "    plt.savefig('../img/CE_iteration.eps',format='eps')\n",
    "    return iterative_weights[-1]"
   ]
  },
  {
   "cell_type": "code",
   "execution_count": 39,
   "metadata": {
    "collapsed": true
   },
   "outputs": [],
   "source": [
    "models = [\n",
    "    LogisticRegression(),\n",
    "    LinearDiscriminantAnalysis(),\n",
    "    SVC(probability=True),\n",
    "    GaussianNB(),\n",
    "    KNeighborsClassifier(),\n",
    "]"
   ]
  },
  {
   "cell_type": "code",
   "execution_count": 40,
   "metadata": {},
   "outputs": [
    {
     "name": "stdout",
     "output_type": "stream",
     "text": [
      "n_samples 119\n",
      "n_class 3\n",
      "LogisticRegression\n",
      "Base Acc: 86.55%\n",
      "LinearDiscriminantAnalysis\n",
      "Base Acc: 86.55%\n",
      "SVC\n",
      "Base Acc: 86.55%\n",
      "GaussianNB\n",
      "Base Acc: 83.19%\n",
      "KNeighborsClassifier\n",
      "Base Acc: 86.55%\n"
     ]
    },
    {
     "name": "stderr",
     "output_type": "stream",
     "text": [
      "/Users/alex/anaconda/envs/gc/lib/python3.6/site-packages/sklearn/utils/validation.py:578: DataConversionWarning: A column-vector y was passed when a 1d array was expected. Please change the shape of y to (n_samples, ), for example using ravel().\n",
      "  y = column_or_1d(y, warn=True)\n",
      "/Users/alex/anaconda/envs/gc/lib/python3.6/site-packages/ipykernel/__main__.py:17: DataConversionWarning: A column-vector y was passed when a 1d array was expected. Please change the shape of y to (n_samples, ), for example using ravel().\n",
      "No handles with labels found to put in legend.\n"
     ]
    },
    {
     "name": "stdout",
     "output_type": "stream",
     "text": [
      "==================Finish training==================\n",
      "Best Accuracy in last iteration: 87.39%\n",
      "Weights in last iteration: [5.42716816e-002 6.75137040e-002 1.00303209e-003 2.29794669e-020\n",
      " 2.73349451e-201]\n"
     ]
    },
    {
     "data": {
      "text/plain": [
       "array([5.42716816e-002, 6.75137040e-002, 1.00303209e-003, 2.29794669e-020,\n",
       "       2.73349451e-201])"
      ]
     },
     "execution_count": 40,
     "metadata": {},
     "output_type": "execute_result"
    },
    {
     "data": {
      "image/png": "[encoded data removed]",
      "text/plain": [
       "<Figure size 720x432 with 1 Axes>"
      ]
     },
     "metadata": {},
     "output_type": "display_data"
    }
   ],
   "source": [
    "trainCE(iris_train_X, iris_train_y, models, 5)"
   ]
  },
  {
   "cell_type": "code",
   "execution_count": null,
   "metadata": {
    "collapsed": true
   },
   "outputs": [],
   "source": []
  }
 ],
 "metadata": {
  "kernelspec": {
   "display_name": "Python [default]",
   "language": "python",
   "name": "python3"
  },
  "language_info": {
   "codemirror_mode": {
    "name": "ipython",
    "version": 3
   },
   "file_extension": ".py",
   "mimetype": "text/x-python",
   "name": "python",
   "nbconvert_exporter": "python",
   "pygments_lexer": "ipython3",
   "version": "3.6.2"
  }
 },
 "nbformat": 4,
 "nbformat_minor": 2
}
