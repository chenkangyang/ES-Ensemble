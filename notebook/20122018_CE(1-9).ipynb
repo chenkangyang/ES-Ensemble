{
 "cells": [
  {
   "cell_type": "code",
   "execution_count": 1,
   "metadata": {
    "collapsed": true
   },
   "outputs": [],
   "source": [
    "import os\n",
    "import pandas as pd\n",
    "import numpy as np\n",
    "\n",
    "\n",
    "from sklearn import preprocessing\n",
    "from sklearn.pipeline import Pipeline\n",
    "\n",
    "from sklearn.linear_model import LogisticRegression\n",
    "from sklearn.discriminant_analysis import LinearDiscriminantAnalysis\n",
    "from sklearn.svm import SVC\n",
    "from sklearn.tree import DecisionTreeClassifier\n",
    "from sklearn.tree import ExtraTreeClassifier\n",
    "from sklearn.naive_bayes import GaussianNB\n",
    "from sklearn.neighbors import KNeighborsClassifier\n",
    "from sklearn.ensemble import RandomForestClassifier\n",
    "from sklearn.ensemble import ExtraTreesClassifier\n",
    "\n",
    "from sklearn.model_selection import cross_validate\n",
    "from sklearn.model_selection import train_test_split\n",
    "from sklearn.model_selection import GridSearchCV\n",
    "\n",
    "from sklearn.metrics import classification_report\n",
    "from sklearn.metrics import f1_score\n",
    "from sklearn.metrics import accuracy_score\n",
    "from sklearn.metrics import confusion_matrix\n",
    "import matplotlib.pyplot as plt\n",
    "%matplotlib inline"
   ]
  },
  {
   "cell_type": "markdown",
   "metadata": {},
   "source": [
    "hyperparameters"
   ]
  },
  {
   "cell_type": "code",
   "execution_count": 2,
   "metadata": {
    "collapsed": true
   },
   "outputs": [],
   "source": [
    "random_seed = 42\n",
    "cv=5\n",
    "score = 'f1_weighted'"
   ]
  },
  {
   "cell_type": "markdown",
   "metadata": {},
   "source": [
    "#### somte sampling"
   ]
  },
  {
   "cell_type": "code",
   "execution_count": 3,
   "metadata": {
    "collapsed": true
   },
   "outputs": [],
   "source": [
    "def Smoter(X, y, is_random=False):\n",
    "    if is_random == True:\n",
    "        random_lst = list(np.random.randint(0, 1000, 4))\n",
    "    elif is_random == False:\n",
    "        random_lst = [0] * 4\n",
    "\n",
    "    print(\"rs:\", random_lst)\n",
    "    sm = SMOTE(random_state=random_lst[2], kind = 0.24)\n",
    "    X_smote, y_smote = sm.fit_sample(X, y)\n",
    "\n",
    "    return X_smote, y_smote"
   ]
  },
  {
   "cell_type": "markdown",
   "metadata": {},
   "source": [
    "# load data_four_features"
   ]
  },
  {
   "cell_type": "code",
   "execution_count": 4,
   "metadata": {},
   "outputs": [
    {
     "name": "stdout",
     "output_type": "stream",
     "text": [
      "pH             float64\n",
      "DO(mg/l)       float64\n",
      "CODMn(mg/l)    float64\n",
      "NH3-N(mg/l)    float64\n",
      "本周水质             int64\n",
      "dtype: object\n",
      "(33612, 5)\n"
     ]
    }
   ],
   "source": [
    "path = os.getcwd()+'/../data/20122018freshwater_four_feature.csv'\n",
    "data_four_features = pd.read_csv(path, na_values = np.nan)\n",
    "\n",
    "print(data_four_features.dtypes)\n",
    "print(data_four_features.shape)"
   ]
  },
  {
   "cell_type": "code",
   "execution_count": 5,
   "metadata": {
    "collapsed": true
   },
   "outputs": [],
   "source": [
    "X = data_four_features.drop(['本周水质'], axis=1) # Series\n",
    "y = data_four_features['本周水质']-1 # Series"
   ]
  },
  {
   "cell_type": "code",
   "execution_count": 6,
   "metadata": {},
   "outputs": [
    {
     "name": "stdout",
     "output_type": "stream",
     "text": [
      "水质分布情况:\n",
      "2    13272\n",
      "3     8797\n",
      "4     5472\n",
      "1     2438\n",
      "6     2146\n",
      "5     1487\n",
      "Name: 本周水质, dtype: int64\n",
      "\n",
      "各特征类型分布情况:\n",
      "float64    4\n",
      "int64      1\n",
      "dtype: int64\n"
     ]
    }
   ],
   "source": [
    "print(\"水质分布情况:\")\n",
    "print(y.value_counts())\n",
    "print(\"\\n各特征类型分布情况:\")\n",
    "print(data_four_features.dtypes.value_counts())"
   ]
  },
  {
   "cell_type": "code",
   "execution_count": 7,
   "metadata": {},
   "outputs": [
    {
     "data": {
      "text/html": [
       "<div>\n",
       "<style scoped>\n",
       "    .dataframe tbody tr th:only-of-type {\n",
       "        vertical-align: middle;\n",
       "    }\n",
       "\n",
       "    .dataframe tbody tr th {\n",
       "        vertical-align: top;\n",
       "    }\n",
       "\n",
       "    .dataframe thead th {\n",
       "        text-align: right;\n",
       "    }\n",
       "</style>\n",
       "<table border=\"1\" class=\"dataframe\">\n",
       "  <thead>\n",
       "    <tr style=\"text-align: right;\">\n",
       "      <th></th>\n",
       "      <th>pH</th>\n",
       "      <th>DO(mg/l)</th>\n",
       "      <th>CODMn(mg/l)</th>\n",
       "      <th>NH3-N(mg/l)</th>\n",
       "      <th>本周水质</th>\n",
       "    </tr>\n",
       "  </thead>\n",
       "  <tbody>\n",
       "    <tr>\n",
       "      <th>0</th>\n",
       "      <td>7.09</td>\n",
       "      <td>10.0</td>\n",
       "      <td>5.7</td>\n",
       "      <td>0.33</td>\n",
       "      <td>3</td>\n",
       "    </tr>\n",
       "    <tr>\n",
       "      <th>1</th>\n",
       "      <td>6.94</td>\n",
       "      <td>12.0</td>\n",
       "      <td>5.4</td>\n",
       "      <td>0.40</td>\n",
       "      <td>3</td>\n",
       "    </tr>\n",
       "    <tr>\n",
       "      <th>2</th>\n",
       "      <td>7.20</td>\n",
       "      <td>9.6</td>\n",
       "      <td>4.9</td>\n",
       "      <td>0.34</td>\n",
       "      <td>3</td>\n",
       "    </tr>\n",
       "    <tr>\n",
       "      <th>3</th>\n",
       "      <td>6.80</td>\n",
       "      <td>11.6</td>\n",
       "      <td>6.3</td>\n",
       "      <td>0.59</td>\n",
       "      <td>4</td>\n",
       "    </tr>\n",
       "    <tr>\n",
       "      <th>4</th>\n",
       "      <td>6.75</td>\n",
       "      <td>11.0</td>\n",
       "      <td>6.2</td>\n",
       "      <td>0.64</td>\n",
       "      <td>4</td>\n",
       "    </tr>\n",
       "  </tbody>\n",
       "</table>\n",
       "</div>"
      ],
      "text/plain": [
       "     pH  DO(mg/l)  CODMn(mg/l)  NH3-N(mg/l)  本周水质\n",
       "0  7.09      10.0          5.7         0.33     3\n",
       "1  6.94      12.0          5.4         0.40     3\n",
       "2  7.20       9.6          4.9         0.34     3\n",
       "3  6.80      11.6          6.3         0.59     4\n",
       "4  6.75      11.0          6.2         0.64     4"
      ]
     },
     "execution_count": 7,
     "metadata": {},
     "output_type": "execute_result"
    }
   ],
   "source": [
    "data_four_features.head()"
   ]
  },
  {
   "cell_type": "code",
   "execution_count": 8,
   "metadata": {},
   "outputs": [
    {
     "name": "stdout",
     "output_type": "stream",
     "text": [
      "80% train: 26889/33612, 20% test: 6723/33612\n"
     ]
    }
   ],
   "source": [
    "X_train, X_test, y_train, y_test = train_test_split(X, y, test_size=0.2, \n",
    "                                       stratify = y, random_state = random_seed)\n",
    "print(\"80%% train: %d/%d, 20%% test: %d/%d\" %(X_train.shape[0], X.shape[0], X_test.shape[0], X.shape[0]))"
   ]
  },
  {
   "cell_type": "markdown",
   "metadata": {},
   "source": [
    "### normalize  train data\n",
    "\n",
    "fulfill the Na with median, then standardized the data, output type ndarray"
   ]
  },
  {
   "cell_type": "code",
   "execution_count": 9,
   "metadata": {
    "collapsed": true
   },
   "outputs": [],
   "source": [
    "clean_pipeline = Pipeline([('imputer', preprocessing.Imputer(missing_values='NaN',strategy=\"median\")),\n",
    "                           ('std_scaler', preprocessing.StandardScaler()),])\n",
    "X_train = clean_pipeline.fit_transform(X_train)\n",
    "X_test = clean_pipeline.fit_transform(X_test)"
   ]
  },
  {
   "cell_type": "markdown",
   "metadata": {},
   "source": [
    "# model selection"
   ]
  },
  {
   "cell_type": "markdown",
   "metadata": {},
   "source": [
    "CE without cross validation"
   ]
  },
  {
   "cell_type": "code",
   "execution_count": 10,
   "metadata": {
    "collapsed": true
   },
   "outputs": [],
   "source": [
    "X_train2, X_valid, y_train2, y_valid = train_test_split(X_train, y_train, test_size=0.25, \n",
    "                                       stratify = y_train, random_state = random_seed)"
   ]
  },
  {
   "cell_type": "code",
   "execution_count": 11,
   "metadata": {},
   "outputs": [
    {
     "name": "stderr",
     "output_type": "stream",
     "text": [
      "/Users/alex/anaconda3/envs/gc/lib/python3.6/site-packages/sklearn/metrics/classification.py:1135: UndefinedMetricWarning: F-score is ill-defined and being set to 0.0 in labels with no predicted samples.\n",
      "  'precision', 'predicted', average, warn_for)\n"
     ]
    },
    {
     "name": "stdout",
     "output_type": "stream",
     "text": [
      "model_name: LogisticRegression, valid weighted f1 score:0.618051\n",
      "model_name: LinearDiscriminantAnalysis, valid weighted f1 score:0.569881\n",
      "model_name: SVC, valid weighted f1 score:0.886775\n",
      "model_name: DecisionTreeClassifier, valid weighted f1 score:0.987807\n",
      "model_name: ExtraTreeClassifier, valid weighted f1 score:0.888785\n",
      "model_name: GaussianNB, valid weighted f1 score:0.812976\n",
      "model_name: KNeighborsClassifier, valid weighted f1 score:0.891579\n",
      "model_name: RandomForestClassifier, valid weighted f1 score:0.994051\n",
      "model_name: ExtraTreesClassifier, valid weighted f1 score:0.973277\n"
     ]
    }
   ],
   "source": [
    "models = [\n",
    "    LogisticRegression(),\n",
    "    LinearDiscriminantAnalysis(),\n",
    "    SVC(probability=True),\n",
    "    DecisionTreeClassifier(),\n",
    "    ExtraTreeClassifier(),\n",
    "    GaussianNB(),\n",
    "    KNeighborsClassifier(),\n",
    "    RandomForestClassifier(random_state=random_seed),\n",
    "    ExtraTreesClassifier(random_state=random_seed)\n",
    "]\n",
    "\n",
    "y_pred_proba_all = []\n",
    "\n",
    "# 训练固定的基学习器\n",
    "for model in models:\n",
    "    model_name = model.__class__.__name__\n",
    "    model.fit(X_train2, y_train2)\n",
    "    y_pred_proba = model.predict_proba(X_valid)\n",
    "    y_pred = model.predict(X_valid)\n",
    "    print(\"model_name: %s, valid weighted f1 score:%f\" %(model_name, f1_score(y_valid, y_pred, average=\"weighted\")))\n",
    "    y_pred_proba_all.append(y_pred_proba)"
   ]
  },
  {
   "cell_type": "code",
   "execution_count": 34,
   "metadata": {
    "collapsed": true
   },
   "outputs": [],
   "source": [
    "classifier_num = 9\n",
    "population_num = 1000\n",
    "retain_population_num = 100\n",
    "max_iteration = 100\n",
    "population_weights = np.zeros((population_num, classifier_num))\n",
    "population_retain_weights = np.zeros((retain_population_num, classifier_num))\n",
    "population_score = []\n",
    "population_retain_score = []\n",
    "all_best_weights = np.zeros((max_iteration, classifier_num)) # 所有迭代中最好的种群\n",
    "all_best_f1s = np.zeros(max_iteration) # 所有迭代中最好的f1\n",
    "\n",
    "mu = np.zeros(classifier_num)\n",
    "sigma = np.ones(classifier_num)\n"
   ]
  },
  {
   "cell_type": "code",
   "execution_count": 40,
   "metadata": {},
   "outputs": [
    {
     "name": "stdout",
     "output_type": "stream",
     "text": [
      "Iteration: 0\n"
     ]
    },
    {
     "name": "stderr",
     "output_type": "stream",
     "text": [
      "/Users/alex/anaconda3/envs/gc/lib/python3.6/site-packages/sklearn/metrics/classification.py:1135: UndefinedMetricWarning: F-score is ill-defined and being set to 0.0 in labels with no predicted samples.\n",
      "  'precision', 'predicted', average, warn_for)\n"
     ]
    },
    {
     "name": "stdout",
     "output_type": "stream",
     "text": [
      "Iteration: 1\n",
      "Iteration: 2\n",
      "Iteration: 3\n",
      "Iteration: 4\n",
      "Iteration: 5\n",
      "Iteration: 6\n",
      "Iteration: 7\n",
      "Iteration: 8\n",
      "Iteration: 9\n",
      "Iteration: 10\n",
      "Iteration: 11\n",
      "Iteration: 12\n",
      "Iteration: 13\n",
      "Iteration: 14\n",
      "Iteration: 15\n",
      "Iteration: 16\n",
      "Iteration: 17\n",
      "Iteration: 18\n",
      "Iteration: 19\n",
      "Iteration: 20\n",
      "Iteration: 21\n",
      "Iteration: 22\n",
      "Iteration: 23\n",
      "Iteration: 24\n",
      "Iteration: 25\n",
      "Iteration: 26\n",
      "Iteration: 27\n",
      "Iteration: 28\n",
      "Iteration: 29\n",
      "Iteration: 30\n",
      "Iteration: 31\n",
      "Iteration: 32\n",
      "Iteration: 33\n",
      "Iteration: 34\n",
      "Iteration: 35\n",
      "Iteration: 36\n",
      "Iteration: 37\n",
      "Iteration: 38\n",
      "Iteration: 39\n",
      "Iteration: 40\n",
      "Iteration: 41\n",
      "Iteration: 42\n",
      "Iteration: 43\n",
      "Iteration: 44\n",
      "Iteration: 45\n",
      "Iteration: 46\n",
      "Iteration: 47\n",
      "Iteration: 48\n",
      "Iteration: 49\n",
      "Iteration: 50\n",
      "Iteration: 51\n",
      "Iteration: 52\n",
      "Iteration: 53\n",
      "Iteration: 54\n",
      "Iteration: 55\n",
      "Iteration: 56\n",
      "Iteration: 57\n",
      "Iteration: 58\n",
      "Iteration: 59\n",
      "Iteration: 60\n",
      "Iteration: 61\n",
      "Iteration: 62\n",
      "Iteration: 63\n",
      "Iteration: 64\n",
      "Iteration: 65\n",
      "Iteration: 66\n",
      "Iteration: 67\n",
      "Iteration: 68\n",
      "Iteration: 69\n",
      "Iteration: 70\n",
      "Iteration: 71\n",
      "Iteration: 72\n",
      "Iteration: 73\n",
      "Iteration: 74\n",
      "Iteration: 75\n",
      "Iteration: 76\n",
      "Iteration: 77\n",
      "Iteration: 78\n",
      "Iteration: 79\n",
      "Iteration: 80\n",
      "Iteration: 81\n",
      "Iteration: 82\n",
      "Iteration: 83\n",
      "Iteration: 84\n",
      "Iteration: 85\n",
      "Iteration: 86\n",
      "Iteration: 87\n",
      "Iteration: 88\n",
      "Iteration: 89\n",
      "Iteration: 90\n",
      "Iteration: 91\n",
      "Iteration: 92\n",
      "Iteration: 93\n",
      "Iteration: 94\n",
      "Iteration: 95\n",
      "Iteration: 96\n",
      "Iteration: 97\n",
      "Iteration: 98\n",
      "Iteration: 99\n"
     ]
    }
   ],
   "source": [
    "# 在训练集上: 训练每个基学习器的投票参数\n",
    "for i in range(max_iteration):\n",
    "    print(\"Iteration: %d\" %(i))\n",
    "    # 该次迭代的所有种群们\n",
    "    population_score = np.zeros(population_num)\n",
    "    population_weights = np.zeros((population_num, classifier_num))\n",
    "    # 该次迭代的优势种群们\n",
    "    population_retain_score = np.zeros(retain_population_num)\n",
    "    population_retain_weights = np.zeros((retain_population_num, classifier_num))\n",
    "    \n",
    "    # 生成所有种群\n",
    "    for j in range(classifier_num):\n",
    "        w = np.random.normal(mu[j], sigma[j]+700/(i+1), population_num)\n",
    "        population_weights[:,j] = w\n",
    "        \n",
    "    # 映射所有种群的权重至[0:1]    \n",
    "    for j in range(population_num):\n",
    "        w2 = np.zeros(classifier_num)\n",
    "        for k in range(classifier_num):\n",
    "            w2[k] = np.exp(-population_weights[j][k]*population_weights[j][k])\n",
    "            # w2[k] = np.exp(population_weights[j][k])/np.sum(np.exp(population_weights[j]))\n",
    "        population_weights[j] = w2\n",
    "    \n",
    "    # 计算所有种群得分\n",
    "    for j in range(population_num):\n",
    "        y_pred_ensemble_proba = np.zeros((len(y_valid), 6)) # 集成器概率向量\n",
    "        # 为每一个基学习器乘上权重\n",
    "        for k in range(classifier_num):\n",
    "            y_pred_ensemble_proba += y_pred_proba_all[k] * population_weights[j][k]\n",
    "        y_pred_ensemble = np.argmax(y_pred_ensemble_proba, axis=1)\n",
    "        f1 = f1_score(y_valid, y_pred_ensemble, average=\"weighted\")\n",
    "        population_score[j] = f1\n",
    "\n",
    "    # 所有种群得分按降序排列\n",
    "    retain_index = np.argsort(-np.array(population_score))[:retain_population_num]\n",
    "    \n",
    "    # 记录该次迭代中的优势种群们\n",
    "    population_retain_weights = population_weights[retain_index]\n",
    "    population_retain_score = np.array(population_score)[retain_index]\n",
    "    \n",
    "    # 记录每次迭代最好的种群和value\n",
    "    all_best_weights[i] = population_retain_weights[0]\n",
    "    all_best_f1s[i] = population_retain_score[0]\n",
    "    \n",
    "    # 更新mu，sigma为优势种群们的分布\n",
    "    mu = np.mean(population_retain_weights, axis = 0)\n",
    "    sigma = np.std(population_retain_weights, axis = 0) #default: ddof = 0, The divisor used in calculations is N - ddof\n",
    "#     print(\"mu\\n\",mu)\n",
    "#     print(\"sigma\\n\", sigma)\n",
    "#     print(\"Weighted F1 Score after rank\")\n",
    "#     print(population_retain_score)\n",
    "#     print(\"Weights\")\n",
    "#     print(population_retain_weights)"
   ]
  },
  {
   "cell_type": "code",
   "execution_count": 41,
   "metadata": {},
   "outputs": [
    {
     "name": "stdout",
     "output_type": "stream",
     "text": [
      "Last f1: 0.994051\n",
      "Best f1: 0.994052\n",
      "Last Weight: [6.92235471e-045 1.20492856e-037 5.96628338e-024 7.86603983e-011\n",
      " 1.00574821e-013 1.24564609e-001 2.47115594e-071 8.24179046e-001\n",
      " 8.64699903e-117]\n",
      "Best Weight: [1.12660992e-030 7.07461096e-001 3.30854254e-002 1.01045657e-001\n",
      " 2.26331620e-176 1.89247094e-004 2.77796553e-023 9.73206777e-001\n",
      " 4.31925945e-036]\n",
      "Last mu\n",
      " [0.05587584 0.03650158 0.00799126 0.02885989 0.00531625 0.01426472\n",
      " 0.00908654 0.53010577 0.07294999]\n",
      "Last sigma\n",
      " [0.18265499 0.11693676 0.0412887  0.0914033  0.0219421  0.06693403\n",
      " 0.03857639 0.33923456 0.23235347]\n"
     ]
    }
   ],
   "source": [
    "last_weight = population_retain_weights[0]\n",
    "last_f1 = all_best_f1s[-1]\n",
    "best_f1 = all_best_f1s[np.argmax(all_best_f1s)]\n",
    "best_weight = population_retain_weights[np.argmax(all_best_f1s)]\n",
    "print(\"Last f1: %f\" % (last_f1))\n",
    "print(\"Best f1: %f\" % (best_f1))\n",
    "print(\"Last Weight: %s\" %(last_weight))\n",
    "print(\"Best Weight: %s\" %(best_weight))\n",
    "print(\"Last mu\\n\",mu)\n",
    "print(\"Last sigma\\n\", sigma)"
   ]
  },
  {
   "cell_type": "code",
   "execution_count": 42,
   "metadata": {},
   "outputs": [
    {
     "data": {
      "text/plain": [
       "<matplotlib.legend.Legend at 0x1100319b0>"
      ]
     },
     "execution_count": 42,
     "metadata": {},
     "output_type": "execute_result"
    },
    {
     "data": {
      "image/png": "[encoded data removed]",
      "text/plain": [
       "<Figure size 720x432 with 1 Axes>"
      ]
     },
     "metadata": {},
     "output_type": "display_data"
    }
   ],
   "source": [
    "plt.figure(figsize=(10,6))\n",
    "plt.plot(all_best_f1s, label = 'Weighted F1 Score')\n",
    "plt.xlabel('Iteration')\n",
    "plt.ylabel('Weighted F1 Score on validation set')\n",
    "plt.legend(frameon=False)"
   ]
  },
  {
   "cell_type": "code",
   "execution_count": 45,
   "metadata": {},
   "outputs": [
    {
     "data": {
      "text/plain": [
       "<Figure size 432x288 with 0 Axes>"
      ]
     },
     "metadata": {},
     "output_type": "display_data"
    }
   ],
   "source": [
    "plt.savefig('../img/weighed_F1_iteration(1-9).eps',format='eps')"
   ]
  },
  {
   "cell_type": "markdown",
   "metadata": {},
   "source": [
    "测试集"
   ]
  },
  {
   "cell_type": "code",
   "execution_count": 44,
   "metadata": {},
   "outputs": [
    {
     "name": "stdout",
     "output_type": "stream",
     "text": [
      "model_name: LogisticRegression, test accuracy:0.670980, weighted f1 score:0.620574\n",
      "model_name: LinearDiscriminantAnalysis, test accuracy:0.625019, weighted f1 score:0.576099\n"
     ]
    },
    {
     "name": "stderr",
     "output_type": "stream",
     "text": [
      "/Users/alex/anaconda3/envs/gc/lib/python3.6/site-packages/sklearn/metrics/classification.py:1135: UndefinedMetricWarning: F-score is ill-defined and being set to 0.0 in labels with no predicted samples.\n",
      "  'precision', 'predicted', average, warn_for)\n"
     ]
    },
    {
     "name": "stdout",
     "output_type": "stream",
     "text": [
      "model_name: SVC, test accuracy:0.895880, weighted f1 score:0.894545\n",
      "model_name: DecisionTreeClassifier, test accuracy:0.970846, weighted f1 score:0.970989\n",
      "model_name: ExtraTreeClassifier, test accuracy:0.880113, weighted f1 score:0.880194\n",
      "model_name: GaussianNB, test accuracy:0.824037, weighted f1 score:0.822296\n",
      "model_name: KNeighborsClassifier, test accuracy:0.897813, weighted f1 score:0.897799\n",
      "model_name: RandomForestClassifier, test accuracy:0.976052, weighted f1 score:0.976184\n",
      "model_name: ExtraTreesClassifier, test accuracy:0.962517, weighted f1 score:0.962632\n",
      "             precision    recall  f1-score   support\n",
      "\n",
      "          1       0.91      0.99      0.95       488\n",
      "          2       0.99      0.98      0.98      2655\n",
      "          3       0.98      0.98      0.98      1760\n",
      "          4       0.98      0.97      0.97      1094\n",
      "          5       0.93      0.93      0.93       297\n",
      "          6       0.96      0.99      0.97       429\n",
      "\n",
      "avg / total       0.98      0.98      0.98      6723\n",
      "\n",
      "1 accuaracy: 0.993852\n",
      "2 accuaracy: 0.976271\n",
      "3 accuaracy: 0.980114\n",
      "4 accuaracy: 0.970750\n",
      "5 accuaracy: 0.932660\n",
      "6 accuaracy: 0.988345\n",
      "acc: 0.976498586940354\n",
      "f1_weighted 0.9766169231055404\n"
     ]
    }
   ],
   "source": [
    "y_test_pred_proba_all = []\n",
    "for model in models:\n",
    "    model_name = model.__class__.__name__\n",
    "    y_test_pred_proba = model.predict_proba(X_test)\n",
    "    y_test_pred = model.predict(X_test)\n",
    "    print(\"model_name: %s, test accuracy:%f, weighted f1 score:%f\" %(model_name, accuracy_score(y_test, y_test_pred), f1_score(y_test, y_test_pred, average=\"weighted\")))\n",
    "    y_test_pred_proba_all.append(y_test_pred_proba)\n",
    "    \n",
    "    \n",
    "y_test_pred_ensemble_proba = np.zeros((len(y_test), 6)) # 集成器概率向量\n",
    "\n",
    "# 为每一个基学习器乘上权重\n",
    "for k in range(classifier_num):\n",
    "    y_test_pred_ensemble_proba += y_test_pred_proba_all[k] * best_weight[k]\n",
    "y_test_pred_ensemble = np.argmax(y_test_pred_ensemble_proba, axis=1) + 1\n",
    "\n",
    "print(classification_report(y_test, y_test_pred_ensemble))\n",
    "\n",
    "cm = confusion_matrix(y_test, y_test_pred_ensemble)\n",
    "i=0\n",
    "acc_all = np.zeros(6)\n",
    "for c in cm:\n",
    "    acc_all[i] = c[i]/np.sum(c)\n",
    "    print(\"%d accuaracy: %f\" %(i+1, acc_all[i]))\n",
    "    i=i+1\n",
    "print(\"acc:\", np.sum(y_test == y_test_pred_ensemble)/y_test_pred_ensemble.shape[0])\n",
    "print('f1_weighted', f1_score(y_test, y_test_pred_ensemble, average='weighted'))"
   ]
  },
  {
   "cell_type": "code",
   "execution_count": 48,
   "metadata": {
    "collapsed": true
   },
   "outputs": [],
   "source": [
    "np.save(\"../npy/CE_best_weights(1-9).npy\", best_weight)\n",
    "np.save(\"../npy/CE_best_mu(1-9).npy\", mu)\n",
    "np.save(\"../npy/CE_best_sigma(1-9).npy\", sigma)\n",
    "import pickle\n",
    "for model in models:\n",
    "    model_name = model.__class__.__name__\n",
    "    with open(\"../pkl/CE_\" + model_name + \".pkl\", \"wb\") as f:\n",
    "        pickle.dump(model, f, pickle.HIGHEST_PROTOCOL)"
   ]
  },
  {
   "cell_type": "code",
   "execution_count": 19,
   "metadata": {
    "collapsed": true
   },
   "outputs": [],
   "source": [
    "# model = XGBClassifier(base_score=0.5, booster='gbtree', colsample_bylevel=1,\n",
    "#        colsample_bytree=0.8, gamma=0, learning_rate=0.1, max_delta_step=0,\n",
    "#        max_depth=20, min_child_weight=1, missing=None, n_estimators=1000,\n",
    "#        n_jobs=-1, nthread=None, objective='binary:logistic', random_state=0,\n",
    "#        reg_alpha=0, reg_lambda=1, scale_pos_weight=10, seed=42, silent=True,\n",
    "#        subsample=0.8)\n",
    "\n",
    "# model.fit(X_train, y_train)\n",
    "# y_test_pred = model.predict(X_test)\n",
    "# print(f1_score(y_test, y_test_pred, average=\"weighted\"))"
   ]
  },
  {
   "cell_type": "code",
   "execution_count": 20,
   "metadata": {
    "collapsed": true
   },
   "outputs": [],
   "source": [
    "# param_test1 = {\n",
    "#     'n_estimators':np.arange(10,100,20),\n",
    "# }\n",
    "\n",
    "# gsearch1 = GridSearchCV(estimator = XGBClassifier(learning_rate =0.1, \n",
    "#                                                   gamma=0, \n",
    "#                                                   subsample=0.8, \n",
    "#                                                   colsample_bytree=0.8,\n",
    "#                                                   max_depth=4,\n",
    "#                                                   objective= 'binary:logistic', \n",
    "#                                                   scale_pos_weight=1, \n",
    "#                                                   seed=random_seed), \n",
    "#                                                  param_grid = param_test1, scoring=score, n_jobs=-1, cv=cv)\n",
    "# gsearch1.fit(X_train, y_train)\n",
    "\n",
    "# gsearch1.grid_scores_, gsearch1.best_params_, gsearch1.best_score_"
   ]
  },
  {
   "cell_type": "code",
   "execution_count": 21,
   "metadata": {
    "collapsed": true
   },
   "outputs": [],
   "source": [
    "# best_clf = gsearch1.best_estimator_\n",
    "# best_clf.fit(X_train, y_train)\n",
    "\n",
    "# y_test_pred = best_clf.predict(X_test)\n",
    "\n",
    "# print(\"Test f1: %f\" %(f1_score(y_test, y_test_pred, average=\"weighted\")))"
   ]
  },
  {
   "cell_type": "code",
   "execution_count": null,
   "metadata": {
    "collapsed": true
   },
   "outputs": [],
   "source": []
  },
  {
   "cell_type": "code",
   "execution_count": null,
   "metadata": {
    "collapsed": true
   },
   "outputs": [],
   "source": []
  }
 ],
 "metadata": {
  "kernelspec": {
   "display_name": "Python 3",
   "language": "python",
   "name": "python3"
  },
  "language_info": {
   "codemirror_mode": {
    "name": "ipython",
    "version": 3
   },
   "file_extension": ".py",
   "mimetype": "text/x-python",
   "name": "python",
   "nbconvert_exporter": "python",
   "pygments_lexer": "ipython3",
   "version": "3.6.1"
  }
 },
 "nbformat": 4,
 "nbformat_minor": 2
}
